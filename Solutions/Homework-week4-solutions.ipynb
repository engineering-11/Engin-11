{
 "cells": [
  {
   "cell_type": "markdown",
   "metadata": {},
   "source": [
    "## Part 0:\n",
    "Push your Lab4 Jupyter notebook to your private repository.\n",
    "\n",
    "## Part 1: Copy this notebook\n",
    "\n",
    "Get a local compy of this notebook by following these steps:\n",
    "1. Open your command-line terminal and go to the Activities git repository folder\n",
    "\n",
    "```\n",
    "$ cd ~/Activities\n",
    "```\n",
    "\n",
    "2. Pickup the added files from the master branch\n",
    "\n",
    "```\n",
    "$ git checkout master\n",
    "$ git pull\n",
    "```\n",
    "\n",
    "NOTE: If you have any error messages related to local files that have been modified, make note of the issue (e.g. take a screen shot) and then 'stash' your local modifications:\n",
    "\n",
    "```\n",
    "$ git stash\n",
    "$ git checkout master\n",
    "$ git pull\n",
    "```\n",
    "\n",
    "3. You should now see a jupyter notebook in the Activities folder. `ls` should include `Homework-week4.ipynb`\n",
    "\n",
    "\n",
    "4. Copy this jupyter notebook to your private repository:\n",
    "\n",
    "```\n",
    "$ cd ~\n",
    "$ cp Activities/Homework-week4.ipynb E11-work/\n",
    "```\n",
    "\n",
    "NOTE: If you named your private repository something other than `E11-work`, you should substitute the name of your repository in place of `E11-work` in these instructions.\n",
    "\n",
    "5. Open this notebook through the jupyter browser: launch jupyter and navigate to the E11-work (your private repository) directory and open this notebook from that directory.\n",
    "\n",
    "\n",
    "6. Embed your answers to the following questions within this copy of the notebook.\n",
    "\n",
    "\n",
    "NOTE: For non-numerical answers, you can make your answers in Markdown by selecting 'Markdown' in the drop-down menu for the cell type in the toolbar. \n",
    "\n",
    "Please either include Markdown, text in a print statement, or comments in your code cells, to describe what you are doing when you are using python code to provide your answer. Please show all work.\n",
    "\n",
    "\n",
    "## Part 2: Homework questions"
   ]
  },
  {
   "cell_type": "code",
   "execution_count": 3,
   "metadata": {},
   "outputs": [],
   "source": [
    "import numpy as np"
   ]
  },
  {
   "cell_type": "markdown",
   "metadata": {},
   "source": [
    "1.a. You have a radiation detector. It collects 250 interactions - counts - within a 5 second interval. What is the uncertainty on that measurement?"
   ]
  },
  {
   "cell_type": "code",
   "execution_count": 4,
   "metadata": {},
   "outputs": [
    {
     "name": "stdout",
     "output_type": "stream",
     "text": [
      "The uncertainty on Ncounts = 250 is 15.811388300841896\n"
     ]
    }
   ],
   "source": [
    "error = np.sqrt(250)\n",
    "print(\"The uncertainty on Ncounts = 250 is {}\".format(error))"
   ]
  },
  {
   "cell_type": "markdown",
   "metadata": {},
   "source": [
    "1.b. What fraction of measurements will be within one sigma (your answer above) of 250 counts?"
   ]
  },
  {
   "cell_type": "markdown",
   "metadata": {},
   "source": [
    "> Counts from radiation follow a normal distribution (Gaussian), so ~67% will fall within one sigma of the mean."
   ]
  },
  {
   "cell_type": "markdown",
   "metadata": {},
   "source": [
    "1.c. How many counts-per-second does this measurement correspond to? What is the uncertainty on that value?"
   ]
  },
  {
   "cell_type": "code",
   "execution_count": 5,
   "metadata": {},
   "outputs": [
    {
     "name": "stdout",
     "output_type": "stream",
     "text": [
      "The cps = 50.0, with uncertainty = 3.162277660168379\n"
     ]
    }
   ],
   "source": [
    "cps = 250/5\n",
    "cps_error = np.sqrt(250)/5\n",
    "print(\"The cps = {}, with uncertainty = {}\".format(cps,cps_error))"
   ]
  },
  {
   "cell_type": "markdown",
   "metadata": {},
   "source": [
    "2.a. In this image of [data with uncertainties](https://github.com/engineering-11/Engin-11/blob/master/Images/uncertainties_figure1.png), counts-per-minute (CPM) are being plotted as a function of time. Remember, because this is showing CPM, the uncertainties shown are not going to be related to the measured CPM in the same way they would be if this were showing total counts. However, these uncertainties should still be showing the 1-sigma range for a Gaussian distribution. With that in mind, are these points fluctuating as expected given the shown uncertainties? Explain your answer. "
   ]
  },
  {
   "cell_type": "markdown",
   "metadata": {},
   "source": [
    "> The uncertainties shown are too large. Roughly 1/3 of the points should be more than one standard deviation outside away from the mean, but in this case all of the points are well within 1-sigma of the mean."
   ]
  },
  {
   "cell_type": "markdown",
   "metadata": {},
   "source": [
    "2.b. Now consider this image of [data with uncertainties](https://github.com/engineering-11/Engin-11/blob/master/Images/uncertainties_figure2.png) and answer the same question."
   ]
  },
  {
   "cell_type": "markdown",
   "metadata": {},
   "source": [
    "> In this case, the data seems to be fluctuating slightly more than the uncertainties would allow for if the variations were purely statistical. This suggests that there may be a physical cause for some of the observed variation, like the underlying decay rate is changing, or there is an issue with the detector that causes mor evariation than expected."
   ]
  },
  {
   "cell_type": "markdown",
   "metadata": {},
   "source": [
    "3.a. If you are given a set of CPM measurements, `[20, 40, 18, 30, 45, 25, 35, 32]`, each taken over 10 minute intervals. Calculate the uncertainty on each measurement? (Remember that the CPM values are not the total counts measured.)"
   ]
  },
  {
   "cell_type": "code",
   "execution_count": 20,
   "metadata": {},
   "outputs": [
    {
     "name": "stdout",
     "output_type": "stream",
     "text": [
      "[1.41421356 2.         1.34164079 1.73205081 2.12132034 1.58113883\n",
      " 1.87082869 1.78885438]\n"
     ]
    }
   ],
   "source": [
    "cpm = np.array([20, 40, 18, 30, 45, 25, 35, 32])\n",
    "data = cpm*10\n",
    "cpm_errors = np.sqrt(data)/10\n",
    "print(cpm_errors)"
   ]
  },
  {
   "cell_type": "markdown",
   "metadata": {},
   "source": [
    "3.b. Are these measurements consistent? In other words, given the uncertainties you determined, is the variation between the measurements within those statistical uncertainties, or is something else required to explain the variation? Explain your answer."
   ]
  },
  {
   "cell_type": "markdown",
   "metadata": {},
   "source": [
    "> Based on the uncertainties, we would expect ~67% of measurements to be within 2 CPM of eachother. These results are much farther apart, and therefore statistical uncertainties alone are not sufficient to explain the observed variation. We can quantify this by looking at the measured variation in the data."
   ]
  },
  {
   "cell_type": "code",
   "execution_count": 15,
   "metadata": {},
   "outputs": [
    {
     "data": {
      "text/plain": [
       "8.802520945729126"
      ]
     },
     "execution_count": 15,
     "metadata": {},
     "output_type": "execute_result"
    }
   ],
   "source": [
    "np.std(cpm)"
   ]
  },
  {
   "cell_type": "markdown",
   "metadata": {},
   "source": [
    "> So we see that the standard deviation on the measured CPM data is much larger than the expected standard deviation (sigma) from the counting statistics."
   ]
  },
  {
   "cell_type": "markdown",
   "metadata": {},
   "source": [
    "3.c. Do the same with this set of CPM measurements, still taken over 10 minute intervals: \n",
    "\n",
    "```\n",
    "[45, 48, 43, 44, 46, 42, 47, 40]\n",
    "```\n",
    "\n",
    "Are these variations explainable by your calculated statistical uncertainties?"
   ]
  },
  {
   "cell_type": "code",
   "execution_count": 19,
   "metadata": {},
   "outputs": [
    {
     "name": "stdout",
     "output_type": "stream",
     "text": [
      "[2.12132034 2.19089023 2.07364414 2.0976177  2.14476106 2.04939015\n",
      " 2.16794834 2.        ]\n",
      "2.496873044429772\n"
     ]
    }
   ],
   "source": [
    "cpm = np.array([45, 48, 43, 44, 46, 42, 47, 40])\n",
    "data = cpm*10\n",
    "cpm_errors = np.sqrt(data)/10\n",
    "# The uncertainties on each point come from the sqrt(N) counting statistics\n",
    "print(cpm_errors)\n",
    "# The variation in the data can be determined from the measured standard deviation\n",
    "print(np.std(cpm))"
   ]
  },
  {
   "cell_type": "markdown",
   "metadata": {},
   "source": [
    "> In this case, the variation in the data is only slightly larger than the expected variation from the counting statistics. Since this is such a small sample, we would expect the measured variation to be slightly larger than the true counting statistics uncertainty, so it's likley that this sample variation is explainable by the counting statistics."
   ]
  },
  {
   "cell_type": "markdown",
   "metadata": {},
   "source": [
    "4.a. Here is a list of data (measurements) with uncertainties:\n",
    "```\n",
    "120 +/- 5.5, 125 +/- 5.6, 118 +/- 5.4, 122 +/- 5.5, 116 +/- 5.4 \n",
    "```\n",
    "\n",
    "Combine this data: determine the **mean** and **uncertainty** of the combined measurement. Show your work. \n",
    "\n",
    "HINT: Do not calculate the standard deviation on the data to determine the combined uncertainty, instead combine the given uncertainties in the way we learned in class."
   ]
  },
  {
   "cell_type": "code",
   "execution_count": 23,
   "metadata": {},
   "outputs": [
    {
     "name": "stdout",
     "output_type": "stream",
     "text": [
      "mean = 120.2\n",
      "uncertainty = 2.450958995985041\n"
     ]
    }
   ],
   "source": [
    "# Combined mean\n",
    "data = np.array([120,125,118,122,116])\n",
    "print(\"mean = {}\".format(np.mean(data)))\n",
    "errors = np.array([5.5,5.6,5.4,5.5,5.4])\n",
    "combined_error = np.sqrt(np.sum(np.power(errors,2)))/len(data)\n",
    "print(\"uncertainty = {}\".format(combined_error))"
   ]
  },
  {
   "cell_type": "markdown",
   "metadata": {},
   "source": [
    "4.b. We have two detectors measuring the same radiation source. One of the detectors is measuring an activity from the source of $3235 +/- 12.5$, the other is measuring an activity of $3178 +/- 143.6$. Combine these two results to determine the most likely activity (combined mean) and the combined uncertainty."
   ]
  },
  {
   "cell_type": "code",
   "execution_count": 27,
   "metadata": {},
   "outputs": [
    {
     "name": "stdout",
     "output_type": "stream",
     "text": [
      "The combined mean and uncertainty are 3234.5713452383643 +/- 12.45290968147567\n"
     ]
    }
   ],
   "source": [
    "# mean/sigma^2 = sum(mean_1/simga_1^2 + mean_2/sigma_2^2)\n",
    "# 1/sigma^2 = sum(1/sigma_1^2 + 1/sigma_2^2)\n",
    "sigma_total = np.sqrt(1/(1/(143.6*143.6) + 1/(12.5*12.5)))\n",
    "mean_total = (3235/(12.5*12.5)+3178/(143.6*143.6))*sigma_total*sigma_total\n",
    "print(\"The combined mean and uncertainty are {} +/- {}\".format(mean_total,sigma_total))"
   ]
  },
  {
   "cell_type": "markdown",
   "metadata": {},
   "source": [
    "5.a. You have a radiation detector that is able to detect $2\\%$ of all radioactive decays produced by a source placed in front of it. If you place a source with an activity of $11235 Bq$ in front of the detector, what do you expect the measured counts-per-second (CPS) to be? Show your work."
   ]
  },
  {
   "cell_type": "code",
   "execution_count": 29,
   "metadata": {},
   "outputs": [
    {
     "data": {
      "text/plain": [
       "224.70000000000002"
      ]
     },
     "execution_count": 29,
     "metadata": {},
     "output_type": "execute_result"
    }
   ],
   "source": [
    "cps = 11235*0.02\n",
    "cps"
   ]
  },
  {
   "cell_type": "markdown",
   "metadata": {},
   "source": [
    "5.b. What is the expected fluctuation in the actual number of decays each second? Show your work."
   ]
  },
  {
   "cell_type": "code",
   "execution_count": 30,
   "metadata": {},
   "outputs": [
    {
     "name": "stdout",
     "output_type": "stream",
     "text": [
      "Expected fluctuations = 105.99528291391084\n"
     ]
    }
   ],
   "source": [
    "# Fluctuations in actual number of decays is determined from the activity, not the cps\n",
    "sigma_true = np.sqrt(11235)\n",
    "print(\"Expected fluctuations = {}\".format(sigma_true))"
   ]
  },
  {
   "cell_type": "markdown",
   "metadata": {},
   "source": [
    "5.c. If you take data in 10s intervals, what will the most likely number of counts collected be and how much will that value vary from measurement to measurement? In other words, what is the uncertainty, or standard deviation, on that measurement? Show your work."
   ]
  },
  {
   "cell_type": "code",
   "execution_count": 32,
   "metadata": {},
   "outputs": [
    {
     "name": "stdout",
     "output_type": "stream",
     "text": [
      "Measured counts = 2247.0 +/- 47.40253157796533\n"
     ]
    }
   ],
   "source": [
    "counts = cps * 10\n",
    "counts_sigma = np.sqrt(counts)\n",
    "print(\"Measured counts = {} +/- {}\".format(counts,counts_sigma))"
   ]
  },
  {
   "cell_type": "markdown",
   "metadata": {},
   "source": [
    "6. You have a $CO_{2}$ sensor that you are testing the reliability of in your lab. You are collecting data in a controlled environment where the actual $CO_{2}$ level in parts-per-million (ppm) is held at $450 ppm$. Your detector is measuring $512 +/- 3.4$. You want to now use this detector to measure the $CO_{2}$ levels in your office, to make sure your ventelation is working. How precise is your detector, i.e. what is the percent uncertainty? How accurate is it and can you make more accurate?"
   ]
  },
  {
   "cell_type": "code",
   "execution_count": 33,
   "metadata": {},
   "outputs": [
    {
     "name": "stdout",
     "output_type": "stream",
     "text": [
      "percent uncertainty = 0.006640625\n"
     ]
    }
   ],
   "source": [
    "# percent uncertainty = unc./value\n",
    "p_unc = 3.4/512\n",
    "print(\"percent uncertainty = {}\".format(p_unc))"
   ]
  },
  {
   "cell_type": "code",
   "execution_count": 34,
   "metadata": {},
   "outputs": [
    {
     "name": "stdout",
     "output_type": "stream",
     "text": [
      "The detector will measure a CO2 that is higher than the true value by 62\n"
     ]
    }
   ],
   "source": [
    "sys_shift = 512 - 450\n",
    "print(\"The detector will measure a CO2 that is higher than the true value by {}\".format(sys_shift))"
   ]
  },
  {
   "cell_type": "markdown",
   "metadata": {},
   "source": [
    "> You can correct for the observed systematic shift in the measured CO2 value by simply subtracting by that measured shift from your measurement"
   ]
  },
  {
   "cell_type": "code",
   "execution_count": null,
   "metadata": {},
   "outputs": [],
   "source": []
  }
 ],
 "metadata": {
  "kernelspec": {
   "display_name": "Python 3",
   "language": "python",
   "name": "python3"
  },
  "language_info": {
   "codemirror_mode": {
    "name": "ipython",
    "version": 3
   },
   "file_extension": ".py",
   "mimetype": "text/x-python",
   "name": "python",
   "nbconvert_exporter": "python",
   "pygments_lexer": "ipython3",
   "version": "3.7.3"
  }
 },
 "nbformat": 4,
 "nbformat_minor": 2
}
