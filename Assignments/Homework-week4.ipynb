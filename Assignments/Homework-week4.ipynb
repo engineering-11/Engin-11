{
 "cells": [
  {
   "cell_type": "markdown",
   "metadata": {},
   "source": [
    "## Part 1: Copy this notebook\n",
    "\n",
    "Get a local compy of this notebook by following these steps:\n",
    "1. Open your command-line terminal and go to the Activities git repository folder\n",
    "\n",
    "```\n",
    "$ cd ~/Activities\n",
    "```\n",
    "\n",
    "2. Pickup the added files from the master branch\n",
    "\n",
    "```\n",
    "$ git checkout master\n",
    "$ git pull\n",
    "```\n",
    "\n",
    "NOTE: If you have any error messages related to local files that have been modified, make note of the issue (e.g. take a screen shot) and then 'stash' your local modifications:\n",
    "\n",
    "```\n",
    "$ git stash\n",
    "$ git checkout master\n",
    "$ git pull\n",
    "```\n",
    "\n",
    "3. You should now see a jupyter notebook in the Activities folder. `ls` should include `Homework-week4.ipynb`\n",
    "\n",
    "\n",
    "4. Copy this jupyter notebook to your private repository:\n",
    "\n",
    "```\n",
    "$ cd ~\n",
    "$ cp Activities/Homework-week4.ipynb E11-work/\n",
    "```\n",
    "\n",
    "NOTE: If you named your private repository something other than `E11-work`, you should substitute the name of your repository in place of `E11-work` in these instructions.\n",
    "\n",
    "5. Open this notebook through the jupyter browser: launch jupyter and navigate to the E11-work (your private repository) directory and open this notebook from that directory.\n",
    "\n",
    "\n",
    "6. Embed your answers to the following questions within this copy of the notebook.\n",
    "\n",
    "\n",
    "NOTE: For non-numerical answers, you can make your answers in Markdown by selecting 'Markdown' in the drop-down menu for the cell type in the toolbar. \n",
    "\n",
    "Please either include Markdown, text in a print statement, or comments in your code cells, to describe what you are doing when you are using python code to provide your answer. Please show all work.\n",
    "\n",
    "\n",
    "## Part 2: Homework questions"
   ]
  },
  {
   "cell_type": "markdown",
   "metadata": {},
   "source": [
    "1. You have a radiation detector. It collects 250 interactions - counts - within a 5 second interval. What is the uncertainty on that measurement?"
   ]
  },
  {
   "cell_type": "code",
   "execution_count": null,
   "metadata": {},
   "outputs": [],
   "source": []
  },
  {
   "cell_type": "markdown",
   "metadata": {},
   "source": [
    "1.a. What fraction of measurements will be within one sigma (your answer above) of 250 counts?"
   ]
  },
  {
   "cell_type": "code",
   "execution_count": null,
   "metadata": {},
   "outputs": [],
   "source": []
  },
  {
   "cell_type": "markdown",
   "metadata": {},
   "source": [
    "1.b. How many counts-per-second does this measurement correspond to? What is the uncertainty on that value?"
   ]
  },
  {
   "cell_type": "code",
   "execution_count": null,
   "metadata": {},
   "outputs": [],
   "source": []
  },
  {
   "cell_type": "code",
   "execution_count": null,
   "metadata": {},
   "outputs": [],
   "source": []
  }
 ],
 "metadata": {
  "kernelspec": {
   "display_name": "Python 3",
   "language": "python",
   "name": "python3"
  },
  "language_info": {
   "codemirror_mode": {
    "name": "ipython",
    "version": 3
   },
   "file_extension": ".py",
   "mimetype": "text/x-python",
   "name": "python",
   "nbconvert_exporter": "python",
   "pygments_lexer": "ipython3",
   "version": "3.7.1"
  }
 },
 "nbformat": 4,
 "nbformat_minor": 2
}
