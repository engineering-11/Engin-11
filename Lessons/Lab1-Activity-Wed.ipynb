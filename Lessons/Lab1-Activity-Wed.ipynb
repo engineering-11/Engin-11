{
 "cells": [
  {
   "cell_type": "code",
   "execution_count": 1,
   "id": "6f2f91ae",
   "metadata": {},
   "outputs": [
    {
     "name": "stdout",
     "output_type": "stream",
     "text": [
      "Hello World!\n"
     ]
    }
   ],
   "source": [
    "print(\"Hello World!\")"
   ]
  },
  {
   "cell_type": "code",
   "execution_count": 2,
   "id": "ac1fe46e",
   "metadata": {},
   "outputs": [],
   "source": [
    "a = 5"
   ]
  },
  {
   "cell_type": "code",
   "execution_count": 3,
   "id": "df9f6896",
   "metadata": {},
   "outputs": [
    {
     "name": "stdout",
     "output_type": "stream",
     "text": [
      "5\n"
     ]
    }
   ],
   "source": [
    "print(a)"
   ]
  },
  {
   "cell_type": "code",
   "execution_count": 4,
   "id": "00eea7bd",
   "metadata": {},
   "outputs": [
    {
     "ename": "NameError",
     "evalue": "name 'b' is not defined",
     "output_type": "error",
     "traceback": [
      "\u001b[1;31m---------------------------------------------------------------------------\u001b[0m",
      "\u001b[1;31mNameError\u001b[0m                                 Traceback (most recent call last)",
      "Cell \u001b[1;32mIn[4], line 1\u001b[0m\n\u001b[1;32m----> 1\u001b[0m \u001b[38;5;28mprint\u001b[39m(b)\n",
      "\u001b[1;31mNameError\u001b[0m: name 'b' is not defined"
     ]
    }
   ],
   "source": [
    "print(b)"
   ]
  },
  {
   "cell_type": "code",
   "execution_count": 5,
   "id": "d13dab86",
   "metadata": {},
   "outputs": [
    {
     "data": {
      "text/plain": [
       "50"
      ]
     },
     "execution_count": 5,
     "metadata": {},
     "output_type": "execute_result"
    }
   ],
   "source": [
    "5*10"
   ]
  },
  {
   "cell_type": "code",
   "execution_count": 6,
   "id": "6df1f6e3",
   "metadata": {},
   "outputs": [
    {
     "name": "stdout",
     "output_type": "stream",
     "text": [
      "50\n"
     ]
    }
   ],
   "source": [
    "b = 10\n",
    "c = a*b\n",
    "print(c)"
   ]
  },
  {
   "cell_type": "code",
   "execution_count": 7,
   "id": "a6ac1e70",
   "metadata": {},
   "outputs": [
    {
     "data": {
      "text/plain": [
       "int"
      ]
     },
     "execution_count": 7,
     "metadata": {},
     "output_type": "execute_result"
    }
   ],
   "source": [
    "type(b)"
   ]
  },
  {
   "cell_type": "code",
   "execution_count": 8,
   "id": "181de543",
   "metadata": {},
   "outputs": [
    {
     "data": {
      "text/plain": [
       "0.5"
      ]
     },
     "execution_count": 8,
     "metadata": {},
     "output_type": "execute_result"
    }
   ],
   "source": [
    "a/b"
   ]
  },
  {
   "cell_type": "code",
   "execution_count": 9,
   "id": "702bc51d",
   "metadata": {},
   "outputs": [],
   "source": [
    "d = a/b"
   ]
  },
  {
   "cell_type": "code",
   "execution_count": 10,
   "id": "5d508147",
   "metadata": {},
   "outputs": [
    {
     "data": {
      "text/plain": [
       "float"
      ]
     },
     "execution_count": 10,
     "metadata": {},
     "output_type": "execute_result"
    }
   ],
   "source": [
    "type(d)"
   ]
  },
  {
   "cell_type": "code",
   "execution_count": 11,
   "id": "fe4b50df",
   "metadata": {},
   "outputs": [
    {
     "data": {
      "text/plain": [
       "0.5"
      ]
     },
     "execution_count": 11,
     "metadata": {},
     "output_type": "execute_result"
    }
   ],
   "source": [
    "d"
   ]
  },
  {
   "cell_type": "code",
   "execution_count": 12,
   "id": "0b56d21c",
   "metadata": {},
   "outputs": [
    {
     "name": "stdout",
     "output_type": "stream",
     "text": [
      "Hello World!\n"
     ]
    }
   ],
   "source": [
    "a = \"Hello World!\"\n",
    "print(a)"
   ]
  },
  {
   "cell_type": "code",
   "execution_count": 13,
   "id": "6863d4e3",
   "metadata": {},
   "outputs": [
    {
     "name": "stdout",
     "output_type": "stream",
     "text": [
      "50\n"
     ]
    }
   ],
   "source": [
    "print(c)"
   ]
  },
  {
   "cell_type": "code",
   "execution_count": 14,
   "id": "45a18668",
   "metadata": {},
   "outputs": [
    {
     "data": {
      "text/plain": [
       "12"
      ]
     },
     "execution_count": 14,
     "metadata": {},
     "output_type": "execute_result"
    }
   ],
   "source": [
    "len(a)"
   ]
  },
  {
   "cell_type": "code",
   "execution_count": 15,
   "id": "766e7ebe",
   "metadata": {},
   "outputs": [
    {
     "data": {
      "text/plain": [
       "'e'"
      ]
     },
     "execution_count": 15,
     "metadata": {},
     "output_type": "execute_result"
    }
   ],
   "source": [
    "a[1]"
   ]
  },
  {
   "cell_type": "code",
   "execution_count": 16,
   "id": "e6b2e596",
   "metadata": {},
   "outputs": [
    {
     "data": {
      "text/plain": [
       "'Hello World!Hello World!Hello World!Hello World!Hello World!'"
      ]
     },
     "execution_count": 16,
     "metadata": {},
     "output_type": "execute_result"
    }
   ],
   "source": [
    "a*5"
   ]
  },
  {
   "cell_type": "code",
   "execution_count": 17,
   "id": "da0bb244",
   "metadata": {},
   "outputs": [
    {
     "ename": "TypeError",
     "evalue": "unsupported operand type(s) for /: 'str' and 'int'",
     "output_type": "error",
     "traceback": [
      "\u001b[1;31m---------------------------------------------------------------------------\u001b[0m",
      "\u001b[1;31mTypeError\u001b[0m                                 Traceback (most recent call last)",
      "Cell \u001b[1;32mIn[17], line 1\u001b[0m\n\u001b[1;32m----> 1\u001b[0m a\u001b[38;5;241m/\u001b[39m\u001b[38;5;241m5\u001b[39m\n",
      "\u001b[1;31mTypeError\u001b[0m: unsupported operand type(s) for /: 'str' and 'int'"
     ]
    }
   ],
   "source": [
    "a/5"
   ]
  },
  {
   "cell_type": "code",
   "execution_count": 22,
   "id": "934427e9",
   "metadata": {},
   "outputs": [],
   "source": [
    "list_a = [2,1,3,0,4,5]"
   ]
  },
  {
   "cell_type": "code",
   "execution_count": 26,
   "id": "db1e9440",
   "metadata": {},
   "outputs": [
    {
     "data": {
      "text/plain": [
       "[2, 1, 3, 0, 4, 5]"
      ]
     },
     "execution_count": 26,
     "metadata": {},
     "output_type": "execute_result"
    }
   ],
   "source": [
    "list_a"
   ]
  },
  {
   "cell_type": "code",
   "execution_count": 27,
   "id": "b9e0156e",
   "metadata": {},
   "outputs": [],
   "source": [
    "tuple_a = (2,3,4)"
   ]
  },
  {
   "cell_type": "code",
   "execution_count": 28,
   "id": "c45fecbd",
   "metadata": {},
   "outputs": [],
   "source": [
    "list_a[3] = 10"
   ]
  },
  {
   "cell_type": "code",
   "execution_count": 29,
   "id": "4bec8a3e",
   "metadata": {},
   "outputs": [
    {
     "data": {
      "text/plain": [
       "[2, 1, 3, 10, 4, 5]"
      ]
     },
     "execution_count": 29,
     "metadata": {},
     "output_type": "execute_result"
    }
   ],
   "source": [
    "list_a"
   ]
  },
  {
   "cell_type": "code",
   "execution_count": 30,
   "id": "13f301ea",
   "metadata": {},
   "outputs": [
    {
     "ename": "TypeError",
     "evalue": "'tuple' object does not support item assignment",
     "output_type": "error",
     "traceback": [
      "\u001b[1;31m---------------------------------------------------------------------------\u001b[0m",
      "\u001b[1;31mTypeError\u001b[0m                                 Traceback (most recent call last)",
      "Cell \u001b[1;32mIn[30], line 1\u001b[0m\n\u001b[1;32m----> 1\u001b[0m tuple_a[\u001b[38;5;241m2\u001b[39m] \u001b[38;5;241m=\u001b[39m \u001b[38;5;241m10\u001b[39m\n",
      "\u001b[1;31mTypeError\u001b[0m: 'tuple' object does not support item assignment"
     ]
    }
   ],
   "source": [
    "tuple_a[2] = 10"
   ]
  },
  {
   "cell_type": "code",
   "execution_count": 31,
   "id": "dc821204",
   "metadata": {},
   "outputs": [],
   "source": [
    "import numpy as np"
   ]
  },
  {
   "cell_type": "code",
   "execution_count": 32,
   "id": "ad837bb3",
   "metadata": {},
   "outputs": [],
   "source": [
    "array1 = np.array(list_a)"
   ]
  },
  {
   "cell_type": "code",
   "execution_count": 34,
   "id": "9de06d54",
   "metadata": {},
   "outputs": [
    {
     "data": {
      "text/plain": [
       "numpy.ndarray"
      ]
     },
     "execution_count": 34,
     "metadata": {},
     "output_type": "execute_result"
    }
   ],
   "source": [
    "type(array1)"
   ]
  },
  {
   "cell_type": "code",
   "execution_count": 35,
   "id": "ecfb4bf1",
   "metadata": {},
   "outputs": [
    {
     "data": {
      "text/plain": [
       "dtype('int32')"
      ]
     },
     "execution_count": 35,
     "metadata": {},
     "output_type": "execute_result"
    }
   ],
   "source": [
    "array1.dtype"
   ]
  },
  {
   "cell_type": "code",
   "execution_count": 36,
   "id": "357172f5",
   "metadata": {},
   "outputs": [],
   "source": [
    "array2 = np.array([1.0, 2, 4.5, 1, 2, 3, 2.5])"
   ]
  },
  {
   "cell_type": "code",
   "execution_count": 37,
   "id": "89e045d9",
   "metadata": {},
   "outputs": [
    {
     "data": {
      "text/plain": [
       "dtype('float64')"
      ]
     },
     "execution_count": 37,
     "metadata": {},
     "output_type": "execute_result"
    }
   ],
   "source": [
    "array2.dtype"
   ]
  },
  {
   "cell_type": "code",
   "execution_count": 38,
   "id": "a18156d5",
   "metadata": {},
   "outputs": [],
   "source": [
    "list_c = [list_a, 1.0, a]"
   ]
  },
  {
   "cell_type": "code",
   "execution_count": 39,
   "id": "3c098c9f",
   "metadata": {},
   "outputs": [
    {
     "data": {
      "text/plain": [
       "[[2, 1, 3, 10, 4, 5], 1.0, 'Hello World!']"
      ]
     },
     "execution_count": 39,
     "metadata": {},
     "output_type": "execute_result"
    }
   ],
   "source": [
    "list_c"
   ]
  },
  {
   "cell_type": "code",
   "execution_count": 40,
   "id": "adcea57d",
   "metadata": {},
   "outputs": [
    {
     "ename": "ValueError",
     "evalue": "setting an array element with a sequence. The requested array has an inhomogeneous shape after 1 dimensions. The detected shape was (3,) + inhomogeneous part.",
     "output_type": "error",
     "traceback": [
      "\u001b[1;31m---------------------------------------------------------------------------\u001b[0m",
      "\u001b[1;31mValueError\u001b[0m                                Traceback (most recent call last)",
      "Cell \u001b[1;32mIn[40], line 1\u001b[0m\n\u001b[1;32m----> 1\u001b[0m array3 \u001b[38;5;241m=\u001b[39m np\u001b[38;5;241m.\u001b[39marray(list_c)\n",
      "\u001b[1;31mValueError\u001b[0m: setting an array element with a sequence. The requested array has an inhomogeneous shape after 1 dimensions. The detected shape was (3,) + inhomogeneous part."
     ]
    }
   ],
   "source": [
    "array3 = np.array(list_c)"
   ]
  },
  {
   "cell_type": "code",
   "execution_count": 41,
   "id": "b02e07d3",
   "metadata": {},
   "outputs": [
    {
     "data": {
      "text/plain": [
       "array([1. , 2. , 4.5, 1. , 2. , 3. , 2.5])"
      ]
     },
     "execution_count": 41,
     "metadata": {},
     "output_type": "execute_result"
    }
   ],
   "source": [
    "array2"
   ]
  },
  {
   "cell_type": "code",
   "execution_count": 42,
   "id": "9e611d8d",
   "metadata": {},
   "outputs": [
    {
     "data": {
      "text/plain": [
       "array([ 5. , 10. , 22.5,  5. , 10. , 15. , 12.5])"
      ]
     },
     "execution_count": 42,
     "metadata": {},
     "output_type": "execute_result"
    }
   ],
   "source": [
    "array2*5"
   ]
  },
  {
   "cell_type": "code",
   "execution_count": 44,
   "id": "79374f96",
   "metadata": {},
   "outputs": [
    {
     "data": {
      "text/plain": [
       "array([4.5, 1. , 2. ])"
      ]
     },
     "execution_count": 44,
     "metadata": {},
     "output_type": "execute_result"
    }
   ],
   "source": [
    "array2[2:5]"
   ]
  },
  {
   "cell_type": "code",
   "execution_count": 45,
   "id": "8c0c963a",
   "metadata": {},
   "outputs": [
    {
     "data": {
      "text/plain": [
       "array([1. , 2. , 4.5])"
      ]
     },
     "execution_count": 45,
     "metadata": {},
     "output_type": "execute_result"
    }
   ],
   "source": [
    "array2[:3]"
   ]
  },
  {
   "cell_type": "code",
   "execution_count": 50,
   "id": "5ea7de92",
   "metadata": {},
   "outputs": [
    {
     "data": {
      "text/plain": [
       "array([1., 2.])"
      ]
     },
     "execution_count": 50,
     "metadata": {},
     "output_type": "execute_result"
    }
   ],
   "source": [
    "array2[3:-2]"
   ]
  },
  {
   "cell_type": "code",
   "execution_count": 49,
   "id": "11cec589",
   "metadata": {},
   "outputs": [
    {
     "data": {
      "text/plain": [
       "4"
      ]
     },
     "execution_count": 49,
     "metadata": {},
     "output_type": "execute_result"
    }
   ],
   "source": [
    "list_a[-2]"
   ]
  },
  {
   "cell_type": "code",
   "execution_count": 48,
   "id": "7c1091ee",
   "metadata": {},
   "outputs": [
    {
     "name": "stdout",
     "output_type": "stream",
     "text": [
      "[2, 1, 3, 10, 4, 5]\n"
     ]
    }
   ],
   "source": [
    "print(list_a)"
   ]
  },
  {
   "cell_type": "code",
   "execution_count": 51,
   "id": "a7c61c06",
   "metadata": {},
   "outputs": [],
   "source": [
    "import pandas as pd"
   ]
  },
  {
   "cell_type": "code",
   "execution_count": 52,
   "id": "a9857d45",
   "metadata": {},
   "outputs": [
    {
     "name": "stdout",
     "output_type": "stream",
     "text": [
      "{'Name': ['Rob', 'Bob', 'Bill', 'Will'], 'Age': [20, 19, 20, 18], 'Year': [1, 3, 2, 3]}\n"
     ]
    }
   ],
   "source": [
    "data = {'Name':['Rob','Bob','Bill','Will'],\n",
    "        'Age':[20,19,20,18],\n",
    "        'Year':[1,3,2,3]}\n",
    "print(data)"
   ]
  },
  {
   "cell_type": "code",
   "execution_count": 57,
   "id": "ea01ee42",
   "metadata": {},
   "outputs": [
    {
     "data": {
      "text/plain": [
       "'Rob'"
      ]
     },
     "execution_count": 57,
     "metadata": {},
     "output_type": "execute_result"
    }
   ],
   "source": [
    "data['Name']"
   ]
  },
  {
   "cell_type": "code",
   "execution_count": 58,
   "id": "543f0cda",
   "metadata": {},
   "outputs": [
    {
     "data": {
      "text/html": [
       "<div>\n",
       "<style scoped>\n",
       "    .dataframe tbody tr th:only-of-type {\n",
       "        vertical-align: middle;\n",
       "    }\n",
       "\n",
       "    .dataframe tbody tr th {\n",
       "        vertical-align: top;\n",
       "    }\n",
       "\n",
       "    .dataframe thead th {\n",
       "        text-align: right;\n",
       "    }\n",
       "</style>\n",
       "<table border=\"1\" class=\"dataframe\">\n",
       "  <thead>\n",
       "    <tr style=\"text-align: right;\">\n",
       "      <th></th>\n",
       "      <th>Name</th>\n",
       "      <th>Age</th>\n",
       "      <th>Year</th>\n",
       "    </tr>\n",
       "  </thead>\n",
       "  <tbody>\n",
       "    <tr>\n",
       "      <th>0</th>\n",
       "      <td>Rob</td>\n",
       "      <td>20</td>\n",
       "      <td>1</td>\n",
       "    </tr>\n",
       "    <tr>\n",
       "      <th>1</th>\n",
       "      <td>Bob</td>\n",
       "      <td>19</td>\n",
       "      <td>3</td>\n",
       "    </tr>\n",
       "    <tr>\n",
       "      <th>2</th>\n",
       "      <td>Bill</td>\n",
       "      <td>20</td>\n",
       "      <td>2</td>\n",
       "    </tr>\n",
       "    <tr>\n",
       "      <th>3</th>\n",
       "      <td>Will</td>\n",
       "      <td>18</td>\n",
       "      <td>3</td>\n",
       "    </tr>\n",
       "  </tbody>\n",
       "</table>\n",
       "</div>"
      ],
      "text/plain": [
       "   Name  Age  Year\n",
       "0   Rob   20     1\n",
       "1   Bob   19     3\n",
       "2  Bill   20     2\n",
       "3  Will   18     3"
      ]
     },
     "execution_count": 58,
     "metadata": {},
     "output_type": "execute_result"
    }
   ],
   "source": [
    "df = pd.DataFrame(data)\n",
    "df"
   ]
  },
  {
   "cell_type": "code",
   "execution_count": 60,
   "id": "87a316d8",
   "metadata": {},
   "outputs": [
    {
     "name": "stdout",
     "output_type": "stream",
     "text": [
      "   Name  Age  Year\n",
      "0   Rob   20     1\n",
      "1   Bob   19     3\n",
      "2  Bill   20     2\n",
      "3  Will   18     3\n"
     ]
    }
   ],
   "source": [
    "print(df)"
   ]
  },
  {
   "cell_type": "code",
   "execution_count": 62,
   "id": "a36c0010",
   "metadata": {},
   "outputs": [
    {
     "data": {
      "text/plain": [
       "0     Rob\n",
       "1     Bob\n",
       "2    Bill\n",
       "3    Will\n",
       "Name: Name, dtype: object"
      ]
     },
     "execution_count": 62,
     "metadata": {},
     "output_type": "execute_result"
    }
   ],
   "source": [
    "df['Name']"
   ]
  },
  {
   "cell_type": "code",
   "execution_count": 63,
   "id": "009121ab",
   "metadata": {},
   "outputs": [
    {
     "data": {
      "text/plain": [
       "pandas.core.series.Series"
      ]
     },
     "execution_count": 63,
     "metadata": {},
     "output_type": "execute_result"
    }
   ],
   "source": [
    "type(df['Name'])"
   ]
  },
  {
   "cell_type": "code",
   "execution_count": 64,
   "id": "d15b4547",
   "metadata": {},
   "outputs": [
    {
     "data": {
      "text/plain": [
       "['Rob', 'Bob', 'Bill', 'Will']"
      ]
     },
     "execution_count": 64,
     "metadata": {},
     "output_type": "execute_result"
    }
   ],
   "source": [
    "df['Name'].tolist()"
   ]
  },
  {
   "cell_type": "code",
   "execution_count": 69,
   "id": "ef0debad",
   "metadata": {},
   "outputs": [
    {
     "data": {
      "text/html": [
       "<div>\n",
       "<style scoped>\n",
       "    .dataframe tbody tr th:only-of-type {\n",
       "        vertical-align: middle;\n",
       "    }\n",
       "\n",
       "    .dataframe tbody tr th {\n",
       "        vertical-align: top;\n",
       "    }\n",
       "\n",
       "    .dataframe thead th {\n",
       "        text-align: right;\n",
       "    }\n",
       "</style>\n",
       "<table border=\"1\" class=\"dataframe\">\n",
       "  <thead>\n",
       "    <tr style=\"text-align: right;\">\n",
       "      <th></th>\n",
       "      <th>Name</th>\n",
       "      <th>Age</th>\n",
       "    </tr>\n",
       "  </thead>\n",
       "  <tbody>\n",
       "    <tr>\n",
       "      <th>0</th>\n",
       "      <td>Rob</td>\n",
       "      <td>20</td>\n",
       "    </tr>\n",
       "    <tr>\n",
       "      <th>1</th>\n",
       "      <td>Bob</td>\n",
       "      <td>19</td>\n",
       "    </tr>\n",
       "    <tr>\n",
       "      <th>2</th>\n",
       "      <td>Bill</td>\n",
       "      <td>20</td>\n",
       "    </tr>\n",
       "    <tr>\n",
       "      <th>3</th>\n",
       "      <td>Will</td>\n",
       "      <td>18</td>\n",
       "    </tr>\n",
       "  </tbody>\n",
       "</table>\n",
       "</div>"
      ],
      "text/plain": [
       "   Name  Age\n",
       "0   Rob   20\n",
       "1   Bob   19\n",
       "2  Bill   20\n",
       "3  Will   18"
      ]
     },
     "execution_count": 69,
     "metadata": {},
     "output_type": "execute_result"
    }
   ],
   "source": [
    "df[['Name','Age']]"
   ]
  },
  {
   "cell_type": "code",
   "execution_count": 78,
   "id": "106b09aa",
   "metadata": {},
   "outputs": [],
   "source": [
    "df1 = df.set_index('Name')"
   ]
  },
  {
   "cell_type": "code",
   "execution_count": 77,
   "id": "aec970fb",
   "metadata": {},
   "outputs": [
    {
     "data": {
      "text/html": [
       "<div>\n",
       "<style scoped>\n",
       "    .dataframe tbody tr th:only-of-type {\n",
       "        vertical-align: middle;\n",
       "    }\n",
       "\n",
       "    .dataframe tbody tr th {\n",
       "        vertical-align: top;\n",
       "    }\n",
       "\n",
       "    .dataframe thead th {\n",
       "        text-align: right;\n",
       "    }\n",
       "</style>\n",
       "<table border=\"1\" class=\"dataframe\">\n",
       "  <thead>\n",
       "    <tr style=\"text-align: right;\">\n",
       "      <th></th>\n",
       "      <th>Name</th>\n",
       "      <th>Age</th>\n",
       "      <th>Year</th>\n",
       "    </tr>\n",
       "  </thead>\n",
       "  <tbody>\n",
       "    <tr>\n",
       "      <th>0</th>\n",
       "      <td>Rob</td>\n",
       "      <td>20</td>\n",
       "      <td>1</td>\n",
       "    </tr>\n",
       "    <tr>\n",
       "      <th>1</th>\n",
       "      <td>Bob</td>\n",
       "      <td>19</td>\n",
       "      <td>3</td>\n",
       "    </tr>\n",
       "    <tr>\n",
       "      <th>2</th>\n",
       "      <td>Bill</td>\n",
       "      <td>20</td>\n",
       "      <td>2</td>\n",
       "    </tr>\n",
       "    <tr>\n",
       "      <th>3</th>\n",
       "      <td>Will</td>\n",
       "      <td>18</td>\n",
       "      <td>3</td>\n",
       "    </tr>\n",
       "  </tbody>\n",
       "</table>\n",
       "</div>"
      ],
      "text/plain": [
       "   Name  Age  Year\n",
       "0   Rob   20     1\n",
       "1   Bob   19     3\n",
       "2  Bill   20     2\n",
       "3  Will   18     3"
      ]
     },
     "metadata": {},
     "output_type": "display_data"
    }
   ],
   "source": [
    "display(df)"
   ]
  },
  {
   "cell_type": "code",
   "execution_count": 79,
   "id": "ac27f291",
   "metadata": {},
   "outputs": [
    {
     "data": {
      "text/html": [
       "<div>\n",
       "<style scoped>\n",
       "    .dataframe tbody tr th:only-of-type {\n",
       "        vertical-align: middle;\n",
       "    }\n",
       "\n",
       "    .dataframe tbody tr th {\n",
       "        vertical-align: top;\n",
       "    }\n",
       "\n",
       "    .dataframe thead th {\n",
       "        text-align: right;\n",
       "    }\n",
       "</style>\n",
       "<table border=\"1\" class=\"dataframe\">\n",
       "  <thead>\n",
       "    <tr style=\"text-align: right;\">\n",
       "      <th></th>\n",
       "      <th>Age</th>\n",
       "      <th>Year</th>\n",
       "    </tr>\n",
       "    <tr>\n",
       "      <th>Name</th>\n",
       "      <th></th>\n",
       "      <th></th>\n",
       "    </tr>\n",
       "  </thead>\n",
       "  <tbody>\n",
       "    <tr>\n",
       "      <th>Rob</th>\n",
       "      <td>20</td>\n",
       "      <td>1</td>\n",
       "    </tr>\n",
       "    <tr>\n",
       "      <th>Bob</th>\n",
       "      <td>19</td>\n",
       "      <td>3</td>\n",
       "    </tr>\n",
       "    <tr>\n",
       "      <th>Bill</th>\n",
       "      <td>20</td>\n",
       "      <td>2</td>\n",
       "    </tr>\n",
       "    <tr>\n",
       "      <th>Will</th>\n",
       "      <td>18</td>\n",
       "      <td>3</td>\n",
       "    </tr>\n",
       "  </tbody>\n",
       "</table>\n",
       "</div>"
      ],
      "text/plain": [
       "      Age  Year\n",
       "Name           \n",
       "Rob    20     1\n",
       "Bob    19     3\n",
       "Bill   20     2\n",
       "Will   18     3"
      ]
     },
     "execution_count": 79,
     "metadata": {},
     "output_type": "execute_result"
    }
   ],
   "source": [
    "df1"
   ]
  },
  {
   "cell_type": "code",
   "execution_count": 80,
   "id": "70b7347e",
   "metadata": {},
   "outputs": [
    {
     "data": {
      "text/plain": [
       "Age     20\n",
       "Year     1\n",
       "Name: Rob, dtype: int64"
      ]
     },
     "execution_count": 80,
     "metadata": {},
     "output_type": "execute_result"
    }
   ],
   "source": [
    "df1.loc['Rob']"
   ]
  },
  {
   "cell_type": "code",
   "execution_count": 81,
   "id": "436fff65",
   "metadata": {},
   "outputs": [],
   "source": [
    "data = pd.read_csv(\"https://dl.dropboxusercontent.com/s/tc6s7f6xl05kwzh/etch_roof.csv?dl=1\")"
   ]
  },
  {
   "cell_type": "code",
   "execution_count": 82,
   "id": "2322eb14",
   "metadata": {},
   "outputs": [
    {
     "data": {
      "text/html": [
       "<div>\n",
       "<style scoped>\n",
       "    .dataframe tbody tr th:only-of-type {\n",
       "        vertical-align: middle;\n",
       "    }\n",
       "\n",
       "    .dataframe tbody tr th {\n",
       "        vertical-align: top;\n",
       "    }\n",
       "\n",
       "    .dataframe thead th {\n",
       "        text-align: right;\n",
       "    }\n",
       "</style>\n",
       "<table border=\"1\" class=\"dataframe\">\n",
       "  <thead>\n",
       "    <tr style=\"text-align: right;\">\n",
       "      <th></th>\n",
       "      <th>deviceTime_utc</th>\n",
       "      <th>deviceTime_local</th>\n",
       "      <th>deviceTime_unix</th>\n",
       "      <th>cpm</th>\n",
       "      <th>cpmError</th>\n",
       "      <th>error_flag</th>\n",
       "    </tr>\n",
       "  </thead>\n",
       "  <tbody>\n",
       "    <tr>\n",
       "      <th>0</th>\n",
       "      <td>2015-11-20 02:27:13+00:00</td>\n",
       "      <td>2015-11-19 18:27:13-08:00</td>\n",
       "      <td>1.447986e+09</td>\n",
       "      <td>4.0</td>\n",
       "      <td>0.894427</td>\n",
       "      <td>NaN</td>\n",
       "    </tr>\n",
       "    <tr>\n",
       "      <th>1</th>\n",
       "      <td>2015-11-20 02:32:13+00:00</td>\n",
       "      <td>2015-11-19 18:32:13-08:00</td>\n",
       "      <td>1.447987e+09</td>\n",
       "      <td>2.8</td>\n",
       "      <td>0.748331</td>\n",
       "      <td>NaN</td>\n",
       "    </tr>\n",
       "    <tr>\n",
       "      <th>2</th>\n",
       "      <td>2015-11-20 02:37:15+00:00</td>\n",
       "      <td>2015-11-19 18:37:15-08:00</td>\n",
       "      <td>1.447987e+09</td>\n",
       "      <td>3.4</td>\n",
       "      <td>0.824621</td>\n",
       "      <td>NaN</td>\n",
       "    </tr>\n",
       "    <tr>\n",
       "      <th>3</th>\n",
       "      <td>2015-11-20 02:42:15+00:00</td>\n",
       "      <td>2015-11-19 18:42:15-08:00</td>\n",
       "      <td>1.447987e+09</td>\n",
       "      <td>2.4</td>\n",
       "      <td>0.692820</td>\n",
       "      <td>NaN</td>\n",
       "    </tr>\n",
       "    <tr>\n",
       "      <th>4</th>\n",
       "      <td>2015-11-20 02:47:16+00:00</td>\n",
       "      <td>2015-11-19 18:47:16-08:00</td>\n",
       "      <td>1.447988e+09</td>\n",
       "      <td>3.4</td>\n",
       "      <td>0.824621</td>\n",
       "      <td>NaN</td>\n",
       "    </tr>\n",
       "    <tr>\n",
       "      <th>...</th>\n",
       "      <td>...</td>\n",
       "      <td>...</td>\n",
       "      <td>...</td>\n",
       "      <td>...</td>\n",
       "      <td>...</td>\n",
       "      <td>...</td>\n",
       "    </tr>\n",
       "    <tr>\n",
       "      <th>418555</th>\n",
       "      <td>2022-09-08 10:05:42+0000</td>\n",
       "      <td>2022-09-08 03:05:42-0700</td>\n",
       "      <td>1.662632e+09</td>\n",
       "      <td>2.8</td>\n",
       "      <td>0.748331</td>\n",
       "      <td>0.0</td>\n",
       "    </tr>\n",
       "    <tr>\n",
       "      <th>418556</th>\n",
       "      <td>2022-09-08 10:10:42+0000</td>\n",
       "      <td>2022-09-08 03:10:42-0700</td>\n",
       "      <td>1.662632e+09</td>\n",
       "      <td>2.8</td>\n",
       "      <td>0.748331</td>\n",
       "      <td>0.0</td>\n",
       "    </tr>\n",
       "    <tr>\n",
       "      <th>418557</th>\n",
       "      <td>2022-09-08 10:15:42+0000</td>\n",
       "      <td>2022-09-08 03:15:42-0700</td>\n",
       "      <td>1.662632e+09</td>\n",
       "      <td>3.6</td>\n",
       "      <td>0.848528</td>\n",
       "      <td>0.0</td>\n",
       "    </tr>\n",
       "    <tr>\n",
       "      <th>418558</th>\n",
       "      <td>2022-09-08 10:20:42+0000</td>\n",
       "      <td>2022-09-08 03:20:42-0700</td>\n",
       "      <td>1.662632e+09</td>\n",
       "      <td>2.8</td>\n",
       "      <td>0.748331</td>\n",
       "      <td>0.0</td>\n",
       "    </tr>\n",
       "    <tr>\n",
       "      <th>418559</th>\n",
       "      <td>2022-09-08 10:25:42+0000</td>\n",
       "      <td>2022-09-08 03:25:42-0700</td>\n",
       "      <td>1.662633e+09</td>\n",
       "      <td>3.0</td>\n",
       "      <td>0.774597</td>\n",
       "      <td>0.0</td>\n",
       "    </tr>\n",
       "  </tbody>\n",
       "</table>\n",
       "<p>418560 rows × 6 columns</p>\n",
       "</div>"
      ],
      "text/plain": [
       "                   deviceTime_utc           deviceTime_local  deviceTime_unix  \\\n",
       "0       2015-11-20 02:27:13+00:00  2015-11-19 18:27:13-08:00     1.447986e+09   \n",
       "1       2015-11-20 02:32:13+00:00  2015-11-19 18:32:13-08:00     1.447987e+09   \n",
       "2       2015-11-20 02:37:15+00:00  2015-11-19 18:37:15-08:00     1.447987e+09   \n",
       "3       2015-11-20 02:42:15+00:00  2015-11-19 18:42:15-08:00     1.447987e+09   \n",
       "4       2015-11-20 02:47:16+00:00  2015-11-19 18:47:16-08:00     1.447988e+09   \n",
       "...                           ...                        ...              ...   \n",
       "418555   2022-09-08 10:05:42+0000   2022-09-08 03:05:42-0700     1.662632e+09   \n",
       "418556   2022-09-08 10:10:42+0000   2022-09-08 03:10:42-0700     1.662632e+09   \n",
       "418557   2022-09-08 10:15:42+0000   2022-09-08 03:15:42-0700     1.662632e+09   \n",
       "418558   2022-09-08 10:20:42+0000   2022-09-08 03:20:42-0700     1.662632e+09   \n",
       "418559   2022-09-08 10:25:42+0000   2022-09-08 03:25:42-0700     1.662633e+09   \n",
       "\n",
       "        cpm  cpmError  error_flag  \n",
       "0       4.0  0.894427         NaN  \n",
       "1       2.8  0.748331         NaN  \n",
       "2       3.4  0.824621         NaN  \n",
       "3       2.4  0.692820         NaN  \n",
       "4       3.4  0.824621         NaN  \n",
       "...     ...       ...         ...  \n",
       "418555  2.8  0.748331         0.0  \n",
       "418556  2.8  0.748331         0.0  \n",
       "418557  3.6  0.848528         0.0  \n",
       "418558  2.8  0.748331         0.0  \n",
       "418559  3.0  0.774597         0.0  \n",
       "\n",
       "[418560 rows x 6 columns]"
      ]
     },
     "metadata": {},
     "output_type": "display_data"
    }
   ],
   "source": [
    "display(data)"
   ]
  },
  {
   "cell_type": "code",
   "execution_count": 93,
   "id": "b44372ad",
   "metadata": {},
   "outputs": [],
   "source": [
    "mask = (data['deviceTime_local'] > '2022-01-01 00:00:00-0700') & \\\n",
    "(data['deviceTime_local'] < '2022-02-01 00:00:00-0700')"
   ]
  },
  {
   "cell_type": "code",
   "execution_count": 94,
   "id": "d604949e",
   "metadata": {},
   "outputs": [],
   "source": [
    "data_cut = data[mask]"
   ]
  },
  {
   "cell_type": "code",
   "execution_count": 95,
   "id": "024ae8d2",
   "metadata": {},
   "outputs": [
    {
     "data": {
      "text/html": [
       "<div>\n",
       "<style scoped>\n",
       "    .dataframe tbody tr th:only-of-type {\n",
       "        vertical-align: middle;\n",
       "    }\n",
       "\n",
       "    .dataframe tbody tr th {\n",
       "        vertical-align: top;\n",
       "    }\n",
       "\n",
       "    .dataframe thead th {\n",
       "        text-align: right;\n",
       "    }\n",
       "</style>\n",
       "<table border=\"1\" class=\"dataframe\">\n",
       "  <thead>\n",
       "    <tr style=\"text-align: right;\">\n",
       "      <th></th>\n",
       "      <th>deviceTime_utc</th>\n",
       "      <th>deviceTime_local</th>\n",
       "      <th>deviceTime_unix</th>\n",
       "      <th>cpm</th>\n",
       "      <th>cpmError</th>\n",
       "      <th>error_flag</th>\n",
       "    </tr>\n",
       "  </thead>\n",
       "  <tbody>\n",
       "    <tr>\n",
       "      <th>389838</th>\n",
       "      <td>2022-01-19 00:45:41+0000</td>\n",
       "      <td>2022-01-18 16:45:41-0800</td>\n",
       "      <td>1.642374e+09</td>\n",
       "      <td>2.6</td>\n",
       "      <td>0.721110</td>\n",
       "      <td>0.0</td>\n",
       "    </tr>\n",
       "    <tr>\n",
       "      <th>389839</th>\n",
       "      <td>2022-01-19 00:45:43+0000</td>\n",
       "      <td>2022-01-18 16:45:43-0800</td>\n",
       "      <td>1.642375e+09</td>\n",
       "      <td>2.6</td>\n",
       "      <td>0.721110</td>\n",
       "      <td>0.0</td>\n",
       "    </tr>\n",
       "    <tr>\n",
       "      <th>389840</th>\n",
       "      <td>2022-01-19 00:45:45+0000</td>\n",
       "      <td>2022-01-18 16:45:45-0800</td>\n",
       "      <td>1.642375e+09</td>\n",
       "      <td>2.6</td>\n",
       "      <td>0.721110</td>\n",
       "      <td>0.0</td>\n",
       "    </tr>\n",
       "    <tr>\n",
       "      <th>389841</th>\n",
       "      <td>2022-01-19 00:45:48+0000</td>\n",
       "      <td>2022-01-18 16:45:48-0800</td>\n",
       "      <td>1.642375e+09</td>\n",
       "      <td>3.4</td>\n",
       "      <td>0.824621</td>\n",
       "      <td>0.0</td>\n",
       "    </tr>\n",
       "    <tr>\n",
       "      <th>389842</th>\n",
       "      <td>2022-01-19 00:45:50+0000</td>\n",
       "      <td>2022-01-18 16:45:50-0800</td>\n",
       "      <td>1.642376e+09</td>\n",
       "      <td>3.0</td>\n",
       "      <td>0.774597</td>\n",
       "      <td>0.0</td>\n",
       "    </tr>\n",
       "    <tr>\n",
       "      <th>...</th>\n",
       "      <td>...</td>\n",
       "      <td>...</td>\n",
       "      <td>...</td>\n",
       "      <td>...</td>\n",
       "      <td>...</td>\n",
       "      <td>...</td>\n",
       "    </tr>\n",
       "    <tr>\n",
       "      <th>390693</th>\n",
       "      <td>2022-01-19 18:30:37+0000</td>\n",
       "      <td>2022-01-19 10:30:37-0800</td>\n",
       "      <td>1.642617e+09</td>\n",
       "      <td>1.4</td>\n",
       "      <td>0.529150</td>\n",
       "      <td>0.0</td>\n",
       "    </tr>\n",
       "    <tr>\n",
       "      <th>390694</th>\n",
       "      <td>2022-01-19 18:35:43+0000</td>\n",
       "      <td>2022-01-19 10:35:43-0800</td>\n",
       "      <td>1.642617e+09</td>\n",
       "      <td>1.0</td>\n",
       "      <td>0.447214</td>\n",
       "      <td>0.0</td>\n",
       "    </tr>\n",
       "    <tr>\n",
       "      <th>390695</th>\n",
       "      <td>2022-01-19 18:35:38+0000</td>\n",
       "      <td>2022-01-19 10:35:38-0800</td>\n",
       "      <td>1.642617e+09</td>\n",
       "      <td>2.6</td>\n",
       "      <td>0.721110</td>\n",
       "      <td>0.0</td>\n",
       "    </tr>\n",
       "    <tr>\n",
       "      <th>390696</th>\n",
       "      <td>2022-01-19 18:40:37+0000</td>\n",
       "      <td>2022-01-19 10:40:37-0800</td>\n",
       "      <td>1.642618e+09</td>\n",
       "      <td>2.8</td>\n",
       "      <td>0.748331</td>\n",
       "      <td>0.0</td>\n",
       "    </tr>\n",
       "    <tr>\n",
       "      <th>390697</th>\n",
       "      <td>2022-01-19 18:45:37+0000</td>\n",
       "      <td>2022-01-19 10:45:37-0800</td>\n",
       "      <td>1.642618e+09</td>\n",
       "      <td>3.0</td>\n",
       "      <td>0.774597</td>\n",
       "      <td>0.0</td>\n",
       "    </tr>\n",
       "  </tbody>\n",
       "</table>\n",
       "<p>860 rows × 6 columns</p>\n",
       "</div>"
      ],
      "text/plain": [
       "                  deviceTime_utc          deviceTime_local  deviceTime_unix  \\\n",
       "389838  2022-01-19 00:45:41+0000  2022-01-18 16:45:41-0800     1.642374e+09   \n",
       "389839  2022-01-19 00:45:43+0000  2022-01-18 16:45:43-0800     1.642375e+09   \n",
       "389840  2022-01-19 00:45:45+0000  2022-01-18 16:45:45-0800     1.642375e+09   \n",
       "389841  2022-01-19 00:45:48+0000  2022-01-18 16:45:48-0800     1.642375e+09   \n",
       "389842  2022-01-19 00:45:50+0000  2022-01-18 16:45:50-0800     1.642376e+09   \n",
       "...                          ...                       ...              ...   \n",
       "390693  2022-01-19 18:30:37+0000  2022-01-19 10:30:37-0800     1.642617e+09   \n",
       "390694  2022-01-19 18:35:43+0000  2022-01-19 10:35:43-0800     1.642617e+09   \n",
       "390695  2022-01-19 18:35:38+0000  2022-01-19 10:35:38-0800     1.642617e+09   \n",
       "390696  2022-01-19 18:40:37+0000  2022-01-19 10:40:37-0800     1.642618e+09   \n",
       "390697  2022-01-19 18:45:37+0000  2022-01-19 10:45:37-0800     1.642618e+09   \n",
       "\n",
       "        cpm  cpmError  error_flag  \n",
       "389838  2.6  0.721110         0.0  \n",
       "389839  2.6  0.721110         0.0  \n",
       "389840  2.6  0.721110         0.0  \n",
       "389841  3.4  0.824621         0.0  \n",
       "389842  3.0  0.774597         0.0  \n",
       "...     ...       ...         ...  \n",
       "390693  1.4  0.529150         0.0  \n",
       "390694  1.0  0.447214         0.0  \n",
       "390695  2.6  0.721110         0.0  \n",
       "390696  2.8  0.748331         0.0  \n",
       "390697  3.0  0.774597         0.0  \n",
       "\n",
       "[860 rows x 6 columns]"
      ]
     },
     "metadata": {},
     "output_type": "display_data"
    }
   ],
   "source": [
    "display(data_cut)"
   ]
  },
  {
   "cell_type": "code",
   "execution_count": 97,
   "id": "963a282a",
   "metadata": {},
   "outputs": [],
   "source": [
    "data_cut = data_cut.loc[:,'deviceTime_local':'cpm']"
   ]
  },
  {
   "cell_type": "code",
   "execution_count": 98,
   "id": "7c0ae21b",
   "metadata": {},
   "outputs": [
    {
     "data": {
      "text/html": [
       "<div>\n",
       "<style scoped>\n",
       "    .dataframe tbody tr th:only-of-type {\n",
       "        vertical-align: middle;\n",
       "    }\n",
       "\n",
       "    .dataframe tbody tr th {\n",
       "        vertical-align: top;\n",
       "    }\n",
       "\n",
       "    .dataframe thead th {\n",
       "        text-align: right;\n",
       "    }\n",
       "</style>\n",
       "<table border=\"1\" class=\"dataframe\">\n",
       "  <thead>\n",
       "    <tr style=\"text-align: right;\">\n",
       "      <th></th>\n",
       "      <th>deviceTime_local</th>\n",
       "      <th>deviceTime_unix</th>\n",
       "      <th>cpm</th>\n",
       "    </tr>\n",
       "  </thead>\n",
       "  <tbody>\n",
       "    <tr>\n",
       "      <th>389838</th>\n",
       "      <td>2022-01-18 16:45:41-0800</td>\n",
       "      <td>1.642374e+09</td>\n",
       "      <td>2.6</td>\n",
       "    </tr>\n",
       "    <tr>\n",
       "      <th>389839</th>\n",
       "      <td>2022-01-18 16:45:43-0800</td>\n",
       "      <td>1.642375e+09</td>\n",
       "      <td>2.6</td>\n",
       "    </tr>\n",
       "    <tr>\n",
       "      <th>389840</th>\n",
       "      <td>2022-01-18 16:45:45-0800</td>\n",
       "      <td>1.642375e+09</td>\n",
       "      <td>2.6</td>\n",
       "    </tr>\n",
       "    <tr>\n",
       "      <th>389841</th>\n",
       "      <td>2022-01-18 16:45:48-0800</td>\n",
       "      <td>1.642375e+09</td>\n",
       "      <td>3.4</td>\n",
       "    </tr>\n",
       "    <tr>\n",
       "      <th>389842</th>\n",
       "      <td>2022-01-18 16:45:50-0800</td>\n",
       "      <td>1.642376e+09</td>\n",
       "      <td>3.0</td>\n",
       "    </tr>\n",
       "    <tr>\n",
       "      <th>...</th>\n",
       "      <td>...</td>\n",
       "      <td>...</td>\n",
       "      <td>...</td>\n",
       "    </tr>\n",
       "    <tr>\n",
       "      <th>390693</th>\n",
       "      <td>2022-01-19 10:30:37-0800</td>\n",
       "      <td>1.642617e+09</td>\n",
       "      <td>1.4</td>\n",
       "    </tr>\n",
       "    <tr>\n",
       "      <th>390694</th>\n",
       "      <td>2022-01-19 10:35:43-0800</td>\n",
       "      <td>1.642617e+09</td>\n",
       "      <td>1.0</td>\n",
       "    </tr>\n",
       "    <tr>\n",
       "      <th>390695</th>\n",
       "      <td>2022-01-19 10:35:38-0800</td>\n",
       "      <td>1.642617e+09</td>\n",
       "      <td>2.6</td>\n",
       "    </tr>\n",
       "    <tr>\n",
       "      <th>390696</th>\n",
       "      <td>2022-01-19 10:40:37-0800</td>\n",
       "      <td>1.642618e+09</td>\n",
       "      <td>2.8</td>\n",
       "    </tr>\n",
       "    <tr>\n",
       "      <th>390697</th>\n",
       "      <td>2022-01-19 10:45:37-0800</td>\n",
       "      <td>1.642618e+09</td>\n",
       "      <td>3.0</td>\n",
       "    </tr>\n",
       "  </tbody>\n",
       "</table>\n",
       "<p>860 rows × 3 columns</p>\n",
       "</div>"
      ],
      "text/plain": [
       "                deviceTime_local  deviceTime_unix  cpm\n",
       "389838  2022-01-18 16:45:41-0800     1.642374e+09  2.6\n",
       "389839  2022-01-18 16:45:43-0800     1.642375e+09  2.6\n",
       "389840  2022-01-18 16:45:45-0800     1.642375e+09  2.6\n",
       "389841  2022-01-18 16:45:48-0800     1.642375e+09  3.4\n",
       "389842  2022-01-18 16:45:50-0800     1.642376e+09  3.0\n",
       "...                          ...              ...  ...\n",
       "390693  2022-01-19 10:30:37-0800     1.642617e+09  1.4\n",
       "390694  2022-01-19 10:35:43-0800     1.642617e+09  1.0\n",
       "390695  2022-01-19 10:35:38-0800     1.642617e+09  2.6\n",
       "390696  2022-01-19 10:40:37-0800     1.642618e+09  2.8\n",
       "390697  2022-01-19 10:45:37-0800     1.642618e+09  3.0\n",
       "\n",
       "[860 rows x 3 columns]"
      ]
     },
     "metadata": {},
     "output_type": "display_data"
    }
   ],
   "source": [
    "display(data_cut)"
   ]
  },
  {
   "cell_type": "code",
   "execution_count": 103,
   "id": "af94fdaa",
   "metadata": {},
   "outputs": [],
   "source": [
    "cpm_data = data_cut['cpm'].to_numpy()"
   ]
  },
  {
   "cell_type": "code",
   "execution_count": 104,
   "id": "b9a796ad",
   "metadata": {},
   "outputs": [],
   "source": [
    "import matplotlib.pyplot as plt"
   ]
  },
  {
   "cell_type": "code",
   "execution_count": 110,
   "id": "50ed1221",
   "metadata": {},
   "outputs": [
    {
     "data": {
      "text/plain": [
       "389838    2022-01-18 16:45:41-0800\n",
       "389839    2022-01-18 16:45:43-0800\n",
       "389840    2022-01-18 16:45:45-0800\n",
       "389841    2022-01-18 16:45:48-0800\n",
       "389842    2022-01-18 16:45:50-0800\n",
       "                    ...           \n",
       "390693    2022-01-19 10:30:37-0800\n",
       "390694    2022-01-19 10:35:43-0800\n",
       "390695    2022-01-19 10:35:38-0800\n",
       "390696    2022-01-19 10:40:37-0800\n",
       "390697    2022-01-19 10:45:37-0800\n",
       "Name: deviceTime_local, Length: 860, dtype: object"
      ]
     },
     "execution_count": 110,
     "metadata": {},
     "output_type": "execute_result"
    }
   ],
   "source": [
    "data_cut['deviceTime_local'].iloc[0:100]"
   ]
  },
  {
   "cell_type": "code",
   "execution_count": 151,
   "id": "7ae28006",
   "metadata": {},
   "outputs": [
    {
     "data": {
      "image/png": "[encoded data removed]",
      "text/plain": [
       "<Figure size 640x480 with 1 Axes>"
      ]
     },
     "metadata": {},
     "output_type": "display_data"
    }
   ],
   "source": [
    "plt.plot(data_cut['deviceTime_unix'],data_cut['cpm'])\n",
    "plt.show()"
   ]
  },
  {
   "cell_type": "code",
   "execution_count": 131,
   "id": "8126d1b0",
   "metadata": {},
   "outputs": [
    {
     "name": "stdout",
     "output_type": "stream",
     "text": [
      "1447986433.0\n"
     ]
    }
   ],
   "source": [
    "start_time = data['deviceTime_unix'].iloc[0]\n",
    "print(start_time)"
   ]
  },
  {
   "cell_type": "code",
   "execution_count": 116,
   "id": "73ef1b3e",
   "metadata": {},
   "outputs": [
    {
     "data": {
      "text/plain": [
       "'2015-11-19 18:27:13-08:00'"
      ]
     },
     "execution_count": 116,
     "metadata": {},
     "output_type": "execute_result"
    }
   ],
   "source": [
    "data['deviceTime_local'].iloc[0]"
   ]
  },
  {
   "cell_type": "code",
   "execution_count": 117,
   "id": "fed09165",
   "metadata": {},
   "outputs": [
    {
     "name": "stdout",
     "output_type": "stream",
     "text": [
      "0         False\n",
      "1          True\n",
      "2          True\n",
      "3          True\n",
      "4          True\n",
      "          ...  \n",
      "418555    False\n",
      "418556    False\n",
      "418557    False\n",
      "418558    False\n",
      "418559    False\n",
      "Name: deviceTime_unix, Length: 418560, dtype: bool\n"
     ]
    }
   ],
   "source": [
    "mask = (data['deviceTime_unix'] > start_time) & (data['deviceTime_unix'] < (start_time + 30*60))\n",
    "print(mask)"
   ]
  },
  {
   "cell_type": "code",
   "execution_count": 118,
   "id": "a24d92c5",
   "metadata": {},
   "outputs": [
    {
     "data": {
      "text/html": [
       "<div>\n",
       "<style scoped>\n",
       "    .dataframe tbody tr th:only-of-type {\n",
       "        vertical-align: middle;\n",
       "    }\n",
       "\n",
       "    .dataframe tbody tr th {\n",
       "        vertical-align: top;\n",
       "    }\n",
       "\n",
       "    .dataframe thead th {\n",
       "        text-align: right;\n",
       "    }\n",
       "</style>\n",
       "<table border=\"1\" class=\"dataframe\">\n",
       "  <thead>\n",
       "    <tr style=\"text-align: right;\">\n",
       "      <th></th>\n",
       "      <th>deviceTime_utc</th>\n",
       "      <th>deviceTime_local</th>\n",
       "      <th>deviceTime_unix</th>\n",
       "      <th>cpm</th>\n",
       "      <th>cpmError</th>\n",
       "      <th>error_flag</th>\n",
       "    </tr>\n",
       "  </thead>\n",
       "  <tbody>\n",
       "    <tr>\n",
       "      <th>1</th>\n",
       "      <td>2015-11-20 02:32:13+00:00</td>\n",
       "      <td>2015-11-19 18:32:13-08:00</td>\n",
       "      <td>1.447987e+09</td>\n",
       "      <td>2.8</td>\n",
       "      <td>0.748331</td>\n",
       "      <td>NaN</td>\n",
       "    </tr>\n",
       "    <tr>\n",
       "      <th>2</th>\n",
       "      <td>2015-11-20 02:37:15+00:00</td>\n",
       "      <td>2015-11-19 18:37:15-08:00</td>\n",
       "      <td>1.447987e+09</td>\n",
       "      <td>3.4</td>\n",
       "      <td>0.824621</td>\n",
       "      <td>NaN</td>\n",
       "    </tr>\n",
       "    <tr>\n",
       "      <th>3</th>\n",
       "      <td>2015-11-20 02:42:15+00:00</td>\n",
       "      <td>2015-11-19 18:42:15-08:00</td>\n",
       "      <td>1.447987e+09</td>\n",
       "      <td>2.4</td>\n",
       "      <td>0.692820</td>\n",
       "      <td>NaN</td>\n",
       "    </tr>\n",
       "    <tr>\n",
       "      <th>4</th>\n",
       "      <td>2015-11-20 02:47:16+00:00</td>\n",
       "      <td>2015-11-19 18:47:16-08:00</td>\n",
       "      <td>1.447988e+09</td>\n",
       "      <td>3.4</td>\n",
       "      <td>0.824621</td>\n",
       "      <td>NaN</td>\n",
       "    </tr>\n",
       "    <tr>\n",
       "      <th>5</th>\n",
       "      <td>2015-11-20 02:52:16+00:00</td>\n",
       "      <td>2015-11-19 18:52:16-08:00</td>\n",
       "      <td>1.447988e+09</td>\n",
       "      <td>1.8</td>\n",
       "      <td>0.600000</td>\n",
       "      <td>NaN</td>\n",
       "    </tr>\n",
       "    <tr>\n",
       "      <th>6</th>\n",
       "      <td>2015-11-20 02:57:07+00:00</td>\n",
       "      <td>2015-11-19 18:57:07-08:00</td>\n",
       "      <td>1.447988e+09</td>\n",
       "      <td>3.2</td>\n",
       "      <td>0.800000</td>\n",
       "      <td>NaN</td>\n",
       "    </tr>\n",
       "  </tbody>\n",
       "</table>\n",
       "</div>"
      ],
      "text/plain": [
       "              deviceTime_utc           deviceTime_local  deviceTime_unix  cpm  \\\n",
       "1  2015-11-20 02:32:13+00:00  2015-11-19 18:32:13-08:00     1.447987e+09  2.8   \n",
       "2  2015-11-20 02:37:15+00:00  2015-11-19 18:37:15-08:00     1.447987e+09  3.4   \n",
       "3  2015-11-20 02:42:15+00:00  2015-11-19 18:42:15-08:00     1.447987e+09  2.4   \n",
       "4  2015-11-20 02:47:16+00:00  2015-11-19 18:47:16-08:00     1.447988e+09  3.4   \n",
       "5  2015-11-20 02:52:16+00:00  2015-11-19 18:52:16-08:00     1.447988e+09  1.8   \n",
       "6  2015-11-20 02:57:07+00:00  2015-11-19 18:57:07-08:00     1.447988e+09  3.2   \n",
       "\n",
       "   cpmError  error_flag  \n",
       "1  0.748331         NaN  \n",
       "2  0.824621         NaN  \n",
       "3  0.692820         NaN  \n",
       "4  0.824621         NaN  \n",
       "5  0.600000         NaN  \n",
       "6  0.800000         NaN  "
      ]
     },
     "metadata": {},
     "output_type": "display_data"
    }
   ],
   "source": [
    "data_1 = data[mask]\n",
    "display(data_1)"
   ]
  },
  {
   "cell_type": "code",
   "execution_count": 122,
   "id": "27a62b5e",
   "metadata": {},
   "outputs": [
    {
     "name": "stdout",
     "output_type": "stream",
     "text": [
      "85.0\n"
     ]
    }
   ],
   "source": [
    "cpm = data_1['cpm'].to_numpy()\n",
    "counts = np.sum(cpm*5)\n",
    "print(counts)"
   ]
  },
  {
   "cell_type": "code",
   "execution_count": 124,
   "id": "22b0684d",
   "metadata": {},
   "outputs": [],
   "source": [
    "interval = 30\n",
    "data_range = int(24*60/interval)\n",
    "counts_list = []\n",
    "for i in range(data_range):\n",
    "    mask = (data['deviceTime_unix'] > start_time) & \\\n",
    "            (data['deviceTime_unix'] < (start_time + interval*60))\n",
    "    idata = data[mask]\n",
    "    cpm = idata['cpm'].to_numpy()\n",
    "    counts = np.sum(cpm*5)\n",
    "    counts_list.append(counts)\n",
    "    start_time = start_time + interval*60\n",
    "    i = i+1"
   ]
  },
  {
   "cell_type": "code",
   "execution_count": 126,
   "id": "fbd63724",
   "metadata": {},
   "outputs": [
    {
     "data": {
      "text/plain": [
       "[<matplotlib.lines.Line2D at 0x2f1de86e890>]"
      ]
     },
     "execution_count": 126,
     "metadata": {},
     "output_type": "execute_result"
    },
    {
     "data": {
      "image/png": "[encoded data removed]",
      "text/plain": [
       "<Figure size 640x480 with 1 Axes>"
      ]
     },
     "metadata": {},
     "output_type": "display_data"
    }
   ],
   "source": [
    "plt.plot(counts_list)"
   ]
  },
  {
   "cell_type": "code",
   "execution_count": 132,
   "id": "64543496",
   "metadata": {},
   "outputs": [],
   "source": [
    "start_time = data['deviceTime_unix'].iloc[0]\n",
    "stop_time = data['deviceTime_unix'].iloc[-1]\n",
    "total_time = stop_time - start_time\n",
    "interval = 4*60*60\n",
    "data_range = int(total_time/interval)\n",
    "counts_list = []\n",
    "for i in range(data_range):\n",
    "    mask = (data['deviceTime_unix'] > start_time) & \\\n",
    "            (data['deviceTime_unix'] < (start_time + interval))\n",
    "    idata = data[mask]\n",
    "    cpm = idata['cpm'].to_numpy()\n",
    "    counts = np.sum(cpm*5)\n",
    "    counts_list.append(counts)\n",
    "    start_time = start_time + interval*60"
   ]
  },
  {
   "cell_type": "code",
   "execution_count": 160,
   "id": "d20e1437",
   "metadata": {},
   "outputs": [
    {
     "data": {
      "text/plain": [
       "[<matplotlib.lines.Line2D at 0x2f1e73de550>]"
      ]
     },
     "execution_count": 160,
     "metadata": {},
     "output_type": "execute_result"
    },
    {
     "data": {
      "image/png": "[encoded data removed]",
      "text/plain": [
       "<Figure size 640x480 with 1 Axes>"
      ]
     },
     "metadata": {},
     "output_type": "display_data"
    }
   ],
   "source": [
    "plt.plot(counts_list)"
   ]
  },
  {
   "cell_type": "code",
   "execution_count": 155,
   "id": "b5ad2ae8",
   "metadata": {},
   "outputs": [],
   "source": [
    "def calc_count(input_data):\n",
    "    cpm = input_data['cpm'].to_numpy()\n",
    "    counts = np.sum(cpm*5)\n",
    "    return counts\n"
   ]
  },
  {
   "cell_type": "code",
   "execution_count": 157,
   "id": "3eee2283",
   "metadata": {},
   "outputs": [
    {
     "data": {
      "text/plain": [
       "12014.0"
      ]
     },
     "execution_count": 157,
     "metadata": {},
     "output_type": "execute_result"
    }
   ],
   "source": [
    "calc_count(data_cut)"
   ]
  },
  {
   "cell_type": "code",
   "execution_count": 159,
   "id": "51a6ba47",
   "metadata": {},
   "outputs": [],
   "source": [
    "start_time = data['deviceTime_unix'].iloc[0]\n",
    "stop_time = data['deviceTime_unix'].iloc[-1]\n",
    "total_time = stop_time - start_time\n",
    "interval = 24*60*60\n",
    "data_range = int(total_time/interval)\n",
    "counts_list = []\n",
    "for i in range(data_range):\n",
    "    mask = (data['deviceTime_unix'] > start_time) & \\\n",
    "            (data['deviceTime_unix'] < (start_time + interval))\n",
    "    idata = data[mask]\n",
    "    counts = calc_count(idata)\n",
    "    counts_list.append(counts)\n",
    "    start_time = start_time + interval"
   ]
  },
  {
   "cell_type": "code",
   "execution_count": 140,
   "id": "0c7bf8f1",
   "metadata": {},
   "outputs": [
    {
     "data": {
      "image/png": "[encoded data removed]",
      "text/plain": [
       "<Figure size 640x480 with 1 Axes>"
      ]
     },
     "metadata": {},
     "output_type": "display_data"
    }
   ],
   "source": [
    "plt.plot(data['deviceTime_unix'],data['cpm'])\n",
    "plt.ylabel(\"Counts-per-minute\")\n",
    "plt.xlabel('Time [epoch]')\n",
    "plt.show()"
   ]
  },
  {
   "cell_type": "code",
   "execution_count": 149,
   "id": "160886ee",
   "metadata": {},
   "outputs": [
    {
     "data": {
      "image/png": "[encoded data removed]",
      "text/plain": [
       "<Figure size 640x480 with 1 Axes>"
      ]
     },
     "metadata": {},
     "output_type": "display_data"
    }
   ],
   "source": [
    "plt.hist(data_cut['cpm'],bins=25)\n",
    "plt.ylabel('Frequency')\n",
    "plt.xlabel('Count per minute')\n",
    "plt.show()"
   ]
  },
  {
   "cell_type": "code",
   "execution_count": 152,
   "id": "dc752ece",
   "metadata": {},
   "outputs": [],
   "source": [
    "data_local = pd.read_csv(r\"C:\\Users\\ahanks\\Downloads\\etch_roof.csv\")"
   ]
  },
  {
   "cell_type": "code",
   "execution_count": 153,
   "id": "e2a30767",
   "metadata": {},
   "outputs": [
    {
     "data": {
      "text/html": [
       "<div>\n",
       "<style scoped>\n",
       "    .dataframe tbody tr th:only-of-type {\n",
       "        vertical-align: middle;\n",
       "    }\n",
       "\n",
       "    .dataframe tbody tr th {\n",
       "        vertical-align: top;\n",
       "    }\n",
       "\n",
       "    .dataframe thead th {\n",
       "        text-align: right;\n",
       "    }\n",
       "</style>\n",
       "<table border=\"1\" class=\"dataframe\">\n",
       "  <thead>\n",
       "    <tr style=\"text-align: right;\">\n",
       "      <th></th>\n",
       "      <th>deviceTime_utc</th>\n",
       "      <th>deviceTime_local</th>\n",
       "      <th>deviceTime_unix</th>\n",
       "      <th>cpm</th>\n",
       "      <th>cpmError</th>\n",
       "      <th>error_flag</th>\n",
       "    </tr>\n",
       "  </thead>\n",
       "  <tbody>\n",
       "    <tr>\n",
       "      <th>0</th>\n",
       "      <td>2015-11-20 02:27:13+00:00</td>\n",
       "      <td>2015-11-19 18:27:13-08:00</td>\n",
       "      <td>1.447986e+09</td>\n",
       "      <td>4.0</td>\n",
       "      <td>0.894427</td>\n",
       "      <td>NaN</td>\n",
       "    </tr>\n",
       "    <tr>\n",
       "      <th>1</th>\n",
       "      <td>2015-11-20 02:32:13+00:00</td>\n",
       "      <td>2015-11-19 18:32:13-08:00</td>\n",
       "      <td>1.447987e+09</td>\n",
       "      <td>2.8</td>\n",
       "      <td>0.748331</td>\n",
       "      <td>NaN</td>\n",
       "    </tr>\n",
       "    <tr>\n",
       "      <th>2</th>\n",
       "      <td>2015-11-20 02:37:15+00:00</td>\n",
       "      <td>2015-11-19 18:37:15-08:00</td>\n",
       "      <td>1.447987e+09</td>\n",
       "      <td>3.4</td>\n",
       "      <td>0.824621</td>\n",
       "      <td>NaN</td>\n",
       "    </tr>\n",
       "    <tr>\n",
       "      <th>3</th>\n",
       "      <td>2015-11-20 02:42:15+00:00</td>\n",
       "      <td>2015-11-19 18:42:15-08:00</td>\n",
       "      <td>1.447987e+09</td>\n",
       "      <td>2.4</td>\n",
       "      <td>0.692820</td>\n",
       "      <td>NaN</td>\n",
       "    </tr>\n",
       "    <tr>\n",
       "      <th>4</th>\n",
       "      <td>2015-11-20 02:47:16+00:00</td>\n",
       "      <td>2015-11-19 18:47:16-08:00</td>\n",
       "      <td>1.447988e+09</td>\n",
       "      <td>3.4</td>\n",
       "      <td>0.824621</td>\n",
       "      <td>NaN</td>\n",
       "    </tr>\n",
       "    <tr>\n",
       "      <th>...</th>\n",
       "      <td>...</td>\n",
       "      <td>...</td>\n",
       "      <td>...</td>\n",
       "      <td>...</td>\n",
       "      <td>...</td>\n",
       "      <td>...</td>\n",
       "    </tr>\n",
       "    <tr>\n",
       "      <th>418555</th>\n",
       "      <td>2022-09-08 10:05:42+0000</td>\n",
       "      <td>2022-09-08 03:05:42-0700</td>\n",
       "      <td>1.662632e+09</td>\n",
       "      <td>2.8</td>\n",
       "      <td>0.748331</td>\n",
       "      <td>0.0</td>\n",
       "    </tr>\n",
       "    <tr>\n",
       "      <th>418556</th>\n",
       "      <td>2022-09-08 10:10:42+0000</td>\n",
       "      <td>2022-09-08 03:10:42-0700</td>\n",
       "      <td>1.662632e+09</td>\n",
       "      <td>2.8</td>\n",
       "      <td>0.748331</td>\n",
       "      <td>0.0</td>\n",
       "    </tr>\n",
       "    <tr>\n",
       "      <th>418557</th>\n",
       "      <td>2022-09-08 10:15:42+0000</td>\n",
       "      <td>2022-09-08 03:15:42-0700</td>\n",
       "      <td>1.662632e+09</td>\n",
       "      <td>3.6</td>\n",
       "      <td>0.848528</td>\n",
       "      <td>0.0</td>\n",
       "    </tr>\n",
       "    <tr>\n",
       "      <th>418558</th>\n",
       "      <td>2022-09-08 10:20:42+0000</td>\n",
       "      <td>2022-09-08 03:20:42-0700</td>\n",
       "      <td>1.662632e+09</td>\n",
       "      <td>2.8</td>\n",
       "      <td>0.748331</td>\n",
       "      <td>0.0</td>\n",
       "    </tr>\n",
       "    <tr>\n",
       "      <th>418559</th>\n",
       "      <td>2022-09-08 10:25:42+0000</td>\n",
       "      <td>2022-09-08 03:25:42-0700</td>\n",
       "      <td>1.662633e+09</td>\n",
       "      <td>3.0</td>\n",
       "      <td>0.774597</td>\n",
       "      <td>0.0</td>\n",
       "    </tr>\n",
       "  </tbody>\n",
       "</table>\n",
       "<p>418560 rows × 6 columns</p>\n",
       "</div>"
      ],
      "text/plain": [
       "                   deviceTime_utc           deviceTime_local  deviceTime_unix  \\\n",
       "0       2015-11-20 02:27:13+00:00  2015-11-19 18:27:13-08:00     1.447986e+09   \n",
       "1       2015-11-20 02:32:13+00:00  2015-11-19 18:32:13-08:00     1.447987e+09   \n",
       "2       2015-11-20 02:37:15+00:00  2015-11-19 18:37:15-08:00     1.447987e+09   \n",
       "3       2015-11-20 02:42:15+00:00  2015-11-19 18:42:15-08:00     1.447987e+09   \n",
       "4       2015-11-20 02:47:16+00:00  2015-11-19 18:47:16-08:00     1.447988e+09   \n",
       "...                           ...                        ...              ...   \n",
       "418555   2022-09-08 10:05:42+0000   2022-09-08 03:05:42-0700     1.662632e+09   \n",
       "418556   2022-09-08 10:10:42+0000   2022-09-08 03:10:42-0700     1.662632e+09   \n",
       "418557   2022-09-08 10:15:42+0000   2022-09-08 03:15:42-0700     1.662632e+09   \n",
       "418558   2022-09-08 10:20:42+0000   2022-09-08 03:20:42-0700     1.662632e+09   \n",
       "418559   2022-09-08 10:25:42+0000   2022-09-08 03:25:42-0700     1.662633e+09   \n",
       "\n",
       "        cpm  cpmError  error_flag  \n",
       "0       4.0  0.894427         NaN  \n",
       "1       2.8  0.748331         NaN  \n",
       "2       3.4  0.824621         NaN  \n",
       "3       2.4  0.692820         NaN  \n",
       "4       3.4  0.824621         NaN  \n",
       "...     ...       ...         ...  \n",
       "418555  2.8  0.748331         0.0  \n",
       "418556  2.8  0.748331         0.0  \n",
       "418557  3.6  0.848528         0.0  \n",
       "418558  2.8  0.748331         0.0  \n",
       "418559  3.0  0.774597         0.0  \n",
       "\n",
       "[418560 rows x 6 columns]"
      ]
     },
     "execution_count": 153,
     "metadata": {},
     "output_type": "execute_result"
    }
   ],
   "source": [
    "data_local"
   ]
  },
  {
   "cell_type": "code",
   "execution_count": null,
   "id": "387724a8",
   "metadata": {},
   "outputs": [],
   "source": []
  }
 ],
 "metadata": {
  "kernelspec": {
   "display_name": "Python 3 (ipykernel)",
   "language": "python",
   "name": "python3"
  },
  "language_info": {
   "codemirror_mode": {
    "name": "ipython",
    "version": 3
   },
   "file_extension": ".py",
   "mimetype": "text/x-python",
   "name": "python",
   "nbconvert_exporter": "python",
   "pygments_lexer": "ipython3",
   "version": "3.11.5"
  }
 },
 "nbformat": 4,
 "nbformat_minor": 5
}
