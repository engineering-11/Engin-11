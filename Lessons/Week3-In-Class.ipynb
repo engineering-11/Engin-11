{
 "cells": [
  {
   "cell_type": "code",
   "execution_count": 1,
   "id": "88370edf",
   "metadata": {},
   "outputs": [],
   "source": [
    "import math"
   ]
  },
  {
   "cell_type": "code",
   "execution_count": 2,
   "id": "19d7191e",
   "metadata": {},
   "outputs": [
    {
     "name": "stdout",
     "output_type": "stream",
     "text": [
      "1.949034209913893e+22\n"
     ]
    }
   ],
   "source": [
    "t_half = 1.4e10 # years\n",
    "Mass = 232.038  # g/mol\n",
    "\n",
    "mass = 7.5 # g\n",
    "N_th = mass/Mass * 6.03e23\n",
    "print(N_th)"
   ]
  },
  {
   "cell_type": "code",
   "execution_count": 4,
   "id": "a7ec3005",
   "metadata": {},
   "outputs": [
    {
     "name": "stdout",
     "output_type": "stream",
     "text": [
      "9.65e+11\n"
     ]
    }
   ],
   "source": [
    "# A = lambda * N\n",
    "lam = math.log(2)/t_half # units - 1/years\n",
    "Act = lam * N_th\n",
    "print(\"{:.2e}\".format(Act))"
   ]
  },
  {
   "cell_type": "code",
   "execution_count": 5,
   "id": "ce08830c",
   "metadata": {},
   "outputs": [
    {
     "name": "stdout",
     "output_type": "stream",
     "text": [
      "30578.270650146664\n"
     ]
    }
   ],
   "source": [
    "Act_s = Act/(60*60*24*365.25)\n",
    "print(Act_s)"
   ]
  },
  {
   "cell_type": "code",
   "execution_count": 6,
   "id": "3e5e1f21",
   "metadata": {},
   "outputs": [
    {
     "name": "stdout",
     "output_type": "stream",
     "text": [
      "4077.1027533528886\n"
     ]
    }
   ],
   "source": [
    "spec_Act = Act_s/mass\n",
    "print(spec_Act)"
   ]
  },
  {
   "cell_type": "code",
   "execution_count": 8,
   "id": "063cbaf1",
   "metadata": {},
   "outputs": [
    {
     "data": {
      "text/plain": [
       "6115.654130029332"
      ]
     },
     "execution_count": 8,
     "metadata": {},
     "output_type": "execute_result"
    }
   ],
   "source": [
    "spec_Act*50*.03"
   ]
  },
  {
   "cell_type": "code",
   "execution_count": null,
   "id": "e9462160",
   "metadata": {},
   "outputs": [],
   "source": []
  }
 ],
 "metadata": {
  "kernelspec": {
   "display_name": "Python 3",
   "language": "python",
   "name": "python3"
  },
  "language_info": {
   "codemirror_mode": {
    "name": "ipython",
    "version": 3
   },
   "file_extension": ".py",
   "mimetype": "text/x-python",
   "name": "python",
   "nbconvert_exporter": "python",
   "pygments_lexer": "ipython3",
   "version": "3.7.3"
  }
 },
 "nbformat": 4,
 "nbformat_minor": 5
}
