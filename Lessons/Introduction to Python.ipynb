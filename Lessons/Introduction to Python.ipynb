{
 "cells": [
  {
   "cell_type": "markdown",
   "metadata": {},
   "source": [
    "# Variables\n",
    "\n",
    "Variables are symbolic names associated with information, values, which are paired with storage locations on the computer. In other words, if you wish to be able to access a piece of information, you store that information in memory and access it using this symbolic name, the variable, that has been linked to that location.\n",
    "\n",
    "We assign values to variables using the `=` opperator."
   ]
  },
  {
   "cell_type": "code",
   "execution_count": 3,
   "metadata": {},
   "outputs": [],
   "source": [
    "i = 5\n",
    "a = \"Hello World!\""
   ]
  },
  {
   "cell_type": "markdown",
   "metadata": {},
   "source": [
    "Notes on variable names:\n",
    "* They can **only** contain letters, digits, or underscores `_`\n",
    "* They **cannot** start with digits\n",
    "* Variable names that start with underscores like `__special` have a special meaning and should be avoided until you understand the convention."
   ]
  },
  {
   "cell_type": "markdown",
   "metadata": {},
   "source": [
    "You can display these values using the built-in python function, `print`, that prints things as text. To do this:\n",
    "* Call the function (i.e., tell Python to run it) by using its name\n",
    "* Provide values to the function (i.e., the things to print) in parentheses\n",
    "* The values passed to the function are called **arguments**"
   ]
  },
  {
   "cell_type": "code",
   "execution_count": 4,
   "metadata": {},
   "outputs": [
    {
     "name": "stdout",
     "output_type": "stream",
     "text": [
      "Hello World!\n"
     ]
    }
   ],
   "source": [
    "print(a)"
   ]
  },
  {
   "cell_type": "markdown",
   "metadata": {},
   "source": [
    "To add text to your print statment, use a string formatting method. For example:"
   ]
  },
  {
   "cell_type": "code",
   "execution_count": 8,
   "metadata": {},
   "outputs": [
    {
     "name": "stdout",
     "output_type": "stream",
     "text": [
      "i = 5\n",
      "Hello World! i = 5\n",
      "Hello World! i = 5\n"
     ]
    }
   ],
   "source": [
    "print(\"i = {}\".format(i))\n",
    "print(\"{} i = {}\".format(a,i))\n",
    "print(\"{1} i = {0}\".format(i,a))"
   ]
  },
  {
   "cell_type": "markdown",
   "metadata": {},
   "source": [
    "You have probably noticed that we were able to use the variables `i` and `a` across cells. This is because during a single interactive session, or in this case a jupyter notebook, variables persist - or maintain their memory location pairing and the most recently assigned value - beyond the cell (individual code block) they are defined within. Another way to say this is that variables defined as the above examples are global in scope."
   ]
  },
  {
   "cell_type": "markdown",
   "metadata": {},
   "source": [
    "### What is scope?\n",
    "Scope describes the region of your code where a variable is defined. A global variable is one accessible anywhere in the code. There are also local variables, those only defined within a code-block. For example, variables defined within functions can only be accessed in that function.\n",
    "\n",
    "**NOTE:** In many languages, loops and conditionals (for, while; if, else) also act as scope blocks. This is not the case in Python. In Python, scope is set by functions, classes, and modules: key words that we will return to later."
   ]
  },
  {
   "cell_type": "code",
   "execution_count": 9,
   "metadata": {},
   "outputs": [
    {
     "ename": "NameError",
     "evalue": "name 'b' is not defined",
     "output_type": "error",
     "traceback": [
      "\u001b[0;31m---------------------------------------------------------------------------\u001b[0m",
      "\u001b[0;31mNameError\u001b[0m                                 Traceback (most recent call last)",
      "\u001b[0;32m<ipython-input-9-67e500defa1b>\u001b[0m in \u001b[0;36m<module>\u001b[0;34m\u001b[0m\n\u001b[0;32m----> 1\u001b[0;31m \u001b[0mprint\u001b[0m\u001b[0;34m(\u001b[0m\u001b[0mb\u001b[0m\u001b[0;34m)\u001b[0m\u001b[0;34m\u001b[0m\u001b[0;34m\u001b[0m\u001b[0m\n\u001b[0m",
      "\u001b[0;31mNameError\u001b[0m: name 'b' is not defined"
     ]
    }
   ],
   "source": [
    "print(b)"
   ]
  },
  {
   "cell_type": "markdown",
   "metadata": {},
   "source": [
    "**Why did this fail?**\n",
    "\n",
    "The variable b was not previously defined, it must be defined - created - before we can use it."
   ]
  },
  {
   "cell_type": "code",
   "execution_count": 11,
   "metadata": {},
   "outputs": [
    {
     "name": "stdout",
     "output_type": "stream",
     "text": [
      "5\n"
     ]
    }
   ],
   "source": [
    "def my_function():\n",
    "    b = 5\n",
    "    print(b)\n",
    "\n",
    "my_function()"
   ]
  },
  {
   "cell_type": "code",
   "execution_count": 12,
   "metadata": {},
   "outputs": [
    {
     "ename": "NameError",
     "evalue": "name 'b' is not defined",
     "output_type": "error",
     "traceback": [
      "\u001b[0;31m---------------------------------------------------------------------------\u001b[0m",
      "\u001b[0;31mNameError\u001b[0m                                 Traceback (most recent call last)",
      "\u001b[0;32m<ipython-input-12-67e500defa1b>\u001b[0m in \u001b[0;36m<module>\u001b[0;34m\u001b[0m\n\u001b[0;32m----> 1\u001b[0;31m \u001b[0mprint\u001b[0m\u001b[0;34m(\u001b[0m\u001b[0mb\u001b[0m\u001b[0;34m)\u001b[0m\u001b[0;34m\u001b[0m\u001b[0;34m\u001b[0m\u001b[0m\n\u001b[0m",
      "\u001b[0;31mNameError\u001b[0m: name 'b' is not defined"
     ]
    }
   ],
   "source": [
    "print(b)"
   ]
  },
  {
   "cell_type": "markdown",
   "metadata": {},
   "source": [
    "**Why did this fail?**\n",
    "\n",
    "This time, `b` was defined, which is why printing `b` in the function did work. However, `b` is defined within the local scope of the function `my_function`, but outside the function there is no variable `b` defined."
   ]
  },
  {
   "cell_type": "markdown",
   "metadata": {},
   "source": [
    "# Data types\n",
    "\n",
    "Values in a program will have a specific **type** which determines the types of operations (methods) that can be performed on that value.\n",
    "\n",
    "There is a built-in method: `type` which can be used to determine the type of a variable."
   ]
  },
  {
   "cell_type": "code",
   "execution_count": 19,
   "metadata": {},
   "outputs": [
    {
     "name": "stdout",
     "output_type": "stream",
     "text": [
      "<class 'int'>\n"
     ]
    }
   ],
   "source": [
    "print(type(5))"
   ]
  },
  {
   "cell_type": "code",
   "execution_count": 21,
   "metadata": {},
   "outputs": [
    {
     "name": "stdout",
     "output_type": "stream",
     "text": [
      "<class 'int'>\n"
     ]
    }
   ],
   "source": [
    "a = 5\n",
    "print(type(a))"
   ]
  },
  {
   "cell_type": "code",
   "execution_count": 20,
   "metadata": {},
   "outputs": [
    {
     "name": "stdout",
     "output_type": "stream",
     "text": [
      "<class 'str'>\n"
     ]
    }
   ],
   "source": [
    "a = \"Hello World!\"\n",
    "print(type(a))"
   ]
  },
  {
   "cell_type": "code",
   "execution_count": 22,
   "metadata": {},
   "outputs": [
    {
     "name": "stdout",
     "output_type": "stream",
     "text": [
      "<class 'float'>\n"
     ]
    }
   ],
   "source": [
    "a = 5.5\n",
    "print(type(a))"
   ]
  },
  {
   "cell_type": "markdown",
   "metadata": {},
   "source": [
    "## Common data types\n",
    "The three examples above cover the three main basic types we will encounter: `int`, `float`, and `string`\n",
    "\n",
    "### int\n",
    "An `int` is a signed (positive or negative) whole number. Standard ints are 4 bytes, so can range from -2147483648 to 2147483647. \n",
    "\n",
    "**Where does this range come from?**\n",
    "Let's consider the example of a small int: a small int is 1 byte, meaning it can range from -128 to 127. One byte is 8 bits (a bit holding a binary value 0 or 1), so there are 7 bits for the integer value - allowing the max value 2^7 - and one bit for the sign.\n",
    "\n",
    "### float\n",
    "A `float` is a floating point (real) number, which can have fractional or decimal values. Mathematically, there are an infinite number of real numbers. In computing, the `float` type has to have a finite size, usually 4 bytes, so by definition there will be a finite set of numbers that can be expressed this way. Generally the range and precision of floats is set using this exact representation form:\n",
    "\n",
    "`significand x base^exponent`\n",
    "\n",
    "where the significand is an integer, the length of which sets the precision of the number, and the exponent is also an integer. In computing the base is 2 (binary). The standard 32-bit - single precision - format is 24 bits of precision, 7 bits for the exponent, and one for the sign.\n",
    "\n",
    "### string\n",
    "A character string, usually called a `string` or `str` is simply text. The more fundamental data type is the `char` - a 1-byte type representing a single letter, number, or symbol. In python, there is no single character type, a single character is simply a string of length one. A string is a character array, meaning unlike ints and floats it is not a single value. Therefore, although strings are often manipulated as if they were single values, there a few fundamental differences that we will encounter resulting from the non-singular nature of the `string` type. "
   ]
  },
  {
   "cell_type": "markdown",
   "metadata": {},
   "source": [
    "## Assigning type in python\n",
    "\n",
    "You may have noticed that when checking type in the examples above, I used the variable `a` in each case. Why did this work? We know that `a` is a global variable and we saw that after I assigned `a` the value `5` it was an `int`. \n",
    "\n",
    "\n",
    "What type is `a` now?"
   ]
  },
  {
   "cell_type": "code",
   "execution_count": 18,
   "metadata": {},
   "outputs": [
    {
     "name": "stdout",
     "output_type": "stream",
     "text": [
      "<class 'float'>\n"
     ]
    }
   ],
   "source": [
    "print(type(a))"
   ]
  },
  {
   "cell_type": "markdown",
   "metadata": {},
   "source": [
    "Why is `a` a float currently?"
   ]
  },
  {
   "cell_type": "markdown",
   "metadata": {},
   "source": [
    "Because the last code cell had the line `a = 5.5`."
   ]
  },
  {
   "cell_type": "markdown",
   "metadata": {},
   "source": [
    "So, we see that when we assign a value to a variable in Python that sets the type for that variable, but that type is not fixed. We can change the type for a variable by assigning it a value of a different type. This is not the case for some languages where you - in those cases you generally assign the type as part of the variable declaration, e.g. `int a = 5`."
   ]
  },
  {
   "cell_type": "markdown",
   "metadata": {},
   "source": [
    "## Operations\n",
    "\n",
    "A value's type determines what operations can be performed on that value. Some of the most basic operations are things like adding (`+`), subtracting (`-`), and multiplying (`*`).\n",
    "\n",
    "When talking about numbers, all of these operations seem pretty straight forward, and indeed all are possible for `int` and `float` types."
   ]
  },
  {
   "cell_type": "code",
   "execution_count": 40,
   "metadata": {},
   "outputs": [
    {
     "name": "stdout",
     "output_type": "stream",
     "text": [
      "8\n",
      "2\n",
      "15\n"
     ]
    }
   ],
   "source": [
    "a = 5+3\n",
    "print(a)\n",
    "\n",
    "a = 5-3\n",
    "print(a)\n",
    "\n",
    "a = 5*3\n",
    "print(a)"
   ]
  },
  {
   "cell_type": "code",
   "execution_count": 41,
   "metadata": {},
   "outputs": [
    {
     "name": "stdout",
     "output_type": "stream",
     "text": [
      "9.0\n",
      "2.0\n",
      "19.25\n"
     ]
    }
   ],
   "source": [
    "a = 5.5+3.5\n",
    "print(a)\n",
    "\n",
    "a = 5.5-3.5\n",
    "print(a)\n",
    "\n",
    "a = 5.5*3.5\n",
    "print(a)"
   ]
  },
  {
   "cell_type": "markdown",
   "metadata": {},
   "source": [
    "Strings are a bit different.\n",
    "\n",
    "Addition still makes sense, it is simply the concatenation of the strings."
   ]
  },
  {
   "cell_type": "code",
   "execution_count": 42,
   "metadata": {},
   "outputs": [
    {
     "name": "stdout",
     "output_type": "stream",
     "text": [
      "Hello World!\n"
     ]
    }
   ],
   "source": [
    "a = 'Hello' + ' ' + 'World!'\n",
    "print(a)"
   ]
  },
  {
   "cell_type": "markdown",
   "metadata": {},
   "source": [
    "Multiplication can be thought of as repeated addition. So multiplying a string by an integer *N* will simply create a new string consisting of the original string repeated *N* times."
   ]
  },
  {
   "cell_type": "code",
   "execution_count": 43,
   "metadata": {},
   "outputs": [
    {
     "name": "stdout",
     "output_type": "stream",
     "text": [
      "----------\n"
     ]
    }
   ],
   "source": [
    "a = '-' * 10\n",
    "print(a)"
   ]
  },
  {
   "cell_type": "markdown",
   "metadata": {},
   "source": [
    "Subtraction is less obvious. A string is an array of characters, subtracting one string from another is not a simple process that would always work the same way. For example, how would we interpret `'Hello World!' - 'l'`? There are three `l` characters in the first string, which should we remove? Let's try anyway:"
   ]
  },
  {
   "cell_type": "code",
   "execution_count": 44,
   "metadata": {},
   "outputs": [
    {
     "ename": "TypeError",
     "evalue": "unsupported operand type(s) for -: 'str' and 'str'",
     "output_type": "error",
     "traceback": [
      "\u001b[0;31m---------------------------------------------------------------------------\u001b[0m",
      "\u001b[0;31mTypeError\u001b[0m                                 Traceback (most recent call last)",
      "\u001b[0;32m<ipython-input-44-38d25db5be3c>\u001b[0m in \u001b[0;36m<module>\u001b[0;34m\u001b[0m\n\u001b[0;32m----> 1\u001b[0;31m \u001b[0ma\u001b[0m \u001b[0;34m=\u001b[0m \u001b[0;34m'Hello World!'\u001b[0m \u001b[0;34m-\u001b[0m \u001b[0;34m'l'\u001b[0m\u001b[0;34m\u001b[0m\u001b[0;34m\u001b[0m\u001b[0m\n\u001b[0m",
      "\u001b[0;31mTypeError\u001b[0m: unsupported operand type(s) for -: 'str' and 'str'"
     ]
    }
   ],
   "source": [
    "a = 'Hello World!' - 'l'"
   ]
  },
  {
   "cell_type": "markdown",
   "metadata": {},
   "source": [
    "### Mixing types and type conversion\n",
    "\n",
    "What about performing operations that mix types?\n",
    "\n",
    "What would it mean to add a number and a string? For example, how should we interpret `1 + \"2\"`? Is it the number `3` or the string `\"12\"`?"
   ]
  },
  {
   "cell_type": "code",
   "execution_count": 47,
   "metadata": {},
   "outputs": [
    {
     "ename": "TypeError",
     "evalue": "unsupported operand type(s) for +: 'int' and 'str'",
     "output_type": "error",
     "traceback": [
      "\u001b[0;31m---------------------------------------------------------------------------\u001b[0m",
      "\u001b[0;31mTypeError\u001b[0m                                 Traceback (most recent call last)",
      "\u001b[0;32m<ipython-input-47-cfbd11491880>\u001b[0m in \u001b[0;36m<module>\u001b[0;34m\u001b[0m\n\u001b[0;32m----> 1\u001b[0;31m \u001b[0ma\u001b[0m \u001b[0;34m=\u001b[0m \u001b[0;36m1\u001b[0m \u001b[0;34m+\u001b[0m \u001b[0;34m\"2\"\u001b[0m\u001b[0;34m\u001b[0m\u001b[0;34m\u001b[0m\u001b[0m\n\u001b[0m\u001b[1;32m      2\u001b[0m \u001b[0mprint\u001b[0m\u001b[0;34m(\u001b[0m\u001b[0ma\u001b[0m\u001b[0;34m)\u001b[0m\u001b[0;34m\u001b[0m\u001b[0;34m\u001b[0m\u001b[0m\n",
      "\u001b[0;31mTypeError\u001b[0m: unsupported operand type(s) for +: 'int' and 'str'"
     ]
    }
   ],
   "source": [
    "a = 1 + \"2\"\n",
    "print(a)"
   ]
  },
  {
   "cell_type": "markdown",
   "metadata": {},
   "source": [
    "To clear up this ambiguity, we must first convert one of the values to be the same type as the other. Standard types like these can be converted by using the type name as a function:"
   ]
  },
  {
   "cell_type": "code",
   "execution_count": 51,
   "metadata": {},
   "outputs": [
    {
     "name": "stdout",
     "output_type": "stream",
     "text": [
      "3\n",
      "12\n"
     ]
    }
   ],
   "source": [
    "a = 1 + int(\"2\")\n",
    "print(a)\n",
    "a = str(1) + \"2\"\n",
    "print(a)"
   ]
  },
  {
   "cell_type": "markdown",
   "metadata": {},
   "source": [
    "When converting a string, this will only work if the type you are attempting to convert to is valid."
   ]
  },
  {
   "cell_type": "code",
   "execution_count": 52,
   "metadata": {},
   "outputs": [
    {
     "ename": "ValueError",
     "evalue": "invalid literal for int() with base 10: '2.0'",
     "output_type": "error",
     "traceback": [
      "\u001b[0;31m---------------------------------------------------------------------------\u001b[0m",
      "\u001b[0;31mValueError\u001b[0m                                Traceback (most recent call last)",
      "\u001b[0;32m<ipython-input-52-b8c5cc4be956>\u001b[0m in \u001b[0;36m<module>\u001b[0;34m\u001b[0m\n\u001b[0;32m----> 1\u001b[0;31m \u001b[0mint\u001b[0m\u001b[0;34m(\u001b[0m\u001b[0;34m\"2.0\"\u001b[0m\u001b[0;34m)\u001b[0m\u001b[0;34m\u001b[0m\u001b[0;34m\u001b[0m\u001b[0m\n\u001b[0m",
      "\u001b[0;31mValueError\u001b[0m: invalid literal for int() with base 10: '2.0'"
     ]
    }
   ],
   "source": [
    "a = int(\"2.0\")"
   ]
  },
  {
   "cell_type": "markdown",
   "metadata": {},
   "source": [
    "This does not work because `2.0` is not an integer value. If you instead converted to a `float`, it will work."
   ]
  },
  {
   "cell_type": "code",
   "execution_count": 54,
   "metadata": {},
   "outputs": [
    {
     "name": "stdout",
     "output_type": "stream",
     "text": [
      "2.0\n"
     ]
    }
   ],
   "source": [
    "a = float(\"2.0\")\n",
    "print(a)"
   ]
  },
  {
   "cell_type": "code",
   "execution_count": 55,
   "metadata": {},
   "outputs": [
    {
     "name": "stdout",
     "output_type": "stream",
     "text": [
      "2.0\n"
     ]
    }
   ],
   "source": [
    "a = float(\"2\")\n",
    "print(a)"
   ]
  },
  {
   "cell_type": "markdown",
   "metadata": {},
   "source": [
    "Why did that work? `2` is an integer? Integers are automatically converted to floats as needed in Python 3. (In Python 2 this does not happen in integer division.) This means any of the operations that work on ints and floats will work on a mixture of the two, and the result will always be a float."
   ]
  },
  {
   "cell_type": "markdown",
   "metadata": {},
   "source": [
    "You can also convert a `float` to an `int`, this will `floor` the float (round down the decimal to the nearest integer value."
   ]
  },
  {
   "cell_type": "code",
   "execution_count": 59,
   "metadata": {},
   "outputs": [
    {
     "name": "stdout",
     "output_type": "stream",
     "text": [
      "2\n"
     ]
    }
   ],
   "source": [
    "a = int(2.3)\n",
    "print(a)"
   ]
  },
  {
   "cell_type": "markdown",
   "metadata": {},
   "source": [
    "We've touched on some of the more basic operations we can perform on data, including type conversion, but there are many other operations. Not all operations will make sense for every data type, as we've seen in the case of string subtraction. *Division* (`/`) also generally only makes sense for number types - minor caveat that we will later find that number arrays can also have mathematical operations performed on them. In Python 3, division will always return a float, even when the integer division would not require rounding."
   ]
  },
  {
   "cell_type": "code",
   "execution_count": 57,
   "metadata": {},
   "outputs": [
    {
     "name": "stdout",
     "output_type": "stream",
     "text": [
      "5.0\n"
     ]
    }
   ],
   "source": [
    "a = 10/2\n",
    "print(a)"
   ]
  },
  {
   "cell_type": "markdown",
   "metadata": {},
   "source": [
    "### length\n",
    "Because strings are arrays of characters, they have a length, and there is a built-in method to determine their length: `len`."
   ]
  },
  {
   "cell_type": "code",
   "execution_count": 45,
   "metadata": {},
   "outputs": [
    {
     "name": "stdout",
     "output_type": "stream",
     "text": [
      "12\n"
     ]
    }
   ],
   "source": [
    "a = \"Hello World!\"\n",
    "print(len(a))"
   ]
  },
  {
   "cell_type": "markdown",
   "metadata": {},
   "source": [
    "What about `int` and `float` types? These are single value data types, so what do you think the `len` method will do?"
   ]
  },
  {
   "cell_type": "code",
   "execution_count": 46,
   "metadata": {},
   "outputs": [
    {
     "ename": "TypeError",
     "evalue": "object of type 'int' has no len()",
     "output_type": "error",
     "traceback": [
      "\u001b[0;31m---------------------------------------------------------------------------\u001b[0m",
      "\u001b[0;31mTypeError\u001b[0m                                 Traceback (most recent call last)",
      "\u001b[0;32m<ipython-input-46-798082af1dcd>\u001b[0m in \u001b[0;36m<module>\u001b[0;34m\u001b[0m\n\u001b[1;32m      1\u001b[0m \u001b[0ma\u001b[0m \u001b[0;34m=\u001b[0m \u001b[0;36m5\u001b[0m\u001b[0;34m\u001b[0m\u001b[0;34m\u001b[0m\u001b[0m\n\u001b[0;32m----> 2\u001b[0;31m \u001b[0mlen\u001b[0m\u001b[0;34m(\u001b[0m\u001b[0ma\u001b[0m\u001b[0;34m)\u001b[0m\u001b[0;34m\u001b[0m\u001b[0;34m\u001b[0m\u001b[0m\n\u001b[0m",
      "\u001b[0;31mTypeError\u001b[0m: object of type 'int' has no len()"
     ]
    }
   ],
   "source": [
    "a = 5\n",
    "len(a)"
   ]
  },
  {
   "cell_type": "markdown",
   "metadata": {},
   "source": [
    "## Combining variables\n",
    "\n",
    "We've discussed performing operations directly on values of various types, but what about on variables.\n",
    "\n",
    "What is the value of `b` that will be printed in this example:\n",
    "\n",
    "`a = 10\n",
    " b = a + 5\n",
    " a = 5\n",
    " print(b)`"
   ]
  },
  {
   "cell_type": "code",
   "execution_count": 58,
   "metadata": {},
   "outputs": [
    {
     "name": "stdout",
     "output_type": "stream",
     "text": [
      "15\n"
     ]
    }
   ],
   "source": [
    "a = 10\n",
    "b = a + 5\n",
    "a = 5\n",
    "print(b)"
   ]
  },
  {
   "cell_type": "markdown",
   "metadata": {},
   "source": [
    "This may be surprising if you are used to working with spreadsheets instead of programming languages. In a spreadsheet, if we make one cell depend on another, changing the latter will change the former as well. So what's happening here?\n",
    "\n",
    "When we assign `a` the value `10` what are we doing? We are assigning the name `a` to a location in the computer memory where the value `10` is stored. We can think of `a` as a reference (or pointer) to that location. If we change `a`, we are assigning that name to a *different* location in memory where the new value is stored. \n",
    "\n",
    "But what are we doing when we say `b = a` or `b = a + 5`? \n",
    "\n",
    "We are assigning `b` to the same location in memory as `a` in the first case. In the second case, we are assigning `b` to the location in memory for the *value* resulting from `a + 5`. In either case, when we change `a` this will not change `b` because we are not changing the value `b` references, we are only changing the value `a` references."
   ]
  },
  {
   "cell_type": "markdown",
   "metadata": {},
   "source": [
    "**NOTE:** You may have noticed that when working with strings thus far, we have defined them using `'Hello World!'` and `\"Hello World!\"`. In some languages, single and double quotes do actually create different data types, but they are interchangeable in Python."
   ]
  },
  {
   "cell_type": "markdown",
   "metadata": {},
   "source": [
    "# List-like data types\n",
    "\n",
    "We have already worked with one list-like data type - the `string`: an array of characters - and learned about one operation we can perform on such types - the `len` method to determine the length of the string. We will now explore some of the other operations we can do on these sorts of data types. We will start by listing some of the common list-like data types and then explore some of the methods available, and some of the differences.\n",
    "\n",
    "List-like data types:\n",
    "* strings\n",
    "* tuples\n",
    "* lists\n",
    "* numpy arrays\n",
    "\n",
    "Let's take a look at how to declare these different types, and what we can put in them. For example, strings are declared using single or double quotes around text: `'my string'` or `\"my string\"`. Only characters can go in strings, but anything symbol or number can be represented as a character, so in principle we can store any type of data as strings, it just won't generally be the most efficient way of doing so. Now we'll explore the other types.\n",
    "\n",
    "### Tuples"
   ]
  },
  {
   "cell_type": "code",
   "execution_count": 79,
   "metadata": {},
   "outputs": [
    {
     "name": "stdout",
     "output_type": "stream",
     "text": [
      "<class 'tuple'>\n",
      "(0, 1, 2, 3, 4, 5)\n"
     ]
    }
   ],
   "source": [
    "a = (0,1,2,3,4,5)\n",
    "print(type(a))\n",
    "print(a)"
   ]
  },
  {
   "cell_type": "code",
   "execution_count": 88,
   "metadata": {},
   "outputs": [
    {
     "name": "stdout",
     "output_type": "stream",
     "text": [
      "('0', '1', '2', '3', '4', '5')\n"
     ]
    }
   ],
   "source": [
    "a = ('0','1','2','3','4','5')\n",
    "print(a)"
   ]
  },
  {
   "cell_type": "code",
   "execution_count": 77,
   "metadata": {},
   "outputs": [
    {
     "name": "stdout",
     "output_type": "stream",
     "text": [
      "(0, 1, 2, 3.0, '4.0', '5')\n"
     ]
    }
   ],
   "source": [
    "a = (0,1,2,3.0,'4.0','5')\n",
    "print(a)"
   ]
  },
  {
   "cell_type": "code",
   "execution_count": 113,
   "metadata": {},
   "outputs": [
    {
     "name": "stdout",
     "output_type": "stream",
     "text": [
      "((0, 1, 2), (3, 4), 5)\n"
     ]
    }
   ],
   "source": [
    "a = ((0,1,2),(3,4),5)\n",
    "print(a)"
   ]
  },
  {
   "cell_type": "markdown",
   "metadata": {},
   "source": [
    "\n",
    "From these examples we have a few takeaways: \n",
    "* Tuples are declared using rounded brackets\n",
    "* Tuples can be filled with any of the standard data types we have learned about so far, or any mixture of those types. In fact, each element of a tuple can be any type, including tuples or even your own methods or classes.\n",
    "\n",
    "### Lists"
   ]
  },
  {
   "cell_type": "code",
   "execution_count": 82,
   "metadata": {},
   "outputs": [
    {
     "name": "stdout",
     "output_type": "stream",
     "text": [
      "<class 'list'>\n",
      "[0, 1, 2, 3, 4, 5]\n"
     ]
    }
   ],
   "source": [
    "a = [0,1,2,3,4,5]\n",
    "print(type(a))\n",
    "print(a)"
   ]
  },
  {
   "cell_type": "code",
   "execution_count": 83,
   "metadata": {},
   "outputs": [
    {
     "name": "stdout",
     "output_type": "stream",
     "text": [
      "['0', '1', '2', '3', '4', '5']\n"
     ]
    }
   ],
   "source": [
    "a = ['0','1','2','3','4','5']\n",
    "print(a)"
   ]
  },
  {
   "cell_type": "code",
   "execution_count": 84,
   "metadata": {},
   "outputs": [
    {
     "name": "stdout",
     "output_type": "stream",
     "text": [
      "[0, 1, 2, 3.0, '4.0', '5']\n"
     ]
    }
   ],
   "source": [
    "a = [0,1,2,3.0,'4.0','5']\n",
    "print(a)"
   ]
  },
  {
   "cell_type": "code",
   "execution_count": 85,
   "metadata": {},
   "outputs": [
    {
     "name": "stdout",
     "output_type": "stream",
     "text": [
      "[(0, 1, 2), (3, 4, 5)]\n"
     ]
    }
   ],
   "source": [
    "a = [(0,1,2),(3,4,5)]\n",
    "print(a)"
   ]
  },
  {
   "cell_type": "code",
   "execution_count": 112,
   "metadata": {},
   "outputs": [
    {
     "name": "stdout",
     "output_type": "stream",
     "text": [
      "[[0, 1, 2], [3, 4], 5]\n"
     ]
    }
   ],
   "source": [
    "a = [[0,1,2],[3,4],5]\n",
    "print(a)"
   ]
  },
  {
   "cell_type": "markdown",
   "metadata": {},
   "source": [
    "From these examples the takaways are:\n",
    "* Lists are declared using square brackets: `[]`\n",
    "* Lists can also be filled with any of the standard data types we have learned about so far, or any mixture of those types, etc.\n",
    "\n",
    "### Arrays\n",
    "In Python, when we talk about arrays, we are talking about a specific implementation: `numpy arrays`. Python does not have a built-in array data type, it uses lists for everything. Lists are very powerful, but because they can contain arbitrary data-types, they are less efficient when it comes to the manipulation of large data sets. Because there is no built in array-type, we hvae to `import` the module/library we wish to use. We will discuss the syntax for importing libraries more in a future section. "
   ]
  },
  {
   "cell_type": "code",
   "execution_count": 89,
   "metadata": {},
   "outputs": [],
   "source": [
    "import numpy as np"
   ]
  },
  {
   "cell_type": "code",
   "execution_count": 155,
   "metadata": {},
   "outputs": [
    {
     "name": "stdout",
     "output_type": "stream",
     "text": [
      "<class 'numpy.ndarray'>\n",
      "int64\n"
     ]
    }
   ],
   "source": [
    "a = np.array([0,1,2,3,4,5])\n",
    "print(type(a))\n",
    "print(a.dtype)"
   ]
  },
  {
   "cell_type": "code",
   "execution_count": 153,
   "metadata": {},
   "outputs": [
    {
     "name": "stdout",
     "output_type": "stream",
     "text": [
      "[0. 1. 2. 3. 4. 5.]\n",
      "float64\n"
     ]
    }
   ],
   "source": [
    "a = np.array([0,1.0,2,3,4.0,5.0])\n",
    "print(a)\n",
    "print(a.dtype)"
   ]
  },
  {
   "cell_type": "code",
   "execution_count": 109,
   "metadata": {},
   "outputs": [
    {
     "name": "stdout",
     "output_type": "stream",
     "text": [
      "['0' '1' '2' '3' '4' '5']\n",
      "<U1\n"
     ]
    }
   ],
   "source": [
    "a = np.array(['0','1','2','3','4','5'])\n",
    "print(a)\n",
    "print(a.dtype)"
   ]
  },
  {
   "cell_type": "code",
   "execution_count": 116,
   "metadata": {},
   "outputs": [
    {
     "name": "stdout",
     "output_type": "stream",
     "text": [
      "['0' '1.0' '2' '3' '4' '5']\n",
      "<U32\n"
     ]
    }
   ],
   "source": [
    "a = np.array([0,1.0,'2','3','4','5'])\n",
    "print(a)\n",
    "print(a.dtype)"
   ]
  },
  {
   "cell_type": "code",
   "execution_count": 151,
   "metadata": {},
   "outputs": [
    {
     "name": "stdout",
     "output_type": "stream",
     "text": [
      "[[0 1 2]\n",
      " [3 4 5]]\n",
      "int64\n",
      "(2, 3)\n"
     ]
    }
   ],
   "source": [
    "a = np.array([[0,1,2],[3,4,5]])\n",
    "print(a)\n",
    "print(a.dtype)\n",
    "print(a.shape)"
   ]
  },
  {
   "cell_type": "code",
   "execution_count": 149,
   "metadata": {},
   "outputs": [
    {
     "name": "stdout",
     "output_type": "stream",
     "text": [
      "[list([0, 1, 2]) list([3, 4]) 5]\n",
      "object\n",
      "(3,)\n"
     ]
    }
   ],
   "source": [
    "a = np.array([[0,1,2],[3,4],5])\n",
    "print(a)\n",
    "print(a.dtype)\n",
    "print(a.shape)"
   ]
  },
  {
   "cell_type": "markdown",
   "metadata": {},
   "source": [
    "A few notes on some new concepts:\n",
    "* Properties of the array can be accessed with array.property, i.e. `array.shape` or `array.dtype`:\n",
    "  * This is how properties of any class are accessed - we will discuss classes more in another lesson\n",
    "  * `dtype`: this is the type for the elements in the numpy array\n",
    "  * `shape`: this is a tuple giving the number of rows and columns: if we have an *N*-dimensional array, the lenght of the shape tuple is *N* and each element of the shape tuple givens the length of that dimension.\n",
    "* New types:\n",
    "  * `int64`: that simply means that these are 64-bit (8-byte) integers, rather than the 4-byte default\n",
    "  * `float64`: again, 64-bit floats (double precision) rather than 32-bit. \n",
    "  * new string types: here the `U` indicates `unicode`, which is the particular way of encoding symbols and characters, `U1` is a 1-byte `char` - the usual - and `U32` is a 32-bit (4-byte) `char`. This larger size is chosen when floats are represented by strings because floats can generally be much larger in size than single characters.\n",
    "\n",
    "These examples also leave us with a few take-aways:\n",
    "* You create a numpy array with the array() method, giving it the input list of elements as an argument to the method.\n",
    "* Numpy can take any valid list and convert it to a numpy array, however they do have some unique behavior. \n",
    "  * If you create a numpy array with a mixture of integers and floats, it will convert all integers to floats. If you create the array with a mixture of strings and numbers, it will convert all elements to strings.\n",
    "  * Numpy arrays created with a list of lists of the same length will create a multi-dimentional array.\n",
    "  * Arrays created with a mixture of lists of different lenght and individual numbers will treat each element as an arbitrary `object` type\n",
    "\n",
    "As we go forward, we will find that many of the numpy array specific methods we encounter only work with arrays of numbers. Generally, it is not useful to use arrays rather than the built-in list type when working with arbitrary object types."
   ]
  },
  {
   "cell_type": "markdown",
   "metadata": {},
   "source": [
    "We will now explore some of the methods available for manipulating list-like data types.\n",
    "\n",
    "## Accessing elements\n",
    "\n",
    "* An item in a list is called an element. Whenever we treat a string as if it were a list, the string’s elements are its individual characters.\n",
    "* This works the same way for all list-like data types.\n",
    "* Elements of a list-like type are accessed using their index (numerical position in the list).\n",
    "* The list index starts at `0` (unlike in MatLab, or Fortran, where it starts at `1`).\n",
    "* You can access elements from the end of the list using negitive integers: `-1` is the last element, `-2` second to last, etc."
   ]
  },
  {
   "cell_type": "code",
   "execution_count": 120,
   "metadata": {},
   "outputs": [
    {
     "name": "stdout",
     "output_type": "stream",
     "text": [
      "H\n",
      "W\n",
      "!\n",
      "d\n"
     ]
    }
   ],
   "source": [
    "a = 'Hello World!'\n",
    "print(a[0])\n",
    "print(a[6])\n",
    "print(a[-1])\n",
    "print(a[-2])"
   ]
  },
  {
   "cell_type": "code",
   "execution_count": 121,
   "metadata": {},
   "outputs": [
    {
     "name": "stdout",
     "output_type": "stream",
     "text": [
      "first: 0, last: 5\n"
     ]
    }
   ],
   "source": [
    "a = (0,1,2,3,4,5)\n",
    "print(\"first: {}, last: {}\".format(a[0],a[-1]))"
   ]
  },
  {
   "cell_type": "code",
   "execution_count": 122,
   "metadata": {},
   "outputs": [
    {
     "name": "stdout",
     "output_type": "stream",
     "text": [
      "first: 0, last: 5\n"
     ]
    }
   ],
   "source": [
    "a = [0,1,2,3,4,5]\n",
    "print(\"first: {}, last: {}\".format(a[0],a[-1]))"
   ]
  },
  {
   "cell_type": "code",
   "execution_count": 123,
   "metadata": {},
   "outputs": [
    {
     "name": "stdout",
     "output_type": "stream",
     "text": [
      "first: 0, last: 5\n"
     ]
    }
   ],
   "source": [
    "a = np.array([0,1,2,3,4,5])\n",
    "print(\"first: {}, last: {}\".format(a[0],a[-1]))"
   ]
  },
  {
   "cell_type": "markdown",
   "metadata": {},
   "source": [
    "## Slicing\n",
    "\n",
    "* A slice is a part of a a list-like thing.\n",
    "* We take a slice by using [start:stop], where start is replaced with the index of the first element we want and stop is replaced with the index of the element just after the last element we want.\n",
    "* Mathematically, you might say that a slice selects [start:stop).\n",
    "* The difference between stop and start is the slice’s length.\n",
    "* Taking a slice does not change the contents of the original list-like object. Instead, the slice is a copy of part of the original.\n",
    "* In the case of strings, a part of a string is called a substring. A substring can be as short as a single character."
   ]
  },
  {
   "cell_type": "code",
   "execution_count": 67,
   "metadata": {},
   "outputs": [
    {
     "name": "stdout",
     "output_type": "stream",
     "text": [
      "Hello\n",
      "Hello World!\n"
     ]
    }
   ],
   "source": [
    "a = 'Hello World!'\n",
    "b = a[0:5]\n",
    "print(b)\n",
    "print(a)"
   ]
  },
  {
   "cell_type": "code",
   "execution_count": 126,
   "metadata": {},
   "outputs": [
    {
     "name": "stdout",
     "output_type": "stream",
     "text": [
      "[0, 1, 2]\n"
     ]
    }
   ],
   "source": [
    "a = [0,1,2,3,4,5]\n",
    "print(a[0:3])"
   ]
  },
  {
   "cell_type": "markdown",
   "metadata": {},
   "source": [
    "* What do you think `a[:4]` will do?\n",
    "* What does `a[2:]` do?\n",
    "* What does `a[3:-2]` do?\n",
    "* What about `a[:]`?"
   ]
  },
  {
   "cell_type": "code",
   "execution_count": 128,
   "metadata": {},
   "outputs": [
    {
     "name": "stdout",
     "output_type": "stream",
     "text": [
      "[0, 1, 2, 3]\n",
      "[2, 3, 4, 5]\n",
      "[3]\n",
      "[0, 1, 2, 3, 4, 5]\n"
     ]
    }
   ],
   "source": [
    "print(a[:4])\n",
    "print(a[2:])\n",
    "print(a[3:-2])\n",
    "print(a[:])"
   ]
  },
  {
   "cell_type": "code",
   "execution_count": 139,
   "metadata": {},
   "outputs": [
    {
     "name": "stdout",
     "output_type": "stream",
     "text": [
      "[[ 0  1  2  3]\n",
      " [ 4  5  6  7]\n",
      " [ 8  9 10 11]]\n",
      "[]\n"
     ]
    }
   ],
   "source": [
    "a = np.array([[0,1,2,3],[4,5,6,7],[8,9,10,11]])\n",
    "print(a)\n",
    "print(a[3:6])"
   ]
  },
  {
   "cell_type": "markdown",
   "metadata": {},
   "source": [
    "**What happened?** Why was the sliced array empty?\n",
    "\n",
    "The numpy array we created has two dimensions:"
   ]
  },
  {
   "cell_type": "code",
   "execution_count": 140,
   "metadata": {},
   "outputs": [
    {
     "data": {
      "text/plain": [
       "(3, 4)"
      ]
     },
     "execution_count": 140,
     "metadata": {},
     "output_type": "execute_result"
    }
   ],
   "source": [
    "a.shape"
   ]
  },
  {
   "cell_type": "markdown",
   "metadata": {},
   "source": [
    "Neither dimension is longer than 3 entries, so there are not elements in index 3-6.\n",
    "\n",
    "How do we slice in this multidemensional case? \n",
    "\n",
    "First, how do we access elements? Based on the way the `shape` is reported, it's not a bad guess to assume that we can access the row and column index using two comma-separated indices.\n",
    "\n",
    "What will these return:\n",
    "* `a[0]`?\n",
    "* `a[0, 1]`?\n",
    "* `a[1, 2]`?"
   ]
  },
  {
   "cell_type": "code",
   "execution_count": 141,
   "metadata": {},
   "outputs": [
    {
     "name": "stdout",
     "output_type": "stream",
     "text": [
      "[0 1 2 3]\n",
      "1\n",
      "6\n"
     ]
    }
   ],
   "source": [
    "print(a[0])\n",
    "print(a[0, 1])\n",
    "print(a[1, 2])"
   ]
  },
  {
   "cell_type": "markdown",
   "metadata": {},
   "source": [
    "Slicing will work the same way:"
   ]
  },
  {
   "cell_type": "code",
   "execution_count": 143,
   "metadata": {},
   "outputs": [
    {
     "name": "stdout",
     "output_type": "stream",
     "text": [
      "[[1 2]\n",
      " [5 6]]\n"
     ]
    }
   ],
   "source": [
    "print(a[0:2, 1:3])"
   ]
  },
  {
   "cell_type": "markdown",
   "metadata": {},
   "source": [
    "## Modifying List-like types\n",
    "\n",
    "We will now take a minute to explore how to modify or add to the values stored in list-like data types.\n",
    "\n",
    "We have seen how to access elements from list-like types. Can we change them?"
   ]
  },
  {
   "cell_type": "code",
   "execution_count": 187,
   "metadata": {},
   "outputs": [
    {
     "name": "stdout",
     "output_type": "stream",
     "text": [
      "[0, 3, 2]\n"
     ]
    }
   ],
   "source": [
    "a = [0,1,2]\n",
    "a[1] = 3\n",
    "print(a)"
   ]
  },
  {
   "cell_type": "code",
   "execution_count": 188,
   "metadata": {},
   "outputs": [
    {
     "ename": "TypeError",
     "evalue": "'tuple' object does not support item assignment",
     "output_type": "error",
     "traceback": [
      "\u001b[0;31m---------------------------------------------------------------------------\u001b[0m",
      "\u001b[0;31mTypeError\u001b[0m                                 Traceback (most recent call last)",
      "\u001b[0;32m<ipython-input-188-da52b3e64729>\u001b[0m in \u001b[0;36m<module>\u001b[0;34m\u001b[0m\n\u001b[1;32m      1\u001b[0m \u001b[0ma\u001b[0m \u001b[0;34m=\u001b[0m \u001b[0;34m(\u001b[0m\u001b[0;36m0\u001b[0m\u001b[0;34m,\u001b[0m\u001b[0;36m1\u001b[0m\u001b[0;34m,\u001b[0m\u001b[0;36m2\u001b[0m\u001b[0;34m)\u001b[0m\u001b[0;34m\u001b[0m\u001b[0;34m\u001b[0m\u001b[0m\n\u001b[0;32m----> 2\u001b[0;31m \u001b[0ma\u001b[0m\u001b[0;34m[\u001b[0m\u001b[0;36m1\u001b[0m\u001b[0;34m]\u001b[0m \u001b[0;34m=\u001b[0m \u001b[0;36m3\u001b[0m\u001b[0;34m\u001b[0m\u001b[0;34m\u001b[0m\u001b[0m\n\u001b[0m\u001b[1;32m      3\u001b[0m \u001b[0mprint\u001b[0m\u001b[0;34m(\u001b[0m\u001b[0ma\u001b[0m\u001b[0;34m)\u001b[0m\u001b[0;34m\u001b[0m\u001b[0;34m\u001b[0m\u001b[0m\n",
      "\u001b[0;31mTypeError\u001b[0m: 'tuple' object does not support item assignment"
     ]
    }
   ],
   "source": [
    "a = (0,1,2)\n",
    "a[1] = 3\n",
    "print(a)"
   ]
  },
  {
   "cell_type": "code",
   "execution_count": 189,
   "metadata": {},
   "outputs": [
    {
     "ename": "TypeError",
     "evalue": "'str' object does not support item assignment",
     "output_type": "error",
     "traceback": [
      "\u001b[0;31m---------------------------------------------------------------------------\u001b[0m",
      "\u001b[0;31mTypeError\u001b[0m                                 Traceback (most recent call last)",
      "\u001b[0;32m<ipython-input-189-a90031d47485>\u001b[0m in \u001b[0;36m<module>\u001b[0;34m\u001b[0m\n\u001b[1;32m      1\u001b[0m \u001b[0ma\u001b[0m \u001b[0;34m=\u001b[0m \u001b[0;34m\"Hello\"\u001b[0m\u001b[0;34m\u001b[0m\u001b[0;34m\u001b[0m\u001b[0m\n\u001b[0;32m----> 2\u001b[0;31m \u001b[0ma\u001b[0m\u001b[0;34m[\u001b[0m\u001b[0;36m0\u001b[0m\u001b[0;34m]\u001b[0m \u001b[0;34m=\u001b[0m \u001b[0;34m'h'\u001b[0m\u001b[0;34m\u001b[0m\u001b[0;34m\u001b[0m\u001b[0m\n\u001b[0m\u001b[1;32m      3\u001b[0m \u001b[0mprint\u001b[0m\u001b[0;34m(\u001b[0m\u001b[0ma\u001b[0m\u001b[0;34m)\u001b[0m\u001b[0;34m\u001b[0m\u001b[0;34m\u001b[0m\u001b[0m\n",
      "\u001b[0;31mTypeError\u001b[0m: 'str' object does not support item assignment"
     ]
    }
   ],
   "source": [
    "a = \"Hello\"\n",
    "a[0] = 'h'\n",
    "print(a)"
   ]
  },
  {
   "cell_type": "markdown",
   "metadata": {},
   "source": [
    "To explore why we are able to assign new values to individual 'items' of the list, but not strings or tuples, lets step back and look again at some of the features of variable assignment we've already discussed.\n",
    "\n",
    "When discussing types initially we learned about how to add two strings together:"
   ]
  },
  {
   "cell_type": "code",
   "execution_count": 193,
   "metadata": {},
   "outputs": [
    {
     "name": "stdout",
     "output_type": "stream",
     "text": [
      "Hello World!\n"
     ]
    }
   ],
   "source": [
    "a = \"Hello\"\n",
    "b = a + \" World!\"\n",
    "print(b)"
   ]
  },
  {
   "cell_type": "markdown",
   "metadata": {},
   "source": [
    "We can do the same with tuples and lists:"
   ]
  },
  {
   "cell_type": "code",
   "execution_count": 178,
   "metadata": {},
   "outputs": [
    {
     "name": "stdout",
     "output_type": "stream",
     "text": [
      "(0, 1, 2, 3, 4, 5)\n"
     ]
    }
   ],
   "source": [
    "a = (0,1,2)\n",
    "b = a + (3,4,5)\n",
    "print(b)"
   ]
  },
  {
   "cell_type": "code",
   "execution_count": 192,
   "metadata": {},
   "outputs": [
    {
     "name": "stdout",
     "output_type": "stream",
     "text": [
      "[0, 1, 2, 3, 4, 5]\n"
     ]
    }
   ],
   "source": [
    "a = [0,1,2]\n",
    "b = a + [3,4,5]\n",
    "print(b)"
   ]
  },
  {
   "cell_type": "markdown",
   "metadata": {},
   "source": [
    "Now, in our discussion of creating new variables that depend on previously defined variables, following the example above, we learned that once you define `b`, you can change `a` and it will not change `b`. Why?"
   ]
  },
  {
   "cell_type": "code",
   "execution_count": 170,
   "metadata": {},
   "outputs": [
    {
     "name": "stdout",
     "output_type": "stream",
     "text": [
      "Hello World!\n"
     ]
    }
   ],
   "source": [
    "a = \"Hello World!\"\n",
    "b = a\n",
    "a = \"Goodbye World!\"\n",
    "print(b)"
   ]
  },
  {
   "cell_type": "markdown",
   "metadata": {},
   "source": [
    "Again, this is because when we say `b = a` we are telling `b` to reference the same location in memory that `a` is currently references where the value `Hello World!` is being stored. When we change `a` we are not changing the value in memory that `b` is referencing, we are telling `a` to references a different location in memory, where the new value, `Goodbye World!` is being stored.\n",
    "\n",
    "The same is true for tuples:"
   ]
  },
  {
   "cell_type": "code",
   "execution_count": 171,
   "metadata": {},
   "outputs": [
    {
     "name": "stdout",
     "output_type": "stream",
     "text": [
      "(0, 1, 2)\n"
     ]
    }
   ],
   "source": [
    "a = (0,1,2)\n",
    "b = a\n",
    "a = (3,4,5)\n",
    "print(b)"
   ]
  },
  {
   "cell_type": "markdown",
   "metadata": {},
   "source": [
    "Now let's try lists:"
   ]
  },
  {
   "cell_type": "code",
   "execution_count": 172,
   "metadata": {},
   "outputs": [
    {
     "name": "stdout",
     "output_type": "stream",
     "text": [
      "[0, 1, 2]\n"
     ]
    }
   ],
   "source": [
    "a = [0,1,2]\n",
    "b = a\n",
    "a = [3,4,5]\n",
    "print(b)"
   ]
  },
  {
   "cell_type": "markdown",
   "metadata": {},
   "source": [
    "So far so good, but in all of these cases we set `a` equal to a new value, meaning we changed the location in memory that `a` is referencing. However, we learned above that we can change individual elements of a list, what happens if we only change part of `a`?"
   ]
  },
  {
   "cell_type": "code",
   "execution_count": 173,
   "metadata": {},
   "outputs": [
    {
     "name": "stdout",
     "output_type": "stream",
     "text": [
      "[3, 1, 2]\n"
     ]
    }
   ],
   "source": [
    "a = [0,1,2]\n",
    "b = a\n",
    "a[0] = 3\n",
    "print(b)"
   ]
  },
  {
   "cell_type": "markdown",
   "metadata": {},
   "source": [
    "Now `b` did change! What's going on?"
   ]
  },
  {
   "cell_type": "markdown",
   "metadata": {},
   "source": [
    "## Mutable and Immutable types\n",
    "\n",
    "In the example above, when we changed only a part of list `a`, we actually changed the values being stored in the location in memory that `a` references. The line `b = a` created the variable `b` as a reference to the *same memory location* as `a`. So, when we change the values being stored at that memory location using `a` as the reference, `b` also changes. This is a fundamental property of **mutable** data types. Lists are **mutable**, meaning that the data the list, or any mutable type, stores can be changed. \n",
    "\n",
    "Numbers are an example of an **immutable** type, meaning you cannot change the data. This seems obvious in this case. If you say `a = 2`, so `a` is a reference to the value `2`, you cannot change `2`, `2` is always `2`. All you can do is change `a` to reference a different value. This is also true for strings and tuples: they **immutable**. This is why even though we can access individual elements of strings and tuples, we cannot change those elements. Once a string or tuple is created, that string or tuple value cannot be changed. You instead have to tell your variable to reference a new string value.\n",
    "\n",
    "So how do we make variables with mutable values independent?"
   ]
  },
  {
   "cell_type": "code",
   "execution_count": 194,
   "metadata": {},
   "outputs": [
    {
     "name": "stdout",
     "output_type": "stream",
     "text": [
      "[0, 1, 2]\n"
     ]
    }
   ],
   "source": [
    "a = [0,1,2]\n",
    "b = list(a)\n",
    "a[0] = 3\n",
    "print(b)"
   ]
  },
  {
   "cell_type": "markdown",
   "metadata": {},
   "source": [
    "Here we used the `list` function to make a copy of list `a` - a new memory location - that the new variable `b` is now references. So now when we change `a` that does not change `b`: they are not referencing the same memory location in this case."
   ]
  },
  {
   "cell_type": "markdown",
   "metadata": {},
   "source": [
    "**Bonus question:** We said that to change a variable with an immutable value, we have to set it equal to a different value, meaning it now references a different memory location on the computer. What happens to the old value that no-longer has a variable to reference it?"
   ]
  },
  {
   "cell_type": "markdown",
   "metadata": {},
   "source": [
    "## Functions and Methods\n",
    "\n",
    "A function is a block of code which only runs when it is called. You can pass data, into a function and a function can return data as a result.\n",
    "\n",
    "### Built-in Functions\n",
    "We've already seen several examples of functions: `print`, `len`, `type`, and even the `int`, `float`, and `string` functions that changed an existing value from one type to another. These are all built-in functions (meaning they are part of the basic Python interpreter and do not require the `import` of a particular library) that apply broadly, although `len` only applies to list-like types.\n",
    "\n",
    "Here are a few general rules about functions:\n",
    "* an *argument* is a value passed into a function\n",
    "* Functions can take zero arguments\n",
    "* To call a function, you must use round brackets, even if you give no arguments, so that Python knows a function is being called: `(<argument>)`\n",
    "* Functions can take multiple arguments, separated by commas: `function(arg1, arg2, ...)`\n",
    "* Functions always return a value. If no return value is provided within the function code block, it will return None\n",
    "\n",
    "### Creating functions\n",
    "We will encounter more advanced features of functions as we go forward, but the basic syntax for defining your own function is:"
   ]
  },
  {
   "cell_type": "code",
   "execution_count": 163,
   "metadata": {},
   "outputs": [
    {
     "name": "stdout",
     "output_type": "stream",
     "text": [
      "This is Dr. Hanks's function!\n"
     ]
    }
   ],
   "source": [
    "def my_function(my_name):\n",
    "    print(\"This is {}'s function!\".format(my_name))\n",
    "\n",
    "my_function(\"Dr. Hanks\")"
   ]
  },
  {
   "cell_type": "markdown",
   "metadata": {},
   "source": [
    "### Methods\n",
    "\n",
    "Methods are a particular type of function which is associated with a specific object (or class) and can only be called on that object: in other words methods are functions that belong to objects. Methods also have access to the data stored by the object, and in some cases can be used to modify that data, while in general Functions cannot modify the data stored by an object."
   ]
  },
  {
   "cell_type": "markdown",
   "metadata": {},
   "source": [
    "#### List-like type methods\n",
    "\n",
    "All of the built-in list-like types in Python have a few fundamental methods in common:\n",
    "* `count()`: returns the number of times a specified value occurs\n",
    "* `index()`: returns the index for the first element with the specified value"
   ]
  },
  {
   "cell_type": "code",
   "execution_count": 198,
   "metadata": {},
   "outputs": [
    {
     "name": "stdout",
     "output_type": "stream",
     "text": [
      "2\n",
      "8\n"
     ]
    }
   ],
   "source": [
    "a = \"Hello World!\"\n",
    "print(a.count('o'))\n",
    "print(a.index('r'))"
   ]
  },
  {
   "cell_type": "code",
   "execution_count": 202,
   "metadata": {},
   "outputs": [
    {
     "name": "stdout",
     "output_type": "stream",
     "text": [
      "3\n",
      "4\n"
     ]
    }
   ],
   "source": [
    "a = (0,0,1,1,2,3,3,3,4)\n",
    "print(a.count(3))\n",
    "print(a.index(2))"
   ]
  },
  {
   "cell_type": "markdown",
   "metadata": {},
   "source": [
    "Because tuples are immutable, these are the only methods available. These methods access the data stored in the tuple, but do not attempt to modify that data. Strings are also limited, but many text-editing related methods exist for string objects, the key point is that they all *return a new string*. \n",
    "\n",
    "For example, the `capitalize()` method capitalizes the first letter of a string, which sounds like it changes the string, let's give it a try:"
   ]
  },
  {
   "cell_type": "code",
   "execution_count": 207,
   "metadata": {},
   "outputs": [
    {
     "name": "stdout",
     "output_type": "stream",
     "text": [
      "Hello world!\n"
     ]
    }
   ],
   "source": [
    "a = \"hello World!\"\n",
    "print(a.capitalize())"
   ]
  },
  {
   "cell_type": "code",
   "execution_count": 208,
   "metadata": {},
   "outputs": [
    {
     "name": "stdout",
     "output_type": "stream",
     "text": [
      "hello World!\n"
     ]
    }
   ],
   "source": [
    "print(a)"
   ]
  },
  {
   "cell_type": "markdown",
   "metadata": {},
   "source": [
    "#### List methods\n",
    "Lists are mutable, so there are many more things we can do with lists to manipulate their data in useful ways. \n",
    "* `append()`: adds single values to the end of a list\n",
    "* `extend()`: adds the elements of any list-like type to the end of the current list\n",
    "* `sort()`: sorts the list\n",
    "* `pop()`: removes the element at the specified position\n",
    "\n",
    "And more. In Jupyter, or iPython, you can see all of the available methods by typing the name of your list variable followed by a dot to indicate that you want to use a list method and hitting tab."
   ]
  },
  {
   "cell_type": "code",
   "execution_count": 212,
   "metadata": {},
   "outputs": [
    {
     "name": "stdout",
     "output_type": "stream",
     "text": [
      "[0, 1, 2]\n",
      "[0, 1, 2, 3]\n"
     ]
    }
   ],
   "source": [
    "a = [0,1,2]\n",
    "print(a)\n",
    "a.append(3)\n",
    "print(a)"
   ]
  },
  {
   "cell_type": "code",
   "execution_count": 213,
   "metadata": {},
   "outputs": [
    {
     "name": "stdout",
     "output_type": "stream",
     "text": [
      "[4, 5, 6, 0, 1, 2, 3]\n"
     ]
    }
   ],
   "source": [
    "b = [4,5,6]\n",
    "b.extend(a)\n",
    "print(b)"
   ]
  },
  {
   "cell_type": "code",
   "execution_count": 214,
   "metadata": {},
   "outputs": [
    {
     "name": "stdout",
     "output_type": "stream",
     "text": [
      "[0, 1, 2, 3, 4, 5, 6]\n"
     ]
    }
   ],
   "source": [
    "b.sort()\n",
    "print(b)"
   ]
  },
  {
   "cell_type": "code",
   "execution_count": 215,
   "metadata": {},
   "outputs": [
    {
     "name": "stdout",
     "output_type": "stream",
     "text": [
      "[0, 1, 2, 3, 4, 5]\n"
     ]
    }
   ],
   "source": [
    "b.pop(-1)\n",
    "print(b)"
   ]
  },
  {
   "cell_type": "markdown",
   "metadata": {},
   "source": [
    "#### Numpy functions\n",
    "\n",
    "In data analysis, a helpful feature of numpy arrays is that common mathematical operations can be performed on them and the operation will be done element-by-element without you as the programmer having to access each element directly."
   ]
  },
  {
   "cell_type": "code",
   "execution_count": 226,
   "metadata": {},
   "outputs": [
    {
     "name": "stdout",
     "output_type": "stream",
     "text": [
      "[1.  1.5 2.  2.5 3.  3.5 4.  4.5 5. ]\n"
     ]
    }
   ],
   "source": [
    "a = np.array([1,1.5,2,2.5,3,3.5,4,4.5,5])\n",
    "print(a)"
   ]
  },
  {
   "cell_type": "code",
   "execution_count": 227,
   "metadata": {},
   "outputs": [
    {
     "name": "stdout",
     "output_type": "stream",
     "text": [
      "[ 2.  3.  4.  5.  6.  7.  8.  9. 10.]\n"
     ]
    }
   ],
   "source": [
    "print(a * 2)"
   ]
  },
  {
   "cell_type": "code",
   "execution_count": 228,
   "metadata": {},
   "outputs": [
    {
     "name": "stdout",
     "output_type": "stream",
     "text": [
      "[11.  11.5 12.  12.5 13.  13.5 14.  14.5 15. ]\n"
     ]
    }
   ],
   "source": [
    "print(a + 10)"
   ]
  },
  {
   "cell_type": "code",
   "execution_count": 229,
   "metadata": {},
   "outputs": [
    {
     "name": "stdout",
     "output_type": "stream",
     "text": [
      "[-1.  -0.5  0.   0.5  1.   1.5  2.   2.5  3. ]\n"
     ]
    }
   ],
   "source": [
    "print(a - 2)"
   ]
  },
  {
   "cell_type": "code",
   "execution_count": 230,
   "metadata": {},
   "outputs": [
    {
     "name": "stdout",
     "output_type": "stream",
     "text": [
      "[0.2 0.3 0.4 0.5 0.6 0.7 0.8 0.9 1. ]\n"
     ]
    }
   ],
   "source": [
    "print(a/5)"
   ]
  },
  {
   "cell_type": "markdown",
   "metadata": {},
   "source": [
    "The Numpy library is also contains many functions that allow us to perform a variety of calculations on the array or on only one dimension (axis) of the array, allowing for rapid manipulation of large data sets."
   ]
  },
  {
   "cell_type": "code",
   "execution_count": 225,
   "metadata": {},
   "outputs": [
    {
     "name": "stdout",
     "output_type": "stream",
     "text": [
      "3.0\n"
     ]
    }
   ],
   "source": [
    "print(np.mean(a))"
   ]
  },
  {
   "cell_type": "code",
   "execution_count": 231,
   "metadata": {},
   "outputs": [
    {
     "name": "stdout",
     "output_type": "stream",
     "text": [
      "5.0\n"
     ]
    }
   ],
   "source": [
    "print(np.max(a))"
   ]
  },
  {
   "cell_type": "code",
   "execution_count": 232,
   "metadata": {},
   "outputs": [
    {
     "name": "stdout",
     "output_type": "stream",
     "text": [
      "1.0\n"
     ]
    }
   ],
   "source": [
    "print(np.min(a))"
   ]
  },
  {
   "cell_type": "code",
   "execution_count": 233,
   "metadata": {},
   "outputs": [
    {
     "name": "stdout",
     "output_type": "stream",
     "text": [
      "[1.         1.22474487 1.41421356 1.58113883 1.73205081 1.87082869\n",
      " 2.         2.12132034 2.23606798]\n"
     ]
    }
   ],
   "source": [
    "print(np.sqrt(a))"
   ]
  },
  {
   "cell_type": "code",
   "execution_count": 236,
   "metadata": {},
   "outputs": [
    {
     "name": "stdout",
     "output_type": "stream",
     "text": [
      "[[0.  0.5 1.  1.5 2.  2.5 3.  3.5 4.  4.5]\n",
      " [5.  5.5 6.  6.5 7.  7.5 8.  8.5 9.  9.5]]\n"
     ]
    }
   ],
   "source": [
    "a2 = np.array([[0,0.5,1,1.5,2,2.5,3,3.5,4,4.5],[5,5.5,6.,6.5,7,7.5,8,8.5,9,9.5]])\n",
    "print(a2)"
   ]
  },
  {
   "cell_type": "code",
   "execution_count": 237,
   "metadata": {},
   "outputs": [
    {
     "name": "stdout",
     "output_type": "stream",
     "text": [
      "[[0.         0.70710678 1.         1.22474487 1.41421356 1.58113883\n",
      "  1.73205081 1.87082869 2.         2.12132034]\n",
      " [2.23606798 2.34520788 2.44948974 2.54950976 2.64575131 2.73861279\n",
      "  2.82842712 2.91547595 3.         3.082207  ]]\n"
     ]
    }
   ],
   "source": [
    "print(np.sqrt(a2))"
   ]
  },
  {
   "cell_type": "code",
   "execution_count": 238,
   "metadata": {},
   "outputs": [
    {
     "name": "stdout",
     "output_type": "stream",
     "text": [
      "9.5\n"
     ]
    }
   ],
   "source": [
    "print(np.max(a2))"
   ]
  },
  {
   "cell_type": "code",
   "execution_count": 242,
   "metadata": {},
   "outputs": [
    {
     "name": "stdout",
     "output_type": "stream",
     "text": [
      "[5.  5.5 6.  6.5 7.  7.5 8.  8.5 9.  9.5]\n",
      "[4.5 9.5]\n"
     ]
    }
   ],
   "source": [
    "print(np.max(a2,axis=0))\n",
    "print(np.max(a2,axis=1))"
   ]
  },
  {
   "cell_type": "code",
   "execution_count": 243,
   "metadata": {},
   "outputs": [
    {
     "name": "stdout",
     "output_type": "stream",
     "text": [
      "95.0\n"
     ]
    }
   ],
   "source": [
    "print(np.sum(a2))"
   ]
  },
  {
   "cell_type": "code",
   "execution_count": 244,
   "metadata": {},
   "outputs": [
    {
     "name": "stdout",
     "output_type": "stream",
     "text": [
      "[ 5.  6.  7.  8.  9. 10. 11. 12. 13. 14.]\n",
      "[22.5 72.5]\n"
     ]
    }
   ],
   "source": [
    "print(np.sum(a2,axis=0))\n",
    "print(np.sum(a2,axis=1))"
   ]
  },
  {
   "cell_type": "markdown",
   "metadata": {},
   "source": [
    "## Repeated actions with loops\n",
    "\n",
    "### For loops\n",
    "\n",
    "A *For loop* allows you to execute a command once for each value in a collection"
   ]
  }
 ],
 "metadata": {
  "kernelspec": {
   "display_name": "Python 3",
   "language": "python",
   "name": "python3"
  },
  "language_info": {
   "codemirror_mode": {
    "name": "ipython",
    "version": 3
   },
   "file_extension": ".py",
   "mimetype": "text/x-python",
   "name": "python",
   "nbconvert_exporter": "python",
   "pygments_lexer": "ipython3",
   "version": "3.7.1"
  }
 },
 "nbformat": 4,
 "nbformat_minor": 2
}
