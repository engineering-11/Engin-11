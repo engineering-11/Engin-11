{
 "cells": [
  {
   "cell_type": "code",
   "execution_count": 1,
   "id": "14a5b308",
   "metadata": {},
   "outputs": [],
   "source": [
    "a = 5"
   ]
  },
  {
   "cell_type": "code",
   "execution_count": 2,
   "id": "55b11d61",
   "metadata": {},
   "outputs": [],
   "source": [
    "b = 10"
   ]
  },
  {
   "cell_type": "code",
   "execution_count": 3,
   "id": "e17ed41f",
   "metadata": {},
   "outputs": [
    {
     "name": "stdout",
     "output_type": "stream",
     "text": [
      "5\n"
     ]
    }
   ],
   "source": [
    "print(a)"
   ]
  },
  {
   "cell_type": "code",
   "execution_count": 5,
   "id": "2809b7b6",
   "metadata": {},
   "outputs": [
    {
     "data": {
      "text/plain": [
       "50"
      ]
     },
     "execution_count": 5,
     "metadata": {},
     "output_type": "execute_result"
    }
   ],
   "source": [
    "a*b"
   ]
  },
  {
   "cell_type": "code",
   "execution_count": 6,
   "id": "04420a14",
   "metadata": {},
   "outputs": [
    {
     "data": {
      "text/plain": [
       "0.5"
      ]
     },
     "execution_count": 6,
     "metadata": {},
     "output_type": "execute_result"
    }
   ],
   "source": [
    "a/b"
   ]
  },
  {
   "cell_type": "code",
   "execution_count": 7,
   "id": "49aac18e",
   "metadata": {},
   "outputs": [
    {
     "data": {
      "text/plain": [
       "15"
      ]
     },
     "execution_count": 7,
     "metadata": {},
     "output_type": "execute_result"
    }
   ],
   "source": [
    "a + b"
   ]
  },
  {
   "cell_type": "code",
   "execution_count": 8,
   "id": "959c89d1",
   "metadata": {},
   "outputs": [
    {
     "data": {
      "text/plain": [
       "-5"
      ]
     },
     "execution_count": 8,
     "metadata": {},
     "output_type": "execute_result"
    }
   ],
   "source": [
    "a - b"
   ]
  },
  {
   "cell_type": "code",
   "execution_count": 9,
   "id": "aa44973f",
   "metadata": {},
   "outputs": [
    {
     "name": "stdout",
     "output_type": "stream",
     "text": [
      "50\n"
     ]
    }
   ],
   "source": [
    "c = a*b\n",
    "print(c)"
   ]
  },
  {
   "cell_type": "code",
   "execution_count": 10,
   "id": "00426d25",
   "metadata": {},
   "outputs": [],
   "source": [
    "d = 5.0"
   ]
  },
  {
   "cell_type": "code",
   "execution_count": 11,
   "id": "cab63603",
   "metadata": {},
   "outputs": [
    {
     "name": "stdout",
     "output_type": "stream",
     "text": [
      "5.0\n"
     ]
    }
   ],
   "source": [
    "print(d)"
   ]
  },
  {
   "cell_type": "code",
   "execution_count": 12,
   "id": "a7d3c703",
   "metadata": {},
   "outputs": [
    {
     "data": {
      "text/plain": [
       "int"
      ]
     },
     "execution_count": 12,
     "metadata": {},
     "output_type": "execute_result"
    }
   ],
   "source": [
    "type(a)"
   ]
  },
  {
   "cell_type": "code",
   "execution_count": 13,
   "id": "9561b160",
   "metadata": {},
   "outputs": [
    {
     "data": {
      "text/plain": [
       "float"
      ]
     },
     "execution_count": 13,
     "metadata": {},
     "output_type": "execute_result"
    }
   ],
   "source": [
    "type(d)"
   ]
  },
  {
   "cell_type": "code",
   "execution_count": 17,
   "id": "a0d6e88f",
   "metadata": {},
   "outputs": [
    {
     "name": "stdout",
     "output_type": "stream",
     "text": [
      "Hello World!\n"
     ]
    }
   ],
   "source": [
    "print('Hello World!')"
   ]
  },
  {
   "cell_type": "code",
   "execution_count": 18,
   "id": "0c778a16",
   "metadata": {},
   "outputs": [
    {
     "name": "stdout",
     "output_type": "stream",
     "text": [
      "Hello World!\n"
     ]
    }
   ],
   "source": [
    "a = 'Hello World!'\n",
    "print(a)"
   ]
  },
  {
   "cell_type": "code",
   "execution_count": 20,
   "id": "f03b6ec2",
   "metadata": {},
   "outputs": [
    {
     "name": "stdout",
     "output_type": "stream",
     "text": [
      "50\n"
     ]
    }
   ],
   "source": [
    "print(c)"
   ]
  },
  {
   "cell_type": "code",
   "execution_count": 21,
   "id": "f1ef45ed",
   "metadata": {},
   "outputs": [
    {
     "data": {
      "text/plain": [
       "12"
      ]
     },
     "execution_count": 21,
     "metadata": {},
     "output_type": "execute_result"
    }
   ],
   "source": [
    "len(a)"
   ]
  },
  {
   "cell_type": "code",
   "execution_count": 22,
   "id": "0a16a955",
   "metadata": {},
   "outputs": [
    {
     "ename": "TypeError",
     "evalue": "object of type 'int' has no len()",
     "output_type": "error",
     "traceback": [
      "\u001b[1;31m---------------------------------------------------------------------------\u001b[0m",
      "\u001b[1;31mTypeError\u001b[0m                                 Traceback (most recent call last)",
      "Cell \u001b[1;32mIn[22], line 1\u001b[0m\n\u001b[1;32m----> 1\u001b[0m \u001b[38;5;28mlen\u001b[39m(c)\n",
      "\u001b[1;31mTypeError\u001b[0m: object of type 'int' has no len()"
     ]
    }
   ],
   "source": [
    "len(c)"
   ]
  },
  {
   "cell_type": "code",
   "execution_count": 23,
   "id": "3737f85d",
   "metadata": {},
   "outputs": [
    {
     "data": {
      "text/plain": [
       "'l'"
      ]
     },
     "execution_count": 23,
     "metadata": {},
     "output_type": "execute_result"
    }
   ],
   "source": [
    "a[2]"
   ]
  },
  {
   "cell_type": "code",
   "execution_count": 24,
   "id": "05ef106c",
   "metadata": {},
   "outputs": [],
   "source": [
    "b = '5.0'"
   ]
  },
  {
   "cell_type": "code",
   "execution_count": 25,
   "id": "dd9bc7d4",
   "metadata": {},
   "outputs": [
    {
     "data": {
      "text/plain": [
       "str"
      ]
     },
     "execution_count": 25,
     "metadata": {},
     "output_type": "execute_result"
    }
   ],
   "source": [
    "type(b)"
   ]
  },
  {
   "cell_type": "code",
   "execution_count": 30,
   "id": "d2c964c5",
   "metadata": {},
   "outputs": [
    {
     "ename": "ValueError",
     "evalue": "invalid literal for int() with base 10: '5.0'",
     "output_type": "error",
     "traceback": [
      "\u001b[1;31m---------------------------------------------------------------------------\u001b[0m",
      "\u001b[1;31mValueError\u001b[0m                                Traceback (most recent call last)",
      "Cell \u001b[1;32mIn[30], line 1\u001b[0m\n\u001b[1;32m----> 1\u001b[0m \u001b[38;5;28mint\u001b[39m(b)\n",
      "\u001b[1;31mValueError\u001b[0m: invalid literal for int() with base 10: '5.0'"
     ]
    }
   ],
   "source": [
    "int(b)"
   ]
  },
  {
   "cell_type": "code",
   "execution_count": 31,
   "id": "8cb5b55a",
   "metadata": {},
   "outputs": [
    {
     "data": {
      "text/plain": [
       "5"
      ]
     },
     "execution_count": 31,
     "metadata": {},
     "output_type": "execute_result"
    }
   ],
   "source": [
    "int(5.0)"
   ]
  },
  {
   "cell_type": "code",
   "execution_count": 32,
   "id": "29267c1d",
   "metadata": {},
   "outputs": [],
   "source": [
    "list1 = [2,3,1,5,4,6]"
   ]
  },
  {
   "cell_type": "code",
   "execution_count": 33,
   "id": "c3990e61",
   "metadata": {},
   "outputs": [
    {
     "name": "stdout",
     "output_type": "stream",
     "text": [
      "[2, 3, 1, 5, 4, 6]\n"
     ]
    }
   ],
   "source": [
    "print(list1)"
   ]
  },
  {
   "cell_type": "code",
   "execution_count": 34,
   "id": "c10b0e0e",
   "metadata": {},
   "outputs": [
    {
     "data": {
      "text/plain": [
       "list"
      ]
     },
     "execution_count": 34,
     "metadata": {},
     "output_type": "execute_result"
    }
   ],
   "source": [
    "type(list1)"
   ]
  },
  {
   "cell_type": "code",
   "execution_count": 35,
   "id": "c3e46781",
   "metadata": {},
   "outputs": [
    {
     "data": {
      "text/plain": [
       "[2, 3, 1, 5, 4, 6, 2, 3, 1, 5, 4, 6, 2, 3, 1, 5, 4, 6, 2, 3, 1, 5, 4, 6]"
      ]
     },
     "execution_count": 35,
     "metadata": {},
     "output_type": "execute_result"
    }
   ],
   "source": [
    "list1*4"
   ]
  },
  {
   "cell_type": "code",
   "execution_count": 36,
   "id": "8c5f6d6f",
   "metadata": {},
   "outputs": [
    {
     "data": {
      "text/plain": [
       "6"
      ]
     },
     "execution_count": 36,
     "metadata": {},
     "output_type": "execute_result"
    }
   ],
   "source": [
    "len(list1)"
   ]
  },
  {
   "cell_type": "code",
   "execution_count": 37,
   "id": "afcaa1d3",
   "metadata": {},
   "outputs": [
    {
     "data": {
      "text/plain": [
       "3"
      ]
     },
     "execution_count": 37,
     "metadata": {},
     "output_type": "execute_result"
    }
   ],
   "source": [
    "list1[1]"
   ]
  },
  {
   "cell_type": "code",
   "execution_count": 38,
   "id": "7da430d1",
   "metadata": {},
   "outputs": [
    {
     "name": "stdout",
     "output_type": "stream",
     "text": [
      "[2, 3, 1, 5, 4, 6]\n"
     ]
    }
   ],
   "source": [
    "print(list1)"
   ]
  },
  {
   "cell_type": "code",
   "execution_count": 39,
   "id": "3fbc3488",
   "metadata": {},
   "outputs": [
    {
     "data": {
      "text/plain": [
       "[3, 1, 5, 4]"
      ]
     },
     "execution_count": 39,
     "metadata": {},
     "output_type": "execute_result"
    }
   ],
   "source": [
    "list1[1:5]"
   ]
  },
  {
   "cell_type": "code",
   "execution_count": 45,
   "id": "40debac1",
   "metadata": {},
   "outputs": [
    {
     "data": {
      "text/plain": [
       "[3, 1, 5, 4]"
      ]
     },
     "execution_count": 45,
     "metadata": {},
     "output_type": "execute_result"
    }
   ],
   "source": [
    "list1[1:-1]"
   ]
  },
  {
   "cell_type": "code",
   "execution_count": 46,
   "id": "acf7ccb2",
   "metadata": {},
   "outputs": [
    {
     "data": {
      "text/plain": [
       "4"
      ]
     },
     "execution_count": 46,
     "metadata": {},
     "output_type": "execute_result"
    }
   ],
   "source": [
    "list1[-2]"
   ]
  },
  {
   "cell_type": "code",
   "execution_count": 47,
   "id": "5adc4a22",
   "metadata": {},
   "outputs": [
    {
     "name": "stdout",
     "output_type": "stream",
     "text": [
      "[[2, 3, 1, 5, 4, 6], 'Hello World!', '5.0', 50, 5.0]\n"
     ]
    }
   ],
   "source": [
    "list2 = [list1,a,b,c,d]\n",
    "print(list2)"
   ]
  },
  {
   "cell_type": "code",
   "execution_count": 48,
   "id": "2f30e888",
   "metadata": {},
   "outputs": [],
   "source": [
    "tuple1 = (3,2,4,5,6)\n"
   ]
  },
  {
   "cell_type": "code",
   "execution_count": 49,
   "id": "02bc0d4c",
   "metadata": {},
   "outputs": [
    {
     "name": "stdout",
     "output_type": "stream",
     "text": [
      "[2, 3, 10, 5, 4, 6]\n"
     ]
    }
   ],
   "source": [
    "list1[2] = 10\n",
    "print(list1)"
   ]
  },
  {
   "cell_type": "code",
   "execution_count": 50,
   "id": "9199af01",
   "metadata": {},
   "outputs": [
    {
     "ename": "TypeError",
     "evalue": "'tuple' object does not support item assignment",
     "output_type": "error",
     "traceback": [
      "\u001b[1;31m---------------------------------------------------------------------------\u001b[0m",
      "\u001b[1;31mTypeError\u001b[0m                                 Traceback (most recent call last)",
      "Cell \u001b[1;32mIn[50], line 1\u001b[0m\n\u001b[1;32m----> 1\u001b[0m tuple1[\u001b[38;5;241m2\u001b[39m] \u001b[38;5;241m=\u001b[39m \u001b[38;5;241m10\u001b[39m\n",
      "\u001b[1;31mTypeError\u001b[0m: 'tuple' object does not support item assignment"
     ]
    }
   ],
   "source": [
    "tuple1[2] = 10"
   ]
  },
  {
   "cell_type": "code",
   "execution_count": 51,
   "id": "f7e20b4f",
   "metadata": {},
   "outputs": [],
   "source": [
    "import numpy as np"
   ]
  },
  {
   "cell_type": "code",
   "execution_count": 52,
   "id": "076f5bc2",
   "metadata": {},
   "outputs": [
    {
     "name": "stdout",
     "output_type": "stream",
     "text": [
      "[ 2  3 10  5  4  6]\n"
     ]
    }
   ],
   "source": [
    "arr1 = np.array(list1)\n",
    "print(arr1)"
   ]
  },
  {
   "cell_type": "code",
   "execution_count": 53,
   "id": "38e45a92",
   "metadata": {},
   "outputs": [],
   "source": [
    "arr2 = np.array([1,2,3,4,5,6])"
   ]
  },
  {
   "cell_type": "code",
   "execution_count": 55,
   "id": "2a76bdee",
   "metadata": {},
   "outputs": [
    {
     "name": "stdout",
     "output_type": "stream",
     "text": [
      "[10 15 50 25 20 30]\n"
     ]
    }
   ],
   "source": [
    "arr3 = arr1*5\n",
    "print(arr3)"
   ]
  },
  {
   "cell_type": "code",
   "execution_count": 56,
   "id": "117b9e53",
   "metadata": {},
   "outputs": [
    {
     "data": {
      "text/plain": [
       "array([ 3,  5, 13,  9,  9, 12])"
      ]
     },
     "execution_count": 56,
     "metadata": {},
     "output_type": "execute_result"
    }
   ],
   "source": [
    "arr1+arr2"
   ]
  },
  {
   "cell_type": "code",
   "execution_count": 57,
   "id": "75725535",
   "metadata": {},
   "outputs": [
    {
     "data": {
      "text/plain": [
       "numpy.ndarray"
      ]
     },
     "execution_count": 57,
     "metadata": {},
     "output_type": "execute_result"
    }
   ],
   "source": [
    "type(arr1)"
   ]
  },
  {
   "cell_type": "code",
   "execution_count": 58,
   "id": "bdd3704a",
   "metadata": {},
   "outputs": [
    {
     "data": {
      "text/plain": [
       "dtype('int32')"
      ]
     },
     "execution_count": 58,
     "metadata": {},
     "output_type": "execute_result"
    }
   ],
   "source": [
    "arr1.dtype"
   ]
  },
  {
   "cell_type": "code",
   "execution_count": 59,
   "id": "4d4affcd",
   "metadata": {},
   "outputs": [
    {
     "name": "stdout",
     "output_type": "stream",
     "text": [
      "[1. 1. 3. 2. 5.]\n"
     ]
    }
   ],
   "source": [
    "arr4 = np.array([1,1,3.0,2,5.0])\n",
    "print(arr4)"
   ]
  },
  {
   "cell_type": "code",
   "execution_count": 60,
   "id": "3e5e1a84",
   "metadata": {},
   "outputs": [
    {
     "data": {
      "text/plain": [
       "dtype('float64')"
      ]
     },
     "execution_count": 60,
     "metadata": {},
     "output_type": "execute_result"
    }
   ],
   "source": [
    "arr4.dtype"
   ]
  },
  {
   "cell_type": "code",
   "execution_count": 61,
   "id": "0bf668cf",
   "metadata": {},
   "outputs": [
    {
     "ename": "ValueError",
     "evalue": "setting an array element with a sequence. The requested array has an inhomogeneous shape after 1 dimensions. The detected shape was (5,) + inhomogeneous part.",
     "output_type": "error",
     "traceback": [
      "\u001b[1;31m---------------------------------------------------------------------------\u001b[0m",
      "\u001b[1;31mValueError\u001b[0m                                Traceback (most recent call last)",
      "Cell \u001b[1;32mIn[61], line 1\u001b[0m\n\u001b[1;32m----> 1\u001b[0m np\u001b[38;5;241m.\u001b[39marray(list2)\n",
      "\u001b[1;31mValueError\u001b[0m: setting an array element with a sequence. The requested array has an inhomogeneous shape after 1 dimensions. The detected shape was (5,) + inhomogeneous part."
     ]
    }
   ],
   "source": [
    "np.array(list2)"
   ]
  },
  {
   "cell_type": "code",
   "execution_count": 62,
   "id": "d06d79da",
   "metadata": {},
   "outputs": [
    {
     "data": {
      "text/plain": [
       "array(['1', '1'], dtype='<U11')"
      ]
     },
     "execution_count": 62,
     "metadata": {},
     "output_type": "execute_result"
    }
   ],
   "source": [
    "np.array([1,'1'])"
   ]
  },
  {
   "cell_type": "code",
   "execution_count": 63,
   "id": "1d86819d",
   "metadata": {},
   "outputs": [],
   "source": [
    "import pandas as pd"
   ]
  },
  {
   "cell_type": "code",
   "execution_count": 64,
   "id": "834ce328",
   "metadata": {},
   "outputs": [],
   "source": [
    "dict1 = {'Name': ['Rob','Bob','Bill','Will'],\n",
    "        'Age':[20,18,19,21],\n",
    "        'Year':[1,2,1,4]}"
   ]
  },
  {
   "cell_type": "code",
   "execution_count": 68,
   "id": "ac7a54f9",
   "metadata": {},
   "outputs": [
    {
     "data": {
      "text/plain": [
       "'Rob'"
      ]
     },
     "execution_count": 68,
     "metadata": {},
     "output_type": "execute_result"
    }
   ],
   "source": [
    "dict1['Name']"
   ]
  },
  {
   "cell_type": "code",
   "execution_count": 69,
   "id": "be127f32",
   "metadata": {},
   "outputs": [],
   "source": [
    "df = pd.DataFrame(dict1)"
   ]
  },
  {
   "cell_type": "code",
   "execution_count": 70,
   "id": "f0d661f0",
   "metadata": {},
   "outputs": [
    {
     "name": "stdout",
     "output_type": "stream",
     "text": [
      "   Name  Age  Year\n",
      "0   Rob   20     1\n",
      "1   Bob   18     2\n",
      "2  Bill   19     1\n",
      "3  Will   21     4\n"
     ]
    }
   ],
   "source": [
    "print(df)"
   ]
  },
  {
   "cell_type": "code",
   "execution_count": 71,
   "id": "56b0d633",
   "metadata": {},
   "outputs": [
    {
     "data": {
      "text/html": [
       "<div>\n",
       "<style scoped>\n",
       "    .dataframe tbody tr th:only-of-type {\n",
       "        vertical-align: middle;\n",
       "    }\n",
       "\n",
       "    .dataframe tbody tr th {\n",
       "        vertical-align: top;\n",
       "    }\n",
       "\n",
       "    .dataframe thead th {\n",
       "        text-align: right;\n",
       "    }\n",
       "</style>\n",
       "<table border=\"1\" class=\"dataframe\">\n",
       "  <thead>\n",
       "    <tr style=\"text-align: right;\">\n",
       "      <th></th>\n",
       "      <th>Name</th>\n",
       "      <th>Age</th>\n",
       "      <th>Year</th>\n",
       "    </tr>\n",
       "  </thead>\n",
       "  <tbody>\n",
       "    <tr>\n",
       "      <th>0</th>\n",
       "      <td>Rob</td>\n",
       "      <td>20</td>\n",
       "      <td>1</td>\n",
       "    </tr>\n",
       "    <tr>\n",
       "      <th>1</th>\n",
       "      <td>Bob</td>\n",
       "      <td>18</td>\n",
       "      <td>2</td>\n",
       "    </tr>\n",
       "    <tr>\n",
       "      <th>2</th>\n",
       "      <td>Bill</td>\n",
       "      <td>19</td>\n",
       "      <td>1</td>\n",
       "    </tr>\n",
       "    <tr>\n",
       "      <th>3</th>\n",
       "      <td>Will</td>\n",
       "      <td>21</td>\n",
       "      <td>4</td>\n",
       "    </tr>\n",
       "  </tbody>\n",
       "</table>\n",
       "</div>"
      ],
      "text/plain": [
       "   Name  Age  Year\n",
       "0   Rob   20     1\n",
       "1   Bob   18     2\n",
       "2  Bill   19     1\n",
       "3  Will   21     4"
      ]
     },
     "metadata": {},
     "output_type": "display_data"
    }
   ],
   "source": [
    "display(df)"
   ]
  },
  {
   "cell_type": "code",
   "execution_count": 72,
   "id": "89e92579",
   "metadata": {},
   "outputs": [],
   "source": [
    "df1 = df.set_index('Name')"
   ]
  },
  {
   "cell_type": "code",
   "execution_count": 73,
   "id": "2f353062",
   "metadata": {},
   "outputs": [
    {
     "data": {
      "text/html": [
       "<div>\n",
       "<style scoped>\n",
       "    .dataframe tbody tr th:only-of-type {\n",
       "        vertical-align: middle;\n",
       "    }\n",
       "\n",
       "    .dataframe tbody tr th {\n",
       "        vertical-align: top;\n",
       "    }\n",
       "\n",
       "    .dataframe thead th {\n",
       "        text-align: right;\n",
       "    }\n",
       "</style>\n",
       "<table border=\"1\" class=\"dataframe\">\n",
       "  <thead>\n",
       "    <tr style=\"text-align: right;\">\n",
       "      <th></th>\n",
       "      <th>Age</th>\n",
       "      <th>Year</th>\n",
       "    </tr>\n",
       "    <tr>\n",
       "      <th>Name</th>\n",
       "      <th></th>\n",
       "      <th></th>\n",
       "    </tr>\n",
       "  </thead>\n",
       "  <tbody>\n",
       "    <tr>\n",
       "      <th>Rob</th>\n",
       "      <td>20</td>\n",
       "      <td>1</td>\n",
       "    </tr>\n",
       "    <tr>\n",
       "      <th>Bob</th>\n",
       "      <td>18</td>\n",
       "      <td>2</td>\n",
       "    </tr>\n",
       "    <tr>\n",
       "      <th>Bill</th>\n",
       "      <td>19</td>\n",
       "      <td>1</td>\n",
       "    </tr>\n",
       "    <tr>\n",
       "      <th>Will</th>\n",
       "      <td>21</td>\n",
       "      <td>4</td>\n",
       "    </tr>\n",
       "  </tbody>\n",
       "</table>\n",
       "</div>"
      ],
      "text/plain": [
       "      Age  Year\n",
       "Name           \n",
       "Rob    20     1\n",
       "Bob    18     2\n",
       "Bill   19     1\n",
       "Will   21     4"
      ]
     },
     "metadata": {},
     "output_type": "display_data"
    }
   ],
   "source": [
    "display(df1)"
   ]
  },
  {
   "cell_type": "code",
   "execution_count": 79,
   "id": "f71c74cd",
   "metadata": {},
   "outputs": [
    {
     "data": {
      "text/plain": [
       "Age     20\n",
       "Year     1\n",
       "Name: Rob, dtype: int64"
      ]
     },
     "execution_count": 79,
     "metadata": {},
     "output_type": "execute_result"
    }
   ],
   "source": [
    "df1.loc['Rob']"
   ]
  },
  {
   "cell_type": "code",
   "execution_count": 80,
   "id": "6a69c96e",
   "metadata": {},
   "outputs": [
    {
     "data": {
      "text/plain": [
       "Name\n",
       "Rob     1\n",
       "Bob     2\n",
       "Bill    1\n",
       "Will    4\n",
       "Name: Year, dtype: int64"
      ]
     },
     "execution_count": 80,
     "metadata": {},
     "output_type": "execute_result"
    }
   ],
   "source": [
    "df1['Year']"
   ]
  },
  {
   "cell_type": "code",
   "execution_count": 83,
   "id": "1e9e755f",
   "metadata": {},
   "outputs": [],
   "source": [
    "url = 'https://dl.dropboxusercontent.com/s/tc6s7f6xl05kwzh/etch_roof.csv?dl=1'"
   ]
  },
  {
   "cell_type": "code",
   "execution_count": 84,
   "id": "f42e3ac4",
   "metadata": {},
   "outputs": [],
   "source": [
    "data = pd.read_csv(url)"
   ]
  },
  {
   "cell_type": "code",
   "execution_count": 85,
   "id": "303276c1",
   "metadata": {},
   "outputs": [
    {
     "data": {
      "text/html": [
       "<div>\n",
       "<style scoped>\n",
       "    .dataframe tbody tr th:only-of-type {\n",
       "        vertical-align: middle;\n",
       "    }\n",
       "\n",
       "    .dataframe tbody tr th {\n",
       "        vertical-align: top;\n",
       "    }\n",
       "\n",
       "    .dataframe thead th {\n",
       "        text-align: right;\n",
       "    }\n",
       "</style>\n",
       "<table border=\"1\" class=\"dataframe\">\n",
       "  <thead>\n",
       "    <tr style=\"text-align: right;\">\n",
       "      <th></th>\n",
       "      <th>deviceTime_utc</th>\n",
       "      <th>deviceTime_local</th>\n",
       "      <th>deviceTime_unix</th>\n",
       "      <th>cpm</th>\n",
       "      <th>cpmError</th>\n",
       "      <th>error_flag</th>\n",
       "    </tr>\n",
       "  </thead>\n",
       "  <tbody>\n",
       "    <tr>\n",
       "      <th>0</th>\n",
       "      <td>2015-11-20 02:27:13+00:00</td>\n",
       "      <td>2015-11-19 18:27:13-08:00</td>\n",
       "      <td>1.447986e+09</td>\n",
       "      <td>4.0</td>\n",
       "      <td>0.894427</td>\n",
       "      <td>NaN</td>\n",
       "    </tr>\n",
       "    <tr>\n",
       "      <th>1</th>\n",
       "      <td>2015-11-20 02:32:13+00:00</td>\n",
       "      <td>2015-11-19 18:32:13-08:00</td>\n",
       "      <td>1.447987e+09</td>\n",
       "      <td>2.8</td>\n",
       "      <td>0.748331</td>\n",
       "      <td>NaN</td>\n",
       "    </tr>\n",
       "    <tr>\n",
       "      <th>2</th>\n",
       "      <td>2015-11-20 02:37:15+00:00</td>\n",
       "      <td>2015-11-19 18:37:15-08:00</td>\n",
       "      <td>1.447987e+09</td>\n",
       "      <td>3.4</td>\n",
       "      <td>0.824621</td>\n",
       "      <td>NaN</td>\n",
       "    </tr>\n",
       "    <tr>\n",
       "      <th>3</th>\n",
       "      <td>2015-11-20 02:42:15+00:00</td>\n",
       "      <td>2015-11-19 18:42:15-08:00</td>\n",
       "      <td>1.447987e+09</td>\n",
       "      <td>2.4</td>\n",
       "      <td>0.692820</td>\n",
       "      <td>NaN</td>\n",
       "    </tr>\n",
       "    <tr>\n",
       "      <th>4</th>\n",
       "      <td>2015-11-20 02:47:16+00:00</td>\n",
       "      <td>2015-11-19 18:47:16-08:00</td>\n",
       "      <td>1.447988e+09</td>\n",
       "      <td>3.4</td>\n",
       "      <td>0.824621</td>\n",
       "      <td>NaN</td>\n",
       "    </tr>\n",
       "    <tr>\n",
       "      <th>...</th>\n",
       "      <td>...</td>\n",
       "      <td>...</td>\n",
       "      <td>...</td>\n",
       "      <td>...</td>\n",
       "      <td>...</td>\n",
       "      <td>...</td>\n",
       "    </tr>\n",
       "    <tr>\n",
       "      <th>418555</th>\n",
       "      <td>2022-09-08 10:05:42+0000</td>\n",
       "      <td>2022-09-08 03:05:42-0700</td>\n",
       "      <td>1.662632e+09</td>\n",
       "      <td>2.8</td>\n",
       "      <td>0.748331</td>\n",
       "      <td>0.0</td>\n",
       "    </tr>\n",
       "    <tr>\n",
       "      <th>418556</th>\n",
       "      <td>2022-09-08 10:10:42+0000</td>\n",
       "      <td>2022-09-08 03:10:42-0700</td>\n",
       "      <td>1.662632e+09</td>\n",
       "      <td>2.8</td>\n",
       "      <td>0.748331</td>\n",
       "      <td>0.0</td>\n",
       "    </tr>\n",
       "    <tr>\n",
       "      <th>418557</th>\n",
       "      <td>2022-09-08 10:15:42+0000</td>\n",
       "      <td>2022-09-08 03:15:42-0700</td>\n",
       "      <td>1.662632e+09</td>\n",
       "      <td>3.6</td>\n",
       "      <td>0.848528</td>\n",
       "      <td>0.0</td>\n",
       "    </tr>\n",
       "    <tr>\n",
       "      <th>418558</th>\n",
       "      <td>2022-09-08 10:20:42+0000</td>\n",
       "      <td>2022-09-08 03:20:42-0700</td>\n",
       "      <td>1.662632e+09</td>\n",
       "      <td>2.8</td>\n",
       "      <td>0.748331</td>\n",
       "      <td>0.0</td>\n",
       "    </tr>\n",
       "    <tr>\n",
       "      <th>418559</th>\n",
       "      <td>2022-09-08 10:25:42+0000</td>\n",
       "      <td>2022-09-08 03:25:42-0700</td>\n",
       "      <td>1.662633e+09</td>\n",
       "      <td>3.0</td>\n",
       "      <td>0.774597</td>\n",
       "      <td>0.0</td>\n",
       "    </tr>\n",
       "  </tbody>\n",
       "</table>\n",
       "<p>418560 rows × 6 columns</p>\n",
       "</div>"
      ],
      "text/plain": [
       "                   deviceTime_utc           deviceTime_local  deviceTime_unix  \\\n",
       "0       2015-11-20 02:27:13+00:00  2015-11-19 18:27:13-08:00     1.447986e+09   \n",
       "1       2015-11-20 02:32:13+00:00  2015-11-19 18:32:13-08:00     1.447987e+09   \n",
       "2       2015-11-20 02:37:15+00:00  2015-11-19 18:37:15-08:00     1.447987e+09   \n",
       "3       2015-11-20 02:42:15+00:00  2015-11-19 18:42:15-08:00     1.447987e+09   \n",
       "4       2015-11-20 02:47:16+00:00  2015-11-19 18:47:16-08:00     1.447988e+09   \n",
       "...                           ...                        ...              ...   \n",
       "418555   2022-09-08 10:05:42+0000   2022-09-08 03:05:42-0700     1.662632e+09   \n",
       "418556   2022-09-08 10:10:42+0000   2022-09-08 03:10:42-0700     1.662632e+09   \n",
       "418557   2022-09-08 10:15:42+0000   2022-09-08 03:15:42-0700     1.662632e+09   \n",
       "418558   2022-09-08 10:20:42+0000   2022-09-08 03:20:42-0700     1.662632e+09   \n",
       "418559   2022-09-08 10:25:42+0000   2022-09-08 03:25:42-0700     1.662633e+09   \n",
       "\n",
       "        cpm  cpmError  error_flag  \n",
       "0       4.0  0.894427         NaN  \n",
       "1       2.8  0.748331         NaN  \n",
       "2       3.4  0.824621         NaN  \n",
       "3       2.4  0.692820         NaN  \n",
       "4       3.4  0.824621         NaN  \n",
       "...     ...       ...         ...  \n",
       "418555  2.8  0.748331         0.0  \n",
       "418556  2.8  0.748331         0.0  \n",
       "418557  3.6  0.848528         0.0  \n",
       "418558  2.8  0.748331         0.0  \n",
       "418559  3.0  0.774597         0.0  \n",
       "\n",
       "[418560 rows x 6 columns]"
      ]
     },
     "metadata": {},
     "output_type": "display_data"
    }
   ],
   "source": [
    "display(data)"
   ]
  },
  {
   "cell_type": "code",
   "execution_count": 89,
   "id": "b18e3378",
   "metadata": {},
   "outputs": [
    {
     "data": {
      "text/plain": [
       "deviceTime_utc      2015-11-20 02:27:13+00:00\n",
       "deviceTime_local    2015-11-19 18:27:13-08:00\n",
       "deviceTime_unix                  1447986433.0\n",
       "cpm                                       0.0\n",
       "cpmError                                  0.0\n",
       "error_flag                                0.0\n",
       "dtype: object"
      ]
     },
     "execution_count": 89,
     "metadata": {},
     "output_type": "execute_result"
    }
   ],
   "source": [
    "data.min()"
   ]
  },
  {
   "cell_type": "code",
   "execution_count": 90,
   "id": "f8af07da",
   "metadata": {},
   "outputs": [
    {
     "data": {
      "text/html": [
       "<div>\n",
       "<style scoped>\n",
       "    .dataframe tbody tr th:only-of-type {\n",
       "        vertical-align: middle;\n",
       "    }\n",
       "\n",
       "    .dataframe tbody tr th {\n",
       "        vertical-align: top;\n",
       "    }\n",
       "\n",
       "    .dataframe thead th {\n",
       "        text-align: right;\n",
       "    }\n",
       "</style>\n",
       "<table border=\"1\" class=\"dataframe\">\n",
       "  <thead>\n",
       "    <tr style=\"text-align: right;\">\n",
       "      <th></th>\n",
       "      <th>deviceTime_local</th>\n",
       "      <th>deviceTime_unix</th>\n",
       "      <th>cpm</th>\n",
       "    </tr>\n",
       "  </thead>\n",
       "  <tbody>\n",
       "    <tr>\n",
       "      <th>0</th>\n",
       "      <td>2015-11-19 18:27:13-08:00</td>\n",
       "      <td>1.447986e+09</td>\n",
       "      <td>4.0</td>\n",
       "    </tr>\n",
       "    <tr>\n",
       "      <th>1</th>\n",
       "      <td>2015-11-19 18:32:13-08:00</td>\n",
       "      <td>1.447987e+09</td>\n",
       "      <td>2.8</td>\n",
       "    </tr>\n",
       "    <tr>\n",
       "      <th>2</th>\n",
       "      <td>2015-11-19 18:37:15-08:00</td>\n",
       "      <td>1.447987e+09</td>\n",
       "      <td>3.4</td>\n",
       "    </tr>\n",
       "    <tr>\n",
       "      <th>3</th>\n",
       "      <td>2015-11-19 18:42:15-08:00</td>\n",
       "      <td>1.447987e+09</td>\n",
       "      <td>2.4</td>\n",
       "    </tr>\n",
       "    <tr>\n",
       "      <th>4</th>\n",
       "      <td>2015-11-19 18:47:16-08:00</td>\n",
       "      <td>1.447988e+09</td>\n",
       "      <td>3.4</td>\n",
       "    </tr>\n",
       "    <tr>\n",
       "      <th>...</th>\n",
       "      <td>...</td>\n",
       "      <td>...</td>\n",
       "      <td>...</td>\n",
       "    </tr>\n",
       "    <tr>\n",
       "      <th>418555</th>\n",
       "      <td>2022-09-08 03:05:42-0700</td>\n",
       "      <td>1.662632e+09</td>\n",
       "      <td>2.8</td>\n",
       "    </tr>\n",
       "    <tr>\n",
       "      <th>418556</th>\n",
       "      <td>2022-09-08 03:10:42-0700</td>\n",
       "      <td>1.662632e+09</td>\n",
       "      <td>2.8</td>\n",
       "    </tr>\n",
       "    <tr>\n",
       "      <th>418557</th>\n",
       "      <td>2022-09-08 03:15:42-0700</td>\n",
       "      <td>1.662632e+09</td>\n",
       "      <td>3.6</td>\n",
       "    </tr>\n",
       "    <tr>\n",
       "      <th>418558</th>\n",
       "      <td>2022-09-08 03:20:42-0700</td>\n",
       "      <td>1.662632e+09</td>\n",
       "      <td>2.8</td>\n",
       "    </tr>\n",
       "    <tr>\n",
       "      <th>418559</th>\n",
       "      <td>2022-09-08 03:25:42-0700</td>\n",
       "      <td>1.662633e+09</td>\n",
       "      <td>3.0</td>\n",
       "    </tr>\n",
       "  </tbody>\n",
       "</table>\n",
       "<p>418560 rows × 3 columns</p>\n",
       "</div>"
      ],
      "text/plain": [
       "                 deviceTime_local  deviceTime_unix  cpm\n",
       "0       2015-11-19 18:27:13-08:00     1.447986e+09  4.0\n",
       "1       2015-11-19 18:32:13-08:00     1.447987e+09  2.8\n",
       "2       2015-11-19 18:37:15-08:00     1.447987e+09  3.4\n",
       "3       2015-11-19 18:42:15-08:00     1.447987e+09  2.4\n",
       "4       2015-11-19 18:47:16-08:00     1.447988e+09  3.4\n",
       "...                           ...              ...  ...\n",
       "418555   2022-09-08 03:05:42-0700     1.662632e+09  2.8\n",
       "418556   2022-09-08 03:10:42-0700     1.662632e+09  2.8\n",
       "418557   2022-09-08 03:15:42-0700     1.662632e+09  3.6\n",
       "418558   2022-09-08 03:20:42-0700     1.662632e+09  2.8\n",
       "418559   2022-09-08 03:25:42-0700     1.662633e+09  3.0\n",
       "\n",
       "[418560 rows x 3 columns]"
      ]
     },
     "metadata": {},
     "output_type": "display_data"
    }
   ],
   "source": [
    "data_sub = data.loc[:,'deviceTime_local':'cpm']\n",
    "display(data_sub)"
   ]
  },
  {
   "cell_type": "code",
   "execution_count": 91,
   "id": "6f9d8f00",
   "metadata": {},
   "outputs": [],
   "source": [
    "import matplotlib.pyplot as plt"
   ]
  },
  {
   "cell_type": "code",
   "execution_count": 94,
   "id": "23fcc57e",
   "metadata": {},
   "outputs": [
    {
     "data": {
      "text/plain": [
       "list"
      ]
     },
     "execution_count": 94,
     "metadata": {},
     "output_type": "execute_result"
    }
   ],
   "source": [
    "type(data['cpm'].tolist())"
   ]
  },
  {
   "cell_type": "code",
   "execution_count": 95,
   "id": "a4d884e8",
   "metadata": {},
   "outputs": [
    {
     "data": {
      "image/png": "[encoded data removed]",
      "text/plain": [
       "<Figure size 640x480 with 1 Axes>"
      ]
     },
     "metadata": {},
     "output_type": "display_data"
    }
   ],
   "source": [
    "plt.plot(data['cpm'])\n",
    "plt.show()"
   ]
  },
  {
   "cell_type": "code",
   "execution_count": 96,
   "id": "6221189e",
   "metadata": {},
   "outputs": [
    {
     "data": {
      "text/html": [
       "<div>\n",
       "<style scoped>\n",
       "    .dataframe tbody tr th:only-of-type {\n",
       "        vertical-align: middle;\n",
       "    }\n",
       "\n",
       "    .dataframe tbody tr th {\n",
       "        vertical-align: top;\n",
       "    }\n",
       "\n",
       "    .dataframe thead th {\n",
       "        text-align: right;\n",
       "    }\n",
       "</style>\n",
       "<table border=\"1\" class=\"dataframe\">\n",
       "  <thead>\n",
       "    <tr style=\"text-align: right;\">\n",
       "      <th></th>\n",
       "      <th>deviceTime_local</th>\n",
       "      <th>deviceTime_unix</th>\n",
       "      <th>cpm</th>\n",
       "    </tr>\n",
       "  </thead>\n",
       "  <tbody>\n",
       "    <tr>\n",
       "      <th>0</th>\n",
       "      <td>2015-11-19 18:27:13-08:00</td>\n",
       "      <td>1.447986e+09</td>\n",
       "      <td>4.0</td>\n",
       "    </tr>\n",
       "    <tr>\n",
       "      <th>1</th>\n",
       "      <td>2015-11-19 18:32:13-08:00</td>\n",
       "      <td>1.447987e+09</td>\n",
       "      <td>2.8</td>\n",
       "    </tr>\n",
       "    <tr>\n",
       "      <th>2</th>\n",
       "      <td>2015-11-19 18:37:15-08:00</td>\n",
       "      <td>1.447987e+09</td>\n",
       "      <td>3.4</td>\n",
       "    </tr>\n",
       "    <tr>\n",
       "      <th>3</th>\n",
       "      <td>2015-11-19 18:42:15-08:00</td>\n",
       "      <td>1.447987e+09</td>\n",
       "      <td>2.4</td>\n",
       "    </tr>\n",
       "    <tr>\n",
       "      <th>4</th>\n",
       "      <td>2015-11-19 18:47:16-08:00</td>\n",
       "      <td>1.447988e+09</td>\n",
       "      <td>3.4</td>\n",
       "    </tr>\n",
       "    <tr>\n",
       "      <th>...</th>\n",
       "      <td>...</td>\n",
       "      <td>...</td>\n",
       "      <td>...</td>\n",
       "    </tr>\n",
       "    <tr>\n",
       "      <th>418555</th>\n",
       "      <td>2022-09-08 03:05:42-0700</td>\n",
       "      <td>1.662632e+09</td>\n",
       "      <td>2.8</td>\n",
       "    </tr>\n",
       "    <tr>\n",
       "      <th>418556</th>\n",
       "      <td>2022-09-08 03:10:42-0700</td>\n",
       "      <td>1.662632e+09</td>\n",
       "      <td>2.8</td>\n",
       "    </tr>\n",
       "    <tr>\n",
       "      <th>418557</th>\n",
       "      <td>2022-09-08 03:15:42-0700</td>\n",
       "      <td>1.662632e+09</td>\n",
       "      <td>3.6</td>\n",
       "    </tr>\n",
       "    <tr>\n",
       "      <th>418558</th>\n",
       "      <td>2022-09-08 03:20:42-0700</td>\n",
       "      <td>1.662632e+09</td>\n",
       "      <td>2.8</td>\n",
       "    </tr>\n",
       "    <tr>\n",
       "      <th>418559</th>\n",
       "      <td>2022-09-08 03:25:42-0700</td>\n",
       "      <td>1.662633e+09</td>\n",
       "      <td>3.0</td>\n",
       "    </tr>\n",
       "  </tbody>\n",
       "</table>\n",
       "<p>418560 rows × 3 columns</p>\n",
       "</div>"
      ],
      "text/plain": [
       "                 deviceTime_local  deviceTime_unix  cpm\n",
       "0       2015-11-19 18:27:13-08:00     1.447986e+09  4.0\n",
       "1       2015-11-19 18:32:13-08:00     1.447987e+09  2.8\n",
       "2       2015-11-19 18:37:15-08:00     1.447987e+09  3.4\n",
       "3       2015-11-19 18:42:15-08:00     1.447987e+09  2.4\n",
       "4       2015-11-19 18:47:16-08:00     1.447988e+09  3.4\n",
       "...                           ...              ...  ...\n",
       "418555   2022-09-08 03:05:42-0700     1.662632e+09  2.8\n",
       "418556   2022-09-08 03:10:42-0700     1.662632e+09  2.8\n",
       "418557   2022-09-08 03:15:42-0700     1.662632e+09  3.6\n",
       "418558   2022-09-08 03:20:42-0700     1.662632e+09  2.8\n",
       "418559   2022-09-08 03:25:42-0700     1.662633e+09  3.0\n",
       "\n",
       "[418560 rows x 3 columns]"
      ]
     },
     "metadata": {},
     "output_type": "display_data"
    }
   ],
   "source": [
    "display(data_sub)"
   ]
  },
  {
   "cell_type": "code",
   "execution_count": 141,
   "id": "dddce1fa",
   "metadata": {},
   "outputs": [],
   "source": [
    "mask = (data_sub['deviceTime_local'] > '2022-01-01 00:00:00-08:00') & \\\n",
    "    (data_sub['deviceTime_local'] < '2022-03-01 00:00:00-08:00')"
   ]
  },
  {
   "cell_type": "code",
   "execution_count": 142,
   "id": "d6f8bcfc",
   "metadata": {},
   "outputs": [
    {
     "data": {
      "text/html": [
       "<div>\n",
       "<style scoped>\n",
       "    .dataframe tbody tr th:only-of-type {\n",
       "        vertical-align: middle;\n",
       "    }\n",
       "\n",
       "    .dataframe tbody tr th {\n",
       "        vertical-align: top;\n",
       "    }\n",
       "\n",
       "    .dataframe thead th {\n",
       "        text-align: right;\n",
       "    }\n",
       "</style>\n",
       "<table border=\"1\" class=\"dataframe\">\n",
       "  <thead>\n",
       "    <tr style=\"text-align: right;\">\n",
       "      <th></th>\n",
       "      <th>deviceTime_local</th>\n",
       "      <th>deviceTime_unix</th>\n",
       "      <th>cpm</th>\n",
       "    </tr>\n",
       "  </thead>\n",
       "  <tbody>\n",
       "    <tr>\n",
       "      <th>389838</th>\n",
       "      <td>2022-01-18 16:45:41-0800</td>\n",
       "      <td>1.642374e+09</td>\n",
       "      <td>2.6</td>\n",
       "    </tr>\n",
       "    <tr>\n",
       "      <th>389839</th>\n",
       "      <td>2022-01-18 16:45:43-0800</td>\n",
       "      <td>1.642375e+09</td>\n",
       "      <td>2.6</td>\n",
       "    </tr>\n",
       "    <tr>\n",
       "      <th>389840</th>\n",
       "      <td>2022-01-18 16:45:45-0800</td>\n",
       "      <td>1.642375e+09</td>\n",
       "      <td>2.6</td>\n",
       "    </tr>\n",
       "    <tr>\n",
       "      <th>389841</th>\n",
       "      <td>2022-01-18 16:45:48-0800</td>\n",
       "      <td>1.642375e+09</td>\n",
       "      <td>3.4</td>\n",
       "    </tr>\n",
       "    <tr>\n",
       "      <th>389842</th>\n",
       "      <td>2022-01-18 16:45:50-0800</td>\n",
       "      <td>1.642376e+09</td>\n",
       "      <td>3.0</td>\n",
       "    </tr>\n",
       "    <tr>\n",
       "      <th>...</th>\n",
       "      <td>...</td>\n",
       "      <td>...</td>\n",
       "      <td>...</td>\n",
       "    </tr>\n",
       "    <tr>\n",
       "      <th>390693</th>\n",
       "      <td>2022-01-19 10:30:37-0800</td>\n",
       "      <td>1.642617e+09</td>\n",
       "      <td>1.4</td>\n",
       "    </tr>\n",
       "    <tr>\n",
       "      <th>390694</th>\n",
       "      <td>2022-01-19 10:35:43-0800</td>\n",
       "      <td>1.642617e+09</td>\n",
       "      <td>1.0</td>\n",
       "    </tr>\n",
       "    <tr>\n",
       "      <th>390695</th>\n",
       "      <td>2022-01-19 10:35:38-0800</td>\n",
       "      <td>1.642617e+09</td>\n",
       "      <td>2.6</td>\n",
       "    </tr>\n",
       "    <tr>\n",
       "      <th>390696</th>\n",
       "      <td>2022-01-19 10:40:37-0800</td>\n",
       "      <td>1.642618e+09</td>\n",
       "      <td>2.8</td>\n",
       "    </tr>\n",
       "    <tr>\n",
       "      <th>390697</th>\n",
       "      <td>2022-01-19 10:45:37-0800</td>\n",
       "      <td>1.642618e+09</td>\n",
       "      <td>3.0</td>\n",
       "    </tr>\n",
       "  </tbody>\n",
       "</table>\n",
       "<p>860 rows × 3 columns</p>\n",
       "</div>"
      ],
      "text/plain": [
       "                deviceTime_local  deviceTime_unix  cpm\n",
       "389838  2022-01-18 16:45:41-0800     1.642374e+09  2.6\n",
       "389839  2022-01-18 16:45:43-0800     1.642375e+09  2.6\n",
       "389840  2022-01-18 16:45:45-0800     1.642375e+09  2.6\n",
       "389841  2022-01-18 16:45:48-0800     1.642375e+09  3.4\n",
       "389842  2022-01-18 16:45:50-0800     1.642376e+09  3.0\n",
       "...                          ...              ...  ...\n",
       "390693  2022-01-19 10:30:37-0800     1.642617e+09  1.4\n",
       "390694  2022-01-19 10:35:43-0800     1.642617e+09  1.0\n",
       "390695  2022-01-19 10:35:38-0800     1.642617e+09  2.6\n",
       "390696  2022-01-19 10:40:37-0800     1.642618e+09  2.8\n",
       "390697  2022-01-19 10:45:37-0800     1.642618e+09  3.0\n",
       "\n",
       "[860 rows x 3 columns]"
      ]
     },
     "metadata": {},
     "output_type": "display_data"
    }
   ],
   "source": [
    "data_cut = data_sub[mask]\n",
    "display(data_cut)"
   ]
  },
  {
   "cell_type": "code",
   "execution_count": 115,
   "id": "8c329052",
   "metadata": {},
   "outputs": [
    {
     "data": {
      "image/png": "[encoded data removed]",
      "text/plain": [
       "<Figure size 640x480 with 1 Axes>"
      ]
     },
     "metadata": {},
     "output_type": "display_data"
    }
   ],
   "source": [
    "plt.plot(data_sub['deviceTime_unix'],data_sub['cpm'])\n",
    "plt.ylabel('Counts-per-minute')\n",
    "plt.xlabel('Time [epoch]')\n",
    "plt.show()"
   ]
  },
  {
   "cell_type": "code",
   "execution_count": 120,
   "id": "e1254a8c",
   "metadata": {},
   "outputs": [
    {
     "data": {
      "image/png": "[encoded data removed]",
      "text/plain": [
       "<Figure size 640x480 with 1 Axes>"
      ]
     },
     "metadata": {},
     "output_type": "display_data"
    }
   ],
   "source": [
    "\n",
    "plt.hist(data_sub[data_sub['cpm']<30]['cpm'],bins=35)\n",
    "plt.show()"
   ]
  },
  {
   "cell_type": "code",
   "execution_count": 125,
   "id": "4cb41f12",
   "metadata": {},
   "outputs": [
    {
     "name": "stdout",
     "output_type": "stream",
     "text": [
      "1447986433.0\n"
     ]
    }
   ],
   "source": [
    "start_time = data['deviceTime_unix'][0]\n",
    "print(start_time)"
   ]
  },
  {
   "cell_type": "code",
   "execution_count": 127,
   "id": "eed4b12c",
   "metadata": {},
   "outputs": [
    {
     "data": {
      "text/html": [
       "<div>\n",
       "<style scoped>\n",
       "    .dataframe tbody tr th:only-of-type {\n",
       "        vertical-align: middle;\n",
       "    }\n",
       "\n",
       "    .dataframe tbody tr th {\n",
       "        vertical-align: top;\n",
       "    }\n",
       "\n",
       "    .dataframe thead th {\n",
       "        text-align: right;\n",
       "    }\n",
       "</style>\n",
       "<table border=\"1\" class=\"dataframe\">\n",
       "  <thead>\n",
       "    <tr style=\"text-align: right;\">\n",
       "      <th></th>\n",
       "      <th>deviceTime_utc</th>\n",
       "      <th>deviceTime_local</th>\n",
       "      <th>deviceTime_unix</th>\n",
       "      <th>cpm</th>\n",
       "      <th>cpmError</th>\n",
       "      <th>error_flag</th>\n",
       "    </tr>\n",
       "  </thead>\n",
       "  <tbody>\n",
       "    <tr>\n",
       "      <th>0</th>\n",
       "      <td>2015-11-20 02:27:13+00:00</td>\n",
       "      <td>2015-11-19 18:27:13-08:00</td>\n",
       "      <td>1.447986e+09</td>\n",
       "      <td>4.0</td>\n",
       "      <td>0.894427</td>\n",
       "      <td>NaN</td>\n",
       "    </tr>\n",
       "    <tr>\n",
       "      <th>1</th>\n",
       "      <td>2015-11-20 02:32:13+00:00</td>\n",
       "      <td>2015-11-19 18:32:13-08:00</td>\n",
       "      <td>1.447987e+09</td>\n",
       "      <td>2.8</td>\n",
       "      <td>0.748331</td>\n",
       "      <td>NaN</td>\n",
       "    </tr>\n",
       "    <tr>\n",
       "      <th>2</th>\n",
       "      <td>2015-11-20 02:37:15+00:00</td>\n",
       "      <td>2015-11-19 18:37:15-08:00</td>\n",
       "      <td>1.447987e+09</td>\n",
       "      <td>3.4</td>\n",
       "      <td>0.824621</td>\n",
       "      <td>NaN</td>\n",
       "    </tr>\n",
       "    <tr>\n",
       "      <th>3</th>\n",
       "      <td>2015-11-20 02:42:15+00:00</td>\n",
       "      <td>2015-11-19 18:42:15-08:00</td>\n",
       "      <td>1.447987e+09</td>\n",
       "      <td>2.4</td>\n",
       "      <td>0.692820</td>\n",
       "      <td>NaN</td>\n",
       "    </tr>\n",
       "    <tr>\n",
       "      <th>4</th>\n",
       "      <td>2015-11-20 02:47:16+00:00</td>\n",
       "      <td>2015-11-19 18:47:16-08:00</td>\n",
       "      <td>1.447988e+09</td>\n",
       "      <td>3.4</td>\n",
       "      <td>0.824621</td>\n",
       "      <td>NaN</td>\n",
       "    </tr>\n",
       "    <tr>\n",
       "      <th>...</th>\n",
       "      <td>...</td>\n",
       "      <td>...</td>\n",
       "      <td>...</td>\n",
       "      <td>...</td>\n",
       "      <td>...</td>\n",
       "      <td>...</td>\n",
       "    </tr>\n",
       "    <tr>\n",
       "      <th>284</th>\n",
       "      <td>2015-11-21 02:07:10+00:00</td>\n",
       "      <td>2015-11-20 18:07:10-08:00</td>\n",
       "      <td>1.448072e+09</td>\n",
       "      <td>2.8</td>\n",
       "      <td>0.748331</td>\n",
       "      <td>NaN</td>\n",
       "    </tr>\n",
       "    <tr>\n",
       "      <th>285</th>\n",
       "      <td>2015-11-21 02:12:11+00:00</td>\n",
       "      <td>2015-11-20 18:12:11-08:00</td>\n",
       "      <td>1.448072e+09</td>\n",
       "      <td>4.0</td>\n",
       "      <td>0.894427</td>\n",
       "      <td>NaN</td>\n",
       "    </tr>\n",
       "    <tr>\n",
       "      <th>286</th>\n",
       "      <td>2015-11-21 02:17:11+00:00</td>\n",
       "      <td>2015-11-20 18:17:11-08:00</td>\n",
       "      <td>1.448072e+09</td>\n",
       "      <td>2.2</td>\n",
       "      <td>0.663325</td>\n",
       "      <td>NaN</td>\n",
       "    </tr>\n",
       "    <tr>\n",
       "      <th>287</th>\n",
       "      <td>2015-11-21 02:22:12+00:00</td>\n",
       "      <td>2015-11-20 18:22:12-08:00</td>\n",
       "      <td>1.448073e+09</td>\n",
       "      <td>2.6</td>\n",
       "      <td>0.721110</td>\n",
       "      <td>NaN</td>\n",
       "    </tr>\n",
       "    <tr>\n",
       "      <th>288</th>\n",
       "      <td>2015-11-21 02:27:12+00:00</td>\n",
       "      <td>2015-11-20 18:27:12-08:00</td>\n",
       "      <td>1.448073e+09</td>\n",
       "      <td>3.2</td>\n",
       "      <td>0.800000</td>\n",
       "      <td>NaN</td>\n",
       "    </tr>\n",
       "  </tbody>\n",
       "</table>\n",
       "<p>289 rows × 6 columns</p>\n",
       "</div>"
      ],
      "text/plain": [
       "                deviceTime_utc           deviceTime_local  deviceTime_unix  \\\n",
       "0    2015-11-20 02:27:13+00:00  2015-11-19 18:27:13-08:00     1.447986e+09   \n",
       "1    2015-11-20 02:32:13+00:00  2015-11-19 18:32:13-08:00     1.447987e+09   \n",
       "2    2015-11-20 02:37:15+00:00  2015-11-19 18:37:15-08:00     1.447987e+09   \n",
       "3    2015-11-20 02:42:15+00:00  2015-11-19 18:42:15-08:00     1.447987e+09   \n",
       "4    2015-11-20 02:47:16+00:00  2015-11-19 18:47:16-08:00     1.447988e+09   \n",
       "..                         ...                        ...              ...   \n",
       "284  2015-11-21 02:07:10+00:00  2015-11-20 18:07:10-08:00     1.448072e+09   \n",
       "285  2015-11-21 02:12:11+00:00  2015-11-20 18:12:11-08:00     1.448072e+09   \n",
       "286  2015-11-21 02:17:11+00:00  2015-11-20 18:17:11-08:00     1.448072e+09   \n",
       "287  2015-11-21 02:22:12+00:00  2015-11-20 18:22:12-08:00     1.448073e+09   \n",
       "288  2015-11-21 02:27:12+00:00  2015-11-20 18:27:12-08:00     1.448073e+09   \n",
       "\n",
       "     cpm  cpmError  error_flag  \n",
       "0    4.0  0.894427         NaN  \n",
       "1    2.8  0.748331         NaN  \n",
       "2    3.4  0.824621         NaN  \n",
       "3    2.4  0.692820         NaN  \n",
       "4    3.4  0.824621         NaN  \n",
       "..   ...       ...         ...  \n",
       "284  2.8  0.748331         NaN  \n",
       "285  4.0  0.894427         NaN  \n",
       "286  2.2  0.663325         NaN  \n",
       "287  2.6  0.721110         NaN  \n",
       "288  3.2  0.800000         NaN  \n",
       "\n",
       "[289 rows x 6 columns]"
      ]
     },
     "metadata": {},
     "output_type": "display_data"
    }
   ],
   "source": [
    "interval = 24*3600\n",
    "stop_time = start_time + interval\n",
    "mask = (data['deviceTime_unix'] >= start_time) & (data['deviceTime_unix'] < stop_time)\n",
    "data_day = data[mask]\n",
    "display(data_day)\n",
    "#day_average = data_day"
   ]
  },
  {
   "cell_type": "code",
   "execution_count": 129,
   "id": "6d63f2b0",
   "metadata": {},
   "outputs": [
    {
     "name": "stdout",
     "output_type": "stream",
     "text": [
      "2.631833910034602\n"
     ]
    }
   ],
   "source": [
    "day_ave = data_day['cpm'].mean()\n",
    "print(day_ave)"
   ]
  },
  {
   "cell_type": "code",
   "execution_count": 149,
   "id": "b1d027a6",
   "metadata": {},
   "outputs": [
    {
     "name": "stdout",
     "output_type": "stream",
     "text": [
      "1662632742.92\n"
     ]
    }
   ],
   "source": [
    "final_time = data['deviceTime_unix'].iloc[-1]\n",
    "print(final_time)"
   ]
  },
  {
   "cell_type": "code",
   "execution_count": 150,
   "id": "e6ce6ef8",
   "metadata": {},
   "outputs": [],
   "source": [
    "start_time = data['deviceTime_unix'][0]\n",
    "final_time = data['deviceTime_unix'].iloc[-1]\n",
    "interval = 24*3600\n",
    "total_time = int((final_time - start_time)/interval)\n",
    "daily_aves = []\n",
    "for i in range(total_time):\n",
    "    stop_time = start_time + interval\n",
    "    mask = (data['deviceTime_unix'] >= start_time) & (data['deviceTime_unix'] < stop_time)\n",
    "    data_day = data[mask]\n",
    "    day_ave = np.mean(data_day['cpm'])\n",
    "    daily_aves.append(day_ave)\n",
    "    start_time = stop_time"
   ]
  },
  {
   "cell_type": "code",
   "execution_count": 151,
   "id": "1952285e",
   "metadata": {},
   "outputs": [
    {
     "data": {
      "image/png": "[encoded data removed]",
      "text/plain": [
       "<Figure size 640x480 with 1 Axes>"
      ]
     },
     "metadata": {},
     "output_type": "display_data"
    }
   ],
   "source": [
    "plt.plot(daily_aves)\n",
    "plt.show()"
   ]
  },
  {
   "cell_type": "code",
   "execution_count": 139,
   "id": "b6f76556",
   "metadata": {},
   "outputs": [],
   "source": [
    "def calc_ave(data):\n",
    "    ave = np.mean(data['cpm'])\n",
    "    return ave"
   ]
  },
  {
   "cell_type": "code",
   "execution_count": 143,
   "id": "17db833a",
   "metadata": {},
   "outputs": [
    {
     "data": {
      "text/plain": [
       "2.793953488372093"
      ]
     },
     "execution_count": 143,
     "metadata": {},
     "output_type": "execute_result"
    }
   ],
   "source": [
    "calc_ave(data_cut)"
   ]
  },
  {
   "cell_type": "code",
   "execution_count": 144,
   "id": "15bf0f16",
   "metadata": {},
   "outputs": [
    {
     "ename": "NameError",
     "evalue": "name 'ave' is not defined",
     "output_type": "error",
     "traceback": [
      "\u001b[1;31m---------------------------------------------------------------------------\u001b[0m",
      "\u001b[1;31mNameError\u001b[0m                                 Traceback (most recent call last)",
      "Cell \u001b[1;32mIn[144], line 1\u001b[0m\n\u001b[1;32m----> 1\u001b[0m \u001b[38;5;28mprint\u001b[39m(ave)\n",
      "\u001b[1;31mNameError\u001b[0m: name 'ave' is not defined"
     ]
    }
   ],
   "source": [
    "print(ave)"
   ]
  },
  {
   "cell_type": "code",
   "execution_count": null,
   "id": "c31f328f",
   "metadata": {},
   "outputs": [],
   "source": []
  }
 ],
 "metadata": {
  "kernelspec": {
   "display_name": "Python 3 (ipykernel)",
   "language": "python",
   "name": "python3"
  },
  "language_info": {
   "codemirror_mode": {
    "name": "ipython",
    "version": 3
   },
   "file_extension": ".py",
   "mimetype": "text/x-python",
   "name": "python",
   "nbconvert_exporter": "python",
   "pygments_lexer": "ipython3",
   "version": "3.11.5"
  }
 },
 "nbformat": 4,
 "nbformat_minor": 5
}
