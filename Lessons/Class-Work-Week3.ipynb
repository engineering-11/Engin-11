{
 "cells": [
  {
   "cell_type": "markdown",
   "id": "cdee00bf",
   "metadata": {},
   "source": [
    "$$A = \\lambda N$$ "
   ]
  },
  {
   "cell_type": "markdown",
   "id": "6d232eb4",
   "metadata": {},
   "source": [
    "$$ N = m/M N_{A} $$"
   ]
  },
  {
   "cell_type": "markdown",
   "id": "24dcfc92",
   "metadata": {},
   "source": [
    "$$\\lambda = ln(2)/t_{1/2}$$"
   ]
  },
  {
   "cell_type": "code",
   "execution_count": 4,
   "id": "1b3be9e8",
   "metadata": {},
   "outputs": [],
   "source": [
    "import scipy.constants as c\n",
    "import math"
   ]
  },
  {
   "cell_type": "code",
   "execution_count": 3,
   "id": "c4684c6a",
   "metadata": {},
   "outputs": [
    {
     "name": "stdout",
     "output_type": "stream",
     "text": [
      "1.9464939234090964e+22\n"
     ]
    }
   ],
   "source": [
    "half_life = 1.4e10 # years\n",
    "natural_abundance = .9998\n",
    "mTh = .25e3 * .03 # mass in g\n",
    "MTh = 232.038 # g/mol\n",
    "N_th = mTh/MTh * c.N_A\n",
    "print(N_th)"
   ]
  },
  {
   "cell_type": "code",
   "execution_count": 7,
   "id": "a19d76e4",
   "metadata": {},
   "outputs": [
    {
     "name": "stdout",
     "output_type": "stream",
     "text": [
      "9.64e+11 decays/year\n"
     ]
    }
   ],
   "source": [
    "lam = math.log(2)/half_life # /year\n",
    "A = lam*N_th\n",
    "print(\"{:.2e} decays/year\".format(A))"
   ]
  },
  {
   "cell_type": "code",
   "execution_count": 8,
   "id": "c5d4b981",
   "metadata": {},
   "outputs": [
    {
     "name": "stdout",
     "output_type": "stream",
     "text": [
      "30538.416260789374 decays/s\n"
     ]
    }
   ],
   "source": [
    "A_sec = A/(365.25*24*60*60) # decays/year * year/sec -> decays/sec\n",
    "print(A_sec,\"decays/s\")"
   ]
  },
  {
   "cell_type": "code",
   "execution_count": 9,
   "id": "39068f3f",
   "metadata": {},
   "outputs": [
    {
     "name": "stdout",
     "output_type": "stream",
     "text": [
      "122.1536650431575\n"
     ]
    }
   ],
   "source": [
    "Specific_A = A_sec/.25e3 # decays/s/g\n",
    "print(Specific_A)"
   ]
  },
  {
   "cell_type": "code",
   "execution_count": 10,
   "id": "bf4ad920",
   "metadata": {},
   "outputs": [
    {
     "name": "stdout",
     "output_type": "stream",
     "text": [
      "6107.683252157875 decays/s\n"
     ]
    }
   ],
   "source": [
    "# 50g rock Activity\n",
    "A_2 = Specific_A*50\n",
    "print(A_2, \"decays/s\")"
   ]
  },
  {
   "cell_type": "code",
   "execution_count": null,
   "id": "db6505e1",
   "metadata": {},
   "outputs": [],
   "source": []
  }
 ],
 "metadata": {
  "kernelspec": {
   "display_name": "Python 3 (ipykernel)",
   "language": "python",
   "name": "python3"
  },
  "language_info": {
   "codemirror_mode": {
    "name": "ipython",
    "version": 3
   },
   "file_extension": ".py",
   "mimetype": "text/x-python",
   "name": "python",
   "nbconvert_exporter": "python",
   "pygments_lexer": "ipython3",
   "version": "3.11.5"
  }
 },
 "nbformat": 4,
 "nbformat_minor": 5
}
