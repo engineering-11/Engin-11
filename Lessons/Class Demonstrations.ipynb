{
 "cells": [
  {
   "cell_type": "code",
   "execution_count": 15,
   "id": "4c79ac99",
   "metadata": {},
   "outputs": [],
   "source": [
    "import csv"
   ]
  },
  {
   "cell_type": "code",
   "execution_count": 32,
   "id": "395dc8ce",
   "metadata": {},
   "outputs": [],
   "source": [
    "header = ['Time', 'Temperature', 'Pressure', 'Humidity']\n",
    "test = [2, 23.4, 1002.3, 48.5]\n",
    "#str_test = ['2','23.4','1002.3','48.5']"
   ]
  },
  {
   "cell_type": "code",
   "execution_count": 43,
   "id": "07ae9293",
   "metadata": {},
   "outputs": [
    {
     "name": "stdout",
     "output_type": "stream",
     "text": [
      "['2', '23.4', '1002.3', '48.5']\n",
      "Time,Temperature,Pressure,Humidity\n",
      "2,23.4,1002.3,48.5\n"
     ]
    }
   ],
   "source": [
    "str_test = [str(a) for a in test]\n",
    "print(str_test)\n",
    "\n",
    "header_string = \",\".join(header)\n",
    "test_string = \",\".join(str_test)\n",
    "print(header_string)\n",
    "print(test_string)"
   ]
  },
  {
   "cell_type": "code",
   "execution_count": 44,
   "id": "91e88436",
   "metadata": {},
   "outputs": [],
   "source": [
    "outfile = open('test.txt', 'w')\n",
    "outfile.write(header_string + '\\n')\n",
    "outfile.write(test_string + '\\n')\n",
    "outfile.close()"
   ]
  },
  {
   "cell_type": "code",
   "execution_count": 29,
   "id": "b1f54c97",
   "metadata": {},
   "outputs": [],
   "source": [
    "with open('test.csv', 'w', newline='') as csvfile:\n",
    "    testwriter = csv.writer(csvfile, delimiter=',')\n",
    "    testwriter.writerow(header)\n",
    "    testwriter.writerow(test)\n"
   ]
  },
  {
   "cell_type": "code",
   "execution_count": 45,
   "id": "9a56eacc",
   "metadata": {},
   "outputs": [
    {
     "data": {
      "text/plain": [
       "20"
      ]
     },
     "execution_count": 45,
     "metadata": {},
     "output_type": "execute_result"
    }
   ],
   "source": [
    "csvfile = open('test.csv', 'w', newline='')\n",
    "\n",
    "testwriter = csv.writer(csvfile, delimiter=',')\n",
    "testwriter.writerow(header)\n",
    "testwriter.writerow(test)\n"
   ]
  },
  {
   "cell_type": "code",
   "execution_count": null,
   "id": "b1b254a6",
   "metadata": {},
   "outputs": [],
   "source": []
  }
 ],
 "metadata": {
  "kernelspec": {
   "display_name": "Python 3",
   "language": "python",
   "name": "python3"
  },
  "language_info": {
   "codemirror_mode": {
    "name": "ipython",
    "version": 3
   },
   "file_extension": ".py",
   "mimetype": "text/x-python",
   "name": "python",
   "nbconvert_exporter": "python",
   "pygments_lexer": "ipython3",
   "version": "3.7.3"
  }
 },
 "nbformat": 4,
 "nbformat_minor": 5
}
