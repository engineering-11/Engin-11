{
 "cells": [
  {
   "cell_type": "code",
   "execution_count": 1,
   "id": "6353c13a",
   "metadata": {},
   "outputs": [],
   "source": [
    "import math"
   ]
  },
  {
   "cell_type": "code",
   "execution_count": 2,
   "id": "e3d45010",
   "metadata": {},
   "outputs": [
    {
     "name": "stdout",
     "output_type": "stream",
     "text": [
      "4.2185639229422066e+24\n"
     ]
    }
   ],
   "source": [
    "m_k = 70000*.004\n",
    "M_k = 39.97\n",
    "N_A = 6.022e23\n",
    "N_K = m_k * N_A / M_k\n",
    "print(N_K)"
   ]
  },
  {
   "cell_type": "code",
   "execution_count": 3,
   "id": "020f642f",
   "metadata": {},
   "outputs": [
    {
     "name": "stdout",
     "output_type": "stream",
     "text": [
      "5.062276707530648e+20\n"
     ]
    }
   ],
   "source": [
    "N_K40 = N_K * 0.00012\n",
    "print(N_K40)"
   ]
  },
  {
   "cell_type": "code",
   "execution_count": 5,
   "id": "50960322",
   "metadata": {},
   "outputs": [
    {
     "name": "stdout",
     "output_type": "stream",
     "text": [
      "281162085499.932\n"
     ]
    }
   ],
   "source": [
    "t_half = 1.248e9\n",
    "lam = math.log(2)/t_half\n",
    "Act = N_K40*lam\n",
    "print(Act)"
   ]
  },
  {
   "cell_type": "code",
   "execution_count": 8,
   "id": "11625d82",
   "metadata": {},
   "outputs": [],
   "source": [
    "Act_s = Act/(3600*24*365.25)"
   ]
  },
  {
   "cell_type": "code",
   "execution_count": 9,
   "id": "bcdff1fc",
   "metadata": {},
   "outputs": [
    {
     "name": "stdout",
     "output_type": "stream",
     "text": [
      "8909.48885529736\n"
     ]
    }
   ],
   "source": [
    "print(Act_s)"
   ]
  },
  {
   "cell_type": "code",
   "execution_count": 10,
   "id": "d7980268",
   "metadata": {},
   "outputs": [
    {
     "name": "stdout",
     "output_type": "stream",
     "text": [
      "109524384877.3974\n"
     ]
    }
   ],
   "source": [
    "Br_beta = .8914\n",
    "Act_beta = Act*Br_beta\n",
    "\n",
    "E_e = 1/3 * 1.311 #MeV\n",
    "Dose_abs = Act_beta*E_e\n",
    "print(Dose_abs)"
   ]
  },
  {
   "cell_type": "code",
   "execution_count": 11,
   "id": "06931eda",
   "metadata": {},
   "outputs": [
    {
     "name": "stdout",
     "output_type": "stream",
     "text": [
      "0.01754580645735906\n"
     ]
    }
   ],
   "source": [
    "J_per_MeV = 1.602e-13 #J/MeV\n",
    "Dose_J = Dose_abs * J_per_MeV  # J/yr\n",
    "print(Dose_J)"
   ]
  },
  {
   "cell_type": "code",
   "execution_count": 13,
   "id": "63c0ec42",
   "metadata": {},
   "outputs": [
    {
     "name": "stdout",
     "output_type": "stream",
     "text": [
      "0.0002506543779622723\n"
     ]
    }
   ],
   "source": [
    "mass = 70\n",
    "Dose_per_yr = Dose_J/mass\n",
    "print(Dose_per_yr)"
   ]
  },
  {
   "cell_type": "code",
   "execution_count": 14,
   "id": "ebe9c303",
   "metadata": {},
   "outputs": [
    {
     "name": "stdout",
     "output_type": "stream",
     "text": [
      "4.810274782349149e-05\n"
     ]
    }
   ],
   "source": [
    "# gammas\n",
    "Br_g = .1066\n",
    "Act_g = Act*Br_g\n",
    "E_g = 1.461\n",
    "P_abs = .48\n",
    "Dose_abs = Act_g * E_g * P_abs * J_per_MeV/mass\n",
    "print(Dose_abs)"
   ]
  },
  {
   "cell_type": "code",
   "execution_count": null,
   "id": "1624744a",
   "metadata": {},
   "outputs": [],
   "source": []
  }
 ],
 "metadata": {
  "kernelspec": {
   "display_name": "Python 3 (ipykernel)",
   "language": "python",
   "name": "python3"
  },
  "language_info": {
   "codemirror_mode": {
    "name": "ipython",
    "version": 3
   },
   "file_extension": ".py",
   "mimetype": "text/x-python",
   "name": "python",
   "nbconvert_exporter": "python",
   "pygments_lexer": "ipython3",
   "version": "3.11.5"
  }
 },
 "nbformat": 4,
 "nbformat_minor": 5
}
