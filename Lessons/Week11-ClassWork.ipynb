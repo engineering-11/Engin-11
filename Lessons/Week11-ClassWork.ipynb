{
 "cells": [
  {
   "cell_type": "code",
   "execution_count": 2,
   "id": "ebac2d3d",
   "metadata": {},
   "outputs": [],
   "source": [
    "import math"
   ]
  },
  {
   "cell_type": "code",
   "execution_count": 12,
   "id": "cceeabc1",
   "metadata": {},
   "outputs": [
    {
     "name": "stdout",
     "output_type": "stream",
     "text": [
      "Total activity for K-40 in the body is 2.873e+11 decays/year\n"
     ]
    }
   ],
   "source": [
    "# Number of K-40 atoms in a person with mass 70 kg\n",
    "# 0.4% of human body is potassium\n",
    "# K-40 natural abundance is 0.012%\n",
    "# K-40 half-life is 1.248e9 years\n",
    "N_K40 = 0.004*70e3/39.098*6.02e23*0.00012\n",
    "A_K40 = math.log(2)/1.248e9*N_K40\n",
    "print(\"Total activity for K-40 in the body is {:.3e} decays/year\".format(A_K40))"
   ]
  },
  {
   "cell_type": "code",
   "execution_count": 13,
   "id": "3321d6d7",
   "metadata": {},
   "outputs": [
    {
     "name": "stdout",
     "output_type": "stream",
     "text": [
      "The activity from electrons is 2.561e+11 decays/year\n"
     ]
    }
   ],
   "source": [
    "# For the electron (branching ratio is 89.14%)\n",
    "A_e = A_K40*0.8914\n",
    "print(\"The activity from electrons is {:.3e} decays/year\".format(A_e))"
   ]
  },
  {
   "cell_type": "code",
   "execution_count": 16,
   "id": "07f25107",
   "metadata": {},
   "outputs": [
    {
     "name": "stdout",
     "output_type": "stream",
     "text": [
      "The average energy per beta-decay is 7.001e-14 J/decay\n"
     ]
    }
   ],
   "source": [
    "# On average the electron caries 1/3 of the total decay energy\n",
    "J_d = (1/3)*1.311*1.602e-13\n",
    "print(\"The average energy per beta-decay is {:.3e} J/decay\".format(J_d))"
   ]
  },
  {
   "cell_type": "code",
   "execution_count": 11,
   "id": "bcba8470",
   "metadata": {},
   "outputs": [
    {
     "name": "stdout",
     "output_type": "stream",
     "text": [
      "K-40 dose from electrons is 0.256 mGy/y\n"
     ]
    }
   ],
   "source": [
    "Gy_per_y = J_d * A_e / 70\n",
    "print(\"K-40 dose from electrons is {:.3f} mGy/y\".format(Gy_per_y*1000))"
   ]
  },
  {
   "cell_type": "code",
   "execution_count": 18,
   "id": "1fed9e70",
   "metadata": {},
   "outputs": [
    {
     "name": "stdout",
     "output_type": "stream",
     "text": [
      "K-40 dose from gammas is 0.049 mGy/y\n"
     ]
    }
   ],
   "source": [
    "# For the photon (branching ratio is 10.66%)\n",
    "A_g = A_K40*0.1066\n",
    "J_d = 1.461*1.602e-13\n",
    "Gy_per_y_g = J_d * A_g * 0.48 / 70\n",
    "print(\"K-40 dose from gammas is {:.3f} mGy/y\".format(Gy_per_y_g*1000))"
   ]
  },
  {
   "cell_type": "code",
   "execution_count": null,
   "id": "b572564a",
   "metadata": {},
   "outputs": [],
   "source": []
  }
 ],
 "metadata": {
  "kernelspec": {
   "display_name": "Python 3",
   "language": "python",
   "name": "python3"
  },
  "language_info": {
   "codemirror_mode": {
    "name": "ipython",
    "version": 3
   },
   "file_extension": ".py",
   "mimetype": "text/x-python",
   "name": "python",
   "nbconvert_exporter": "python",
   "pygments_lexer": "ipython3",
   "version": "3.7.3"
  }
 },
 "nbformat": 4,
 "nbformat_minor": 5
}
