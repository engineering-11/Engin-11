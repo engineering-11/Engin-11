{
 "cells": [
  {
   "cell_type": "code",
   "execution_count": 1,
   "metadata": {},
   "outputs": [],
   "source": [
    "import numpy as np\n",
    "import matplotlib.pyplot as plt\n",
    "from scipy.stats import binom\n",
    "from scipy.stats import poisson\n",
    "from scipy.stats import norm\n",
    "import time\n",
    "from IPython import display\n",
    "%matplotlib inline"
   ]
  },
  {
   "cell_type": "markdown",
   "metadata": {},
   "source": [
    "# Exploring probabilities with coin flips"
   ]
  },
  {
   "cell_type": "markdown",
   "metadata": {},
   "source": [
    "We want to simulate flipping a coin some number of times (N) to see the number of heads we get."
   ]
  },
  {
   "cell_type": "code",
   "execution_count": 4,
   "metadata": {},
   "outputs": [
    {
     "name": "stdout",
     "output_type": "stream",
     "text": [
      "20\n"
     ]
    }
   ],
   "source": [
    "nheads = 0\n",
    "for i in range(0,50):\n",
    "    if np.random.random() > 0.5:\n",
    "        nheads += 1\n",
    "print(nheads)"
   ]
  },
  {
   "cell_type": "markdown",
   "metadata": {},
   "source": [
    "If we make this into a function, we can start to run multiple coin-flip trials.\n",
    "\n",
    "#### What do you expect the ditribution of the number of heads to look like?"
   ]
  },
  {
   "cell_type": "code",
   "execution_count": 5,
   "metadata": {},
   "outputs": [],
   "source": [
    "def get_nheads(nflips):\n",
    "    nheads = 0\n",
    "    for i in range(nflips):\n",
    "        if np.random.random() > 0.5:\n",
    "            nheads += 1\n",
    "    return nheads"
   ]
  },
  {
   "cell_type": "code",
   "execution_count": 14,
   "metadata": {},
   "outputs": [
    {
     "data": {
      "image/png": "[encoded data removed]",
      "text/plain": [
       "<Figure size 432x288 with 1 Axes>"
      ]
     },
     "metadata": {
      "needs_background": "light"
     },
     "output_type": "display_data"
    },
    {
     "name": "stdout",
     "output_type": "stream",
     "text": [
      "25.0366\n",
      "3.4848042183170063\n"
     ]
    }
   ],
   "source": [
    "nheads_exp = []\n",
    "ntests = 10000\n",
    "nflips = 50\n",
    "for i in range(ntests):\n",
    "    iheads = get_nheads(nflips)\n",
    "    nheads_exp.append(iheads)\n",
    "\n",
    "plt.hist(nheads_exp, bins = (max(nheads_exp)-min(nheads_exp)), density = True, align='left')\n",
    "plt.ylabel(\"Frequency\")\n",
    "plt.xlabel(\"Number of heads\")\n",
    "\n",
    "p = .5\n",
    "x = np.array(range(nflips+1))\n",
    "plt.plot(x, binom.pmf(x, nflips, p))\n",
    "\n",
    "plt.show()\n",
    "\n",
    "print(np.mean(nheads_exp))\n",
    "print(np.std(nheads_exp))"
   ]
  },
  {
   "cell_type": "code",
   "execution_count": null,
   "metadata": {},
   "outputs": [],
   "source": [
    "np.sqrt(nflips*p*(1-p))"
   ]
  },
  {
   "cell_type": "code",
   "execution_count": null,
   "metadata": {},
   "outputs": [],
   "source": [
    "plt.ion()\n",
    "fig1 = plt.figure(1, figsize=(12,6))\n",
    "ax1 = fig1.add_subplot(121)\n",
    "#ax2 = fig1.add_subplot(122)\n",
    "fig1.canvas.draw()\n",
    "\n",
    "nheads_exp = []\n",
    "ntests = 100\n",
    "nflips = 40\n",
    "\n",
    "p = .5\n",
    "x = np.array(range(nflips+1))\n",
    "#ax2.set_ylabel(\"Binomial Probability: P(x)\")\n",
    "#ax2.set_xlabel(\"number of heads: x\")\n",
    "align='mid'\n",
    "if nflips%2==0:\n",
    "    align='left'\n",
    "for i in range(ntests):\n",
    "    iheads = get_nheads(nflips)\n",
    "    nheads_exp.append(iheads)\n",
    "\n",
    "    ax1.clear()\n",
    "    ax1.hist(nheads_exp, range=(0,nflips), bins = nflips+1, density=True, align=align)\n",
    "    ax1.plot(x, binom.pmf(x, nflips, p))\n",
    "    ax1.set_ylabel(\"Relative Frequency\")\n",
    "    ax1.set_xlabel(\"Number of heads\")\n",
    "    fig1.canvas.draw()\n",
    "    display.display(plt.gcf())\n",
    "    display.clear_output(wait=True)\n",
    "    time.sleep(0.05)\n"
   ]
  },
  {
   "cell_type": "markdown",
   "metadata": {},
   "source": [
    "How do you think the mean and variance of this distribution compares with our ideal case?"
   ]
  },
  {
   "cell_type": "code",
   "execution_count": null,
   "metadata": {},
   "outputs": [],
   "source": [
    "print(\"mean = \",np.mean(nheads_exp))\n",
    "print(\"std. dev. = \",np.std(nheads_exp))"
   ]
  },
  {
   "cell_type": "markdown",
   "metadata": {},
   "source": [
    "## Judging the fairness of a coin\n",
    "\n",
    "Now how can we determine if a coin is fair?"
   ]
  },
  {
   "cell_type": "code",
   "execution_count": 15,
   "metadata": {},
   "outputs": [],
   "source": [
    "def get_nheads_weighted(nflips, weight):\n",
    "    nheads = 0\n",
    "    for i in range(nflips):\n",
    "        if np.random.random() > weight:\n",
    "            nheads += 1\n",
    "    return nheads"
   ]
  },
  {
   "cell_type": "code",
   "execution_count": 76,
   "metadata": {},
   "outputs": [
    {
     "name": "stdout",
     "output_type": "stream",
     "text": [
      "Number of heads = 4\n"
     ]
    },
    {
     "data": {
      "image/png": "[encoded data removed]",
      "text/plain": [
       "<Figure size 432x288 with 1 Axes>"
      ]
     },
     "metadata": {
      "needs_background": "light"
     },
     "output_type": "display_data"
    },
    {
     "name": "stdout",
     "output_type": "stream",
     "text": [
      "Fair coin: ave. nheads = 5.0, sigma = 1.5811388300841898\n",
      "Nheads between 1 and 8\n",
      "Prob. to be fair =  0.9443359375000009\n"
     ]
    }
   ],
   "source": [
    "fairness_weight = 0.45\n",
    "\n",
    "nflips = 10\n",
    "\n",
    "nheads = get_nheads_weighted(nflips, fairness_weight)\n",
    "print(\"Number of heads =\",nheads)\n",
    "\n",
    "p = .5\n",
    "x = np.array(range(nflips+1))\n",
    "plt.plot(x, binom.pmf(x, nflips, p))\n",
    "plt.ylabel(\"Binomial Probability: P(x)\")\n",
    "plt.xlabel(\"number of heads: x\")\n",
    "plt.show()\n",
    "\n",
    "fair_mean = nflips*p\n",
    "fair_sigma = np.sqrt(fair_mean*(1-p))\n",
    "\n",
    "print(\"Fair coin: ave. nheads = {}, sigma = {}\".format(fair_mean,fair_sigma))\n",
    "\n",
    "lowx = int(fair_mean-2*fair_sigma)\n",
    "highx = int(fair_mean+2*fair_sigma)\n",
    "\n",
    "bsum = 0\n",
    "for x in range(lowx, highx):\n",
    "    bsum += binom.pmf(x, nflips, p)\n",
    "\n",
    "print(\"Nheads between {} and {}\".format(lowx,highx))\n",
    "print(\"Prob. to be fair = \",bsum)\n"
   ]
  },
  {
   "cell_type": "markdown",
   "metadata": {},
   "source": [
    "## Running many tests\n",
    "\n",
    "What if we tried running this test of our coin many times? \n",
    "\n",
    "Can we do a better job testing our coin this way?"
   ]
  },
  {
   "cell_type": "code",
   "execution_count": 25,
   "metadata": {},
   "outputs": [],
   "source": [
    "def get_tests(ntests, nflips):\n",
    "    nheads_exp = []\n",
    "    for i in range(ntests):\n",
    "        iheads = get_nheads(nflips)\n",
    "        nheads_exp.append(iheads)\n",
    "\n",
    "    return nheads_exp"
   ]
  },
  {
   "cell_type": "code",
   "execution_count": 26,
   "metadata": {},
   "outputs": [],
   "source": [
    "def get_weighted_tests(ntests, nflips, weight):\n",
    "    nheads_exp = []\n",
    "    for i in range(ntests):\n",
    "        iheads = get_nheads_weighted(nflips, weight)\n",
    "        nheads_exp.append(iheads)\n",
    "\n",
    "    return nheads_exp"
   ]
  },
  {
   "cell_type": "code",
   "execution_count": 82,
   "metadata": {},
   "outputs": [
    {
     "name": "stdout",
     "output_type": "stream",
     "text": [
      "Mean number of heads = 54.98, sigma_e = 4.913817253419179\n",
      "Fair coin: ave. nheads = 50.0, sigma = 5.0\n",
      "Nheads between 40 and 60\n",
      "2-sigma prob. to be fair =  0.9647997997822668\n"
     ]
    },
    {
     "data": {
      "image/png": "[encoded data removed]",
      "text/plain": [
       "<Figure size 432x288 with 1 Axes>"
      ]
     },
     "metadata": {
      "needs_background": "light"
     },
     "output_type": "display_data"
    },
    {
     "name": "stdout",
     "output_type": "stream",
     "text": [
      "Uncertainty on the mean = 0.15538854526637413\n"
     ]
    }
   ],
   "source": [
    "fairness_weight = 0.45\n",
    "\n",
    "nflips = 100\n",
    "ntests = 1000\n",
    "\n",
    "nheads = get_weighted_tests(ntests, nflips, fairness_weight)\n",
    "print(\"Mean number of heads = {}, sigma_e = {}\".format(np.mean(nheads),np.std(nheads)))\n",
    "\n",
    "p = .5\n",
    "x = np.array(range(nflips+1))\n",
    "plt.hist(nheads,density=True)\n",
    "plt.plot(x, binom.pmf(x, nflips, p))\n",
    "plt.ylabel(\"Binomial Probability: P(x)\")\n",
    "plt.xlabel(\"number of heads: x\")\n",
    "\n",
    "fair_mean = nflips*p\n",
    "fair_sigma = np.sqrt(fair_mean*(1-p))\n",
    "\n",
    "print(\"Fair coin: ave. nheads = {}, sigma = {}\".format(fair_mean,fair_sigma))\n",
    "\n",
    "bsum = 0\n",
    "for x in range(int(fair_mean-2*fair_sigma), int(fair_mean+2*fair_sigma)+1):\n",
    "    bsum += binom.pmf(x, nflips, p)\n",
    "\n",
    "print(\"Nheads between {} and {}\".format(int(fair_mean-2*fair_sigma),int(fair_mean+2*fair_sigma)))\n",
    "print(\"2-sigma prob. to be fair = \",bsum)\n",
    "\n",
    "plt.xlim(int(fair_mean-10*fair_sigma),int(fair_mean+10*fair_sigma))\n",
    "plt.show()\n",
    "print(\"Uncertainty on the mean =\", np.std(nheads)/np.sqrt(ntests))"
   ]
  },
  {
   "cell_type": "code",
   "execution_count": 81,
   "metadata": {},
   "outputs": [
    {
     "name": "stdout",
     "output_type": "stream",
     "text": [
      "Mean number of heads = 49.888\n",
      "Fair coin: ave. nheads = 50.0, sigma = 5.0\n",
      "Nheads between 40 and 60\n",
      "2-sigma prob. to be fair =  0.9647997997822668\n"
     ]
    },
    {
     "data": {
      "image/png": "[encoded data removed]",
      "text/plain": [
       "<Figure size 432x288 with 1 Axes>"
      ]
     },
     "metadata": {
      "needs_background": "light"
     },
     "output_type": "display_data"
    }
   ],
   "source": [
    "nflips = 100\n",
    "ntests = 1000\n",
    "\n",
    "nheads = get_tests(ntests, nflips)\n",
    "print(\"Mean number of heads =\",np.mean(nheads))\n",
    "\n",
    "p = .5\n",
    "x = np.array(range(nflips+1))\n",
    "plt.hist(nheads,density=True,align='left')\n",
    "plt.plot(x, binom.pmf(x, nflips, p))\n",
    "plt.ylabel(\"Binomial Probability: P(x)\")\n",
    "plt.xlabel(\"number of heads: x\")\n",
    "\n",
    "fair_mean = nflips*p\n",
    "fair_sigma = np.sqrt(fair_mean*(1-p))\n",
    "\n",
    "print(\"Fair coin: ave. nheads = {}, sigma = {}\".format(fair_mean,fair_sigma))\n",
    "\n",
    "bsum = 0\n",
    "for x in range(int(fair_mean-2*fair_sigma), int(fair_mean+2*fair_sigma)+1):\n",
    "    bsum += binom.pmf(x, nflips, p)\n",
    "\n",
    "print(\"Nheads between {} and {}\".format(int(fair_mean-2*fair_sigma),int(fair_mean+2*fair_sigma)))\n",
    "print(\"2-sigma prob. to be fair = \",bsum)\n",
    "\n",
    "plt.xlim(int(fair_mean-10*fair_sigma),int(fair_mean+10*fair_sigma))\n",
    "plt.show()\n"
   ]
  },
  {
   "cell_type": "markdown",
   "metadata": {},
   "source": [
    "## Running many experiments (each experiment being many tests)\n",
    "\n",
    "What if we tried running this same experiment many times? \n",
    "\n",
    "Can we do a better job testing our coin this way?"
   ]
  },
  {
   "cell_type": "code",
   "execution_count": 73,
   "metadata": {},
   "outputs": [
    {
     "data": {
      "image/png": "[encoded data removed]",
      "text/plain": [
       "<Figure size 432x288 with 1 Axes>"
      ]
     },
     "metadata": {
      "needs_background": "light"
     },
     "output_type": "display_data"
    },
    {
     "name": "stdout",
     "output_type": "stream",
     "text": [
      "Average of the distributions of mean number of heads = 5.00793 +/- 0.048114084216578416\n"
     ]
    }
   ],
   "source": [
    "ntests = 1000\n",
    "nflips = 10\n",
    "test_means = []\n",
    "nexperiments = 100\n",
    "\n",
    "#plt.ion()\n",
    "#fig1 = plt.figure(figsize=(12,5))\n",
    "#ax1 = fig1.add_subplot(121)\n",
    "#fig1.canvas.draw()\n",
    "\n",
    "for i in range(nexperiments):\n",
    "    nheads_exp = get_tests(ntests, nflips)\n",
    "    test_means.append(np.mean(nheads_exp))\n",
    "\n",
    "#    ax1.clear()\n",
    "#    ax1.hist(test_means, bins = nflips, density=True)\n",
    "#    ax1.set_ylabel(\"Relative Frequency\")\n",
    "#    ax1.set_xlabel(\"Mean number of heads\")\n",
    "#    fig1.canvas.draw()\n",
    "#    display.display(plt.gcf())\n",
    "#    display.clear_output(wait=True)\n",
    "#    time.sleep(0.05)\n",
    "mu = np.mean(test_means)\n",
    "sigma = np.std(test_means)\n",
    "x = np.linspace(mu - 5*sigma, mu + 5*sigma, 100)\n",
    "y=norm.pdf(x, mu, sigma)\n",
    "plt.hist(test_means, bins = nflips, density=True, label=\"F(x)\")\n",
    "plt.plot(x,y, label=\"P(x)\")\n",
    "plt.ylabel(\"Frequency\")\n",
    "plt.xlabel(\"Experimental mean\")\n",
    "plt.legend()\n",
    "plt.show()\n",
    "\n",
    "print(\"Average of the distributions of mean number of heads = {} +/- {}\".format(mu,sigma))"
   ]
  },
  {
   "cell_type": "code",
   "execution_count": 75,
   "metadata": {},
   "outputs": [
    {
     "data": {
      "image/png": "[encoded data removed]",
      "text/plain": [
       "<Figure size 432x288 with 1 Axes>"
      ]
     },
     "metadata": {
      "needs_background": "light"
     },
     "output_type": "display_data"
    },
    {
     "name": "stdout",
     "output_type": "stream",
     "text": [
      "Average of the distributions of mean number of heads = 5.49993 +/- 0.15975385785639107\n"
     ]
    }
   ],
   "source": [
    "ntests = 100\n",
    "nflips = 10\n",
    "test_means = []\n",
    "nexperiments = 1000\n",
    "\n",
    "weight = 0.45\n",
    "\n",
    "for i in range(nexperiments):\n",
    "    nheads_exp = get_weighted_tests(ntests, nflips, weight)\n",
    "    test_means.append(np.mean(nheads_exp))\n",
    "\n",
    "mu = np.mean(test_means)\n",
    "sigma = np.std(test_means)\n",
    "x = np.linspace(mu - 5*sigma, mu + 5*sigma, 100)\n",
    "y=norm.pdf(x, mu, sigma)\n",
    "plt.hist(test_means, bins = nflips, density=True, label=\"F(x)\")\n",
    "plt.plot(x,y, label=\"P(x)\")\n",
    "plt.ylabel(\"Frequency\")\n",
    "plt.xlabel(\"Experimental mean\")\n",
    "plt.legend()\n",
    "plt.show()\n",
    "\n",
    "print(\"Average of the distributions of mean number of heads = {} +/- {}\".format(mu,sigma))"
   ]
  },
  {
   "cell_type": "code",
   "execution_count": null,
   "metadata": {},
   "outputs": [],
   "source": [
    "    #ax1.hist(nheads_exp, bins = (max(nheads_exp)-min(nheads_exp)))\n",
    "    #ax1.set_ylabel(\"Frequency\")\n",
    "    #ax1.set_xlabel(\"Number of heads\")\n",
    "    #plt.show()\n",
    "    #plt.draw()\n",
    "    #plt.pause(0.1)\n"
   ]
  }
 ],
 "metadata": {
  "kernelspec": {
   "display_name": "py3",
   "language": "python",
   "name": "py3"
  },
  "language_info": {
   "codemirror_mode": {
    "name": "ipython",
    "version": 3
   },
   "file_extension": ".py",
   "mimetype": "text/x-python",
   "name": "python",
   "nbconvert_exporter": "python",
   "pygments_lexer": "ipython3",
   "version": "3.7.6"
  }
 },
 "nbformat": 4,
 "nbformat_minor": 4
}
