{
 "cells": [
  {
   "cell_type": "code",
   "execution_count": 2,
   "metadata": {},
   "outputs": [],
   "source": [
    "import numpy as np\n",
    "import matplotlib.pyplot as plt\n",
    "from scipy.stats import binom\n",
    "from scipy.stats import poisson\n",
    "from scipy.stats import norm\n",
    "import time\n",
    "from IPython import display"
   ]
  },
  {
   "cell_type": "markdown",
   "metadata": {},
   "source": [
    "# Exploring probabilities with coin flips"
   ]
  },
  {
   "cell_type": "markdown",
   "metadata": {},
   "source": [
    "We want to simulate flipping a coin some number of times (N) to see the number of heads we get."
   ]
  },
  {
   "cell_type": "code",
   "execution_count": 3,
   "metadata": {},
   "outputs": [
    {
     "name": "stdout",
     "output_type": "stream",
     "text": [
      "254\n"
     ]
    }
   ],
   "source": [
    "nheads = 0\n",
    "for i in range(0,500):\n",
    "    if np.random.random() > 0.5:\n",
    "        nheads += 1\n",
    "print(nheads)"
   ]
  },
  {
   "cell_type": "markdown",
   "metadata": {},
   "source": [
    "If we make this into a function, we can start to run multiple coin-flip trials.\n",
    "\n",
    "#### What do you expect the ditribution of the number of heads to look like?"
   ]
  },
  {
   "cell_type": "code",
   "execution_count": 4,
   "metadata": {},
   "outputs": [],
   "source": [
    "def get_nheads(nflips):\n",
    "    nheads = 0\n",
    "    for i in range(nflips):\n",
    "        if np.random.random() >= 0.5:\n",
    "            nheads += 1\n",
    "    return nheads"
   ]
  },
  {
   "cell_type": "code",
   "execution_count": 5,
   "metadata": {},
   "outputs": [],
   "source": [
    "# Keep track of number of heads and number of tails\n",
    "def get_flip_results(nflips):\n",
    "    nheads = 0\n",
    "    ntails = 0\n",
    "    for i in range(nflips):\n",
    "        rand = np.random.random()\n",
    "        if rand >= 0.5:\n",
    "            nheads += 1\n",
    "        if rand < 0.5:\n",
    "            ntails += 1\n",
    "    return nheads, ntails"
   ]
  },
  {
   "cell_type": "code",
   "execution_count": 6,
   "metadata": {},
   "outputs": [],
   "source": [
    "# Keep track of all results as a list and return that list for counting up number of heads and tails, etc.\n",
    "def get_flips(nflips):\n",
    "    flips = []\n",
    "    for i in range(nflips):\n",
    "        rand = np.random.random()\n",
    "        if rand >= 0.5:\n",
    "            flips.append(1)\n",
    "        if rand < 0.5:\n",
    "            flips.append(0)\n",
    "    return flips"
   ]
  },
  {
   "cell_type": "code",
   "execution_count": 7,
   "metadata": {},
   "outputs": [
    {
     "data": {
      "image/png": "[encoded data removed]",
      "text/plain": [
       "<Figure size 720x360 with 1 Axes>"
      ]
     },
     "metadata": {
      "needs_background": "light"
     },
     "output_type": "display_data"
    }
   ],
   "source": [
    "plt.ion()\n",
    "fig1 = plt.figure(1, figsize=(10,5))\n",
    "ax1 = fig1.add_subplot()\n",
    "#ax2 = fig1.add_subplot(122)\n",
    "fig1.canvas.draw()\n",
    "\n",
    "nheads_exp = []\n",
    "ntests = 200\n",
    "nflips = 50\n",
    "\n",
    "p = .5\n",
    "x = np.array(range(nflips+1))\n",
    "align='mid'\n",
    "if nflips%2==0:\n",
    "    align='left'\n",
    "for i in range(ntests):\n",
    "    iheads = get_nheads(nflips)\n",
    "    nheads_exp.append(iheads)\n",
    "\n",
    "    ax1.clear()\n",
    "    ax1.hist(nheads_exp, range=(0,nflips+1), bins = nflips+1, density=True, align=align)\n",
    "    ax1.plot(x, binom.pmf(x, nflips, p))\n",
    "    ax1.set_ylabel(\"Relative Frequency\")\n",
    "    ax1.set_xlabel(\"Number of heads\")\n",
    "    fig1.canvas.draw()\n",
    "    display.display(plt.gcf())\n",
    "    display.clear_output(wait=True)\n",
    "    time.sleep(0.03)\n"
   ]
  },
  {
   "cell_type": "markdown",
   "metadata": {},
   "source": [
    "How do you think the mean and variance of this distribution compares with our ideal case?"
   ]
  },
  {
   "cell_type": "code",
   "execution_count": 8,
   "metadata": {},
   "outputs": [
    {
     "name": "stdout",
     "output_type": "stream",
     "text": [
      "mean =  25.09\n",
      "std. dev. =  3.3811092854269\n"
     ]
    }
   ],
   "source": [
    "print(\"mean = \",np.mean(nheads_exp))\n",
    "print(\"std. dev. = \",np.std(nheads_exp))"
   ]
  },
  {
   "cell_type": "code",
   "execution_count": 9,
   "metadata": {},
   "outputs": [
    {
     "name": "stdout",
     "output_type": "stream",
     "text": [
      "True mean =  25.0\n",
      "True std =  3.5355339059327378\n"
     ]
    }
   ],
   "source": [
    "true_mean = nflips*1/2\n",
    "print(\"True mean = \",true_mean)\n",
    "true_std = np.sqrt(nflips*1/2*(1-1/2))\n",
    "print(\"True std = \",true_std)"
   ]
  },
  {
   "cell_type": "markdown",
   "metadata": {},
   "source": [
    "How different is our experimental result for the mean and standard deviation from what we expect?"
   ]
  },
  {
   "cell_type": "code",
   "execution_count": 10,
   "metadata": {},
   "outputs": [
    {
     "name": "stdout",
     "output_type": "stream",
     "text": [
      "The difference between the true and experimental mean and standard deviations are:\n",
      "0.090 and 0.154\n",
      "The percent differences are:\n",
      "0.004 and 0.044\n"
     ]
    }
   ],
   "source": [
    "mean_diff = np.abs(np.mean(nheads_exp) - true_mean)\n",
    "std_diff = np.abs(np.std(nheads_exp) - true_std)\n",
    "print(\"The difference between the true and experimental mean and standard deviations are:\")\n",
    "print(\"{:.3f} and {:.3f}\".format(mean_diff,std_diff))\n",
    "\n",
    "print(\"The percent differences are:\")\n",
    "print(\"{:.3f} and {:.3f}\".format(mean_diff/true_mean,std_diff/true_std))"
   ]
  },
  {
   "cell_type": "markdown",
   "metadata": {},
   "source": [
    "## Judging the fairness of a coin\n",
    "\n",
    "Now how can we determine if a coin is fair?"
   ]
  },
  {
   "cell_type": "code",
   "execution_count": 11,
   "metadata": {},
   "outputs": [],
   "source": [
    "def get_nheads_weighted(nflips, weight):\n",
    "    nheads = 0\n",
    "    for i in range(nflips):\n",
    "        if np.random.random() > weight:\n",
    "            nheads += 1\n",
    "    return nheads"
   ]
  },
  {
   "cell_type": "code",
   "execution_count": 12,
   "metadata": {},
   "outputs": [
    {
     "data": {
      "image/png": "[encoded data removed]",
      "text/plain": [
       "<Figure size 720x360 with 1 Axes>"
      ]
     },
     "metadata": {
      "needs_background": "light"
     },
     "output_type": "display_data"
    },
    {
     "name": "stdout",
     "output_type": "stream",
     "text": [
      "Fair coin: ave. nheads = 25.0, sigma = 3.536\n",
      "Nheads between 17 and 32 have a Prob. to be fair of 0.960\n",
      "\n",
      "\u001b[1m Number of heads = 29 \u001b[0m\n",
      "\n",
      "\u001b[1m\u001b[95m Our flip is 1.13 sigma from the fair mean. \u001b[0m\n",
      "\n"
     ]
    }
   ],
   "source": [
    "fairness_weight = 0.40\n",
    "\n",
    "nflips = 50\n",
    "\n",
    "nheads = get_nheads_weighted(nflips, fairness_weight)\n",
    "\n",
    "p = .5\n",
    "x = np.array(range(nflips+1))\n",
    "\n",
    "fig1 = plt.figure(1, figsize=(10,5))\n",
    "plt.plot(x, binom.pmf(x, nflips, p))\n",
    "plt.plot([nheads,nheads], [0,  binom.pmf(nheads, nflips, p)])\n",
    "plt.title(\"Probability distribution for number of heads from 50 coin flips\")\n",
    "plt.ylabel(\"Binomial Probability: P(x)\")\n",
    "plt.xlabel(\"number of heads: x\")\n",
    "plt.show()\n",
    "\n",
    "fair_mean = nflips*p\n",
    "fair_sigma = np.sqrt(fair_mean*(1-p))\n",
    "\n",
    "lowx = int(fair_mean-2*fair_sigma)\n",
    "highx = int(fair_mean+2*fair_sigma)\n",
    "\n",
    "bsum = 0\n",
    "for x in range(lowx, highx):\n",
    "    bsum += binom.pmf(x, nflips, p)\n",
    "\n",
    "print(\"Fair coin: ave. nheads = {}, sigma = {:.3f}\".format(fair_mean,fair_sigma))\n",
    "print(\"Nheads between {} and {} have a Prob. to be fair of {:.3f}\".format(lowx,highx,bsum))\n",
    "print(\"\")\n",
    "print('\\033[1m Number of heads = {} \\033[0m'.format(nheads))\n",
    "print(\"\")\n",
    "print(\"\\033[1m\\033[95m Our flip is {:.2f} sigma from the fair mean. \\033[0m\".format(np.abs(fair_mean-nheads)/fair_sigma))\n",
    "print(\"\")\n"
   ]
  },
  {
   "cell_type": "markdown",
   "metadata": {},
   "source": [
    "## Running many tests\n",
    "\n",
    "What if we tried running this test of our coin many times? \n",
    "\n",
    "Can we do a better job testing our coin this way?"
   ]
  },
  {
   "cell_type": "code",
   "execution_count": 13,
   "metadata": {},
   "outputs": [],
   "source": [
    "def get_tests(ntests, nflips):\n",
    "    nheads_exp = []\n",
    "    for i in range(ntests):\n",
    "        iheads = get_nheads(nflips)\n",
    "        nheads_exp.append(iheads)\n",
    "\n",
    "    return nheads_exp"
   ]
  },
  {
   "cell_type": "code",
   "execution_count": 14,
   "metadata": {},
   "outputs": [],
   "source": [
    "def get_weighted_tests(ntests, nflips, weight):\n",
    "    nheads_exp = []\n",
    "    for i in range(ntests):\n",
    "        iheads = get_nheads_weighted(nflips, weight)\n",
    "        nheads_exp.append(iheads)\n",
    "\n",
    "    return nheads_exp"
   ]
  },
  {
   "cell_type": "code",
   "execution_count": 15,
   "metadata": {},
   "outputs": [
    {
     "name": "stdout",
     "output_type": "stream",
     "text": [
      "\u001b[1m Fair coin: mean number of heads = 25.0, sigma = 3.54 \u001b[0m\n",
      "\u001b[1m Weighted coin: mean number of heads = 30.16, sigma_e = 3.78 \u001b[0m\n"
     ]
    },
    {
     "data": {
      "image/png": "[encoded data removed]",
      "text/plain": [
       "<Figure size 720x360 with 1 Axes>"
      ]
     },
     "metadata": {
      "needs_background": "light"
     },
     "output_type": "display_data"
    }
   ],
   "source": [
    "fairness_weight = 0.4\n",
    "\n",
    "nflips = 50\n",
    "ntests = 100\n",
    "\n",
    "nheads = get_weighted_tests(ntests, nflips, fairness_weight)\n",
    "nheads_f = get_tests(ntests, nflips)\n",
    "\n",
    "p = .5\n",
    "x = np.array(range(nflips+1))\n",
    "fig1 = plt.figure(1, figsize=(10,5))\n",
    "plt.hist(nheads,density=True, label=\"F(x) - weighted\", alpha = 0.75)\n",
    "plt.hist(nheads_f,density=True, label=\"F(x) - fair\", alpha = 0.75)\n",
    "#plt.plot(x, binom.pmf(x, nflips, p), label=\"P(x)\")\n",
    "plt.ylabel(\"Frequency: F(x)\")\n",
    "plt.xlabel(\"number of heads: x\")\n",
    "plt.xlim(int(fair_mean-10*fair_sigma),int(fair_mean+10*fair_sigma))\n",
    "plt.legend()\n",
    "\n",
    "fair_mean = nflips*p\n",
    "fair_sigma = np.sqrt(fair_mean*(1-p))\n",
    "\n",
    "print(\"\\033[1m Fair coin: mean number of heads = {:.1f}, sigma = {:.2f} \\033[0m\".format(fair_mean,fair_sigma))\n",
    "print(\"\\033[1m Weighted coin: mean number of heads = {:.2f}, sigma_e = {:.2f} \\033[0m\".format(np.mean(nheads),np.std(nheads)))\n",
    "plt.show()\n",
    "\n"
   ]
  },
  {
   "cell_type": "markdown",
   "metadata": {},
   "source": [
    "## Running many experiments (each experiment being many tests)\n",
    "\n",
    "What does the distribution of the means look like? Can we state the uncertainty on the mean, and can that tell us if a coin is fair or not?\n"
   ]
  },
  {
   "cell_type": "code",
   "execution_count": 16,
   "metadata": {},
   "outputs": [
    {
     "name": "stdout",
     "output_type": "stream",
     "text": [
      "\u001b[1m Mean of the mean number of heads = 25.04 +/- 0.39 \u001b[0m\n"
     ]
    },
    {
     "data": {
      "image/png": "[encoded data removed]",
      "text/plain": [
       "<Figure size 720x360 with 1 Axes>"
      ]
     },
     "metadata": {
      "needs_background": "light"
     },
     "output_type": "display_data"
    }
   ],
   "source": [
    "ntests = 100\n",
    "nflips = 50\n",
    "test_means = []\n",
    "nexperiments = 100\n",
    "\n",
    "for i in range(nexperiments):\n",
    "    nheads_exp = get_tests(ntests, nflips)\n",
    "    test_means.append(np.mean(nheads_exp))\n",
    "\n",
    "mu = np.mean(test_means)\n",
    "sigma = np.std(test_means)\n",
    "x = np.linspace(mu - 5*sigma, mu + 5*sigma, 100)\n",
    "y=norm.pdf(x, mu, sigma)\n",
    "\n",
    "print(\"\\033[1m Mean of the mean number of heads = {:.2f} +/- {:.2f} \\033[0m\".format(mu,sigma))\n",
    "\n",
    "fig1 = plt.figure(1, figsize=(10,5))\n",
    "plt.hist(test_means, bins = nflips, density=True, label=\"F(x)\")\n",
    "plt.plot(x,y, label=\"P(x)\")\n",
    "plt.title(\"Distribution of experimental means for a fair coin\")\n",
    "plt.ylabel(\"Frequency\")\n",
    "plt.xlabel(\"Experimental mean\")\n",
    "plt.legend()\n",
    "plt.show()\n"
   ]
  },
  {
   "cell_type": "code",
   "execution_count": 17,
   "metadata": {},
   "outputs": [
    {
     "data": {
      "image/png": "[encoded data removed]",
      "text/plain": [
       "<Figure size 720x360 with 1 Axes>"
      ]
     },
     "metadata": {
      "needs_background": "light"
     },
     "output_type": "display_data"
    },
    {
     "name": "stdout",
     "output_type": "stream",
     "text": [
      "\u001b[1m Mean of the mean number of heads = 27.60 +/- 0.33 \u001b[0m\n"
     ]
    }
   ],
   "source": [
    "ntests = 100\n",
    "nflips = 50\n",
    "wtest_means = []\n",
    "nexperiments = 100\n",
    "\n",
    "weight = 0.45\n",
    "\n",
    "for i in range(nexperiments):\n",
    "    nheads_exp = get_weighted_tests(ntests, nflips, weight)\n",
    "    wtest_means.append(np.mean(nheads_exp))\n",
    "\n",
    "\n",
    "wmu = np.mean(wtest_means)\n",
    "wsigma = np.std(wtest_means)\n",
    "wx = np.linspace(wmu - 5*wsigma, wmu + 5*wsigma, 100)\n",
    "wy=norm.pdf(wx, wmu, wsigma)\n",
    "fig1 = plt.figure(1, figsize=(10,5))\n",
    "plt.hist(test_means, bins = nflips, density=True, label=\"F(x)-fair\")\n",
    "plt.hist(wtest_means, bins = nflips, density=True, label=\"F(x)-test\")\n",
    "plt.plot(x,y, label=\"P(x)-fair\")\n",
    "plt.plot(wx,wy, label=\"P(x)-test\")\n",
    "plt.title(\"Distribution of experimental means for a weighted coin\")\n",
    "plt.ylabel(\"Frequency\")\n",
    "plt.xlabel(\"Experimental mean\")\n",
    "plt.legend()\n",
    "plt.show()\n",
    "\n",
    "print(\"\\033[1m Mean of the mean number of heads = {:.2f} +/- {:.2f} \\033[0m\".format(wmu,wsigma))\n"
   ]
  },
  {
   "cell_type": "code",
   "execution_count": 18,
   "metadata": {},
   "outputs": [
    {
     "name": "stdout",
     "output_type": "stream",
     "text": [
      "\u001b[1m The two distributions differ by 6.51 sigma.\u001b[0m\n"
     ]
    }
   ],
   "source": [
    "separation = np.abs(mu - wmu)/sigma\n",
    "print(\"\\033[1m The two distributions differ by {:.2f} sigma.\\033[0m\".format(separation))"
   ]
  },
  {
   "cell_type": "markdown",
   "metadata": {},
   "source": [
    "### Question from class:\n",
    "\n",
    "**Can't we just flip the coin more times and learn the same thing?**\n",
    "\n",
    "**Answer:** Yes, in this simple example we can. We can see how this works with an example.\n",
    "\n"
   ]
  },
  {
   "cell_type": "code",
   "execution_count": 25,
   "metadata": {},
   "outputs": [],
   "source": [
    "def get_binom(prob, N):\n",
    "    x = N*prob\n",
    "    sig = np.sqrt(N*prob*(1-prob))\n",
    "    return x,sig"
   ]
  },
  {
   "cell_type": "code",
   "execution_count": 30,
   "metadata": {},
   "outputs": [
    {
     "name": "stdout",
     "output_type": "stream",
     "text": [
      "The fair coin would have a mean of 25.0 and sigma of 3.54.\n",
      "The weighted coin would have a mean of 20.0 and sigma of 3.46.\n",
      "They differ by 1.41 sigma.\n"
     ]
    }
   ],
   "source": [
    "N = 50\n",
    "fair = get_binom(0.5,N)\n",
    "weight = get_binom(0.4,N)\n",
    "print(\"The fair coin would have a mean of {} and sigma of {:.2f}.\".format(fair[0],fair[1]))\n",
    "print(\"The weighted coin would have a mean of {} and sigma of {:.2f}.\".format(weight[0],weight[1]))\n",
    "sep = (fair[0] - weight[0])/fair[1]\n",
    "print(\"They differ by {:.2f} sigma.\".format(sep))"
   ]
  },
  {
   "cell_type": "markdown",
   "metadata": {},
   "source": [
    "This was what we saw before, we can't really say that the weighted coin is unlikely to be fair with a high probability after 50 coin flips. There would be a >5% probability that the weighted coin is fair if we got these results experimentally.\n",
    "\n",
    "What if we just toss the coin 5000 times?"
   ]
  },
  {
   "cell_type": "code",
   "execution_count": 31,
   "metadata": {},
   "outputs": [
    {
     "name": "stdout",
     "output_type": "stream",
     "text": [
      "The fair coin would have a mean of 2500.0 and sigma of 35.36.\n",
      "The weighted coin would have a mean of 2000.0 and sigma of 34.64.\n",
      "They differ by 14.14 sigma.\n"
     ]
    }
   ],
   "source": [
    "N = 5000\n",
    "fair = get_binom(0.5,N)\n",
    "weight = get_binom(0.4,N)\n",
    "print(\"The fair coin would have a mean of {} and sigma of {:.2f}.\".format(fair[0],fair[1]))\n",
    "print(\"The weighted coin would have a mean of {} and sigma of {:.2f}.\".format(weight[0],weight[1]))\n",
    "sep = (fair[0] - weight[0])/fair[1]\n",
    "print(\"They differ by {:.2f} sigma.\".format(sep))"
   ]
  },
  {
   "cell_type": "markdown",
   "metadata": {},
   "source": [
    "Now the two coins would clearly differ by many sigma in almost all experiments! So we even run many experiments?\n",
    "\n",
    "This simple coin-flip example is just to illustrate this much more fundamental property that measured parameters (mean and sigma) of a probability distribution will tend towards a Gaussian distribution will a well defined uncertainty the more we sample from them."
   ]
  }
 ],
 "metadata": {
  "kernelspec": {
   "display_name": "Python 3 (ipykernel)",
   "language": "python",
   "name": "python3"
  },
  "language_info": {
   "codemirror_mode": {
    "name": "ipython",
    "version": 3
   },
   "file_extension": ".py",
   "mimetype": "text/x-python",
   "name": "python",
   "nbconvert_exporter": "python",
   "pygments_lexer": "ipython3",
   "version": "3.7.12"
  }
 },
 "nbformat": 4,
 "nbformat_minor": 4
}
